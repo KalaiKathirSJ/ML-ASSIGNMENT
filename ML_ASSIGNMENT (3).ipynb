{
  "nbformat": 4,
  "nbformat_minor": 0,
  "metadata": {
    "colab": {
      "provenance": []
    },
    "kernelspec": {
      "name": "python3",
      "display_name": "Python 3"
    },
    "language_info": {
      "name": "python"
    }
  },
  "cells": [
    {
      "cell_type": "code",
      "execution_count": 39,
      "metadata": {
        "id": "tHkJjkEAecKN"
      },
      "outputs": [],
      "source": [
        "import numpy as np\n",
        "import pandas as pd\n",
        "import matplotlib.pyplot as plt"
      ]
    },
    {
      "cell_type": "code",
      "source": [
        "df=pd.read_csv(\"/content/bill.csv\")"
      ],
      "metadata": {
        "id": "kiYWNmumem0E"
      },
      "execution_count": 58,
      "outputs": []
    },
    {
      "cell_type": "code",
      "source": [
        "df.head()"
      ],
      "metadata": {
        "colab": {
          "base_uri": "https://localhost:8080/",
          "height": 206
        },
        "id": "kJo4I01zemob",
        "outputId": "82a286c6-dbcd-46a7-f6c8-b06a270cc61d"
      },
      "execution_count": 59,
      "outputs": [
        {
          "output_type": "execute_result",
          "data": {
            "text/plain": [
              "   Variance  Skewness  Curtosis  Entropy  Class\n",
              "0   3.62160    8.6661   -2.8073 -0.44699      0\n",
              "1   4.54590    8.1674   -2.4586 -1.46210      0\n",
              "2   3.86600   -2.6383    1.9242  0.10645      0\n",
              "3   3.45660    9.5228   -4.0112 -3.59440      0\n",
              "4   0.32924   -4.4552    4.5718 -0.98880      0"
            ],
            "text/html": [
              "\n",
              "  <div id=\"df-48a4b6a7-2015-4fb6-89e0-09524ab44c7f\">\n",
              "    <div class=\"colab-df-container\">\n",
              "      <div>\n",
              "<style scoped>\n",
              "    .dataframe tbody tr th:only-of-type {\n",
              "        vertical-align: middle;\n",
              "    }\n",
              "\n",
              "    .dataframe tbody tr th {\n",
              "        vertical-align: top;\n",
              "    }\n",
              "\n",
              "    .dataframe thead th {\n",
              "        text-align: right;\n",
              "    }\n",
              "</style>\n",
              "<table border=\"1\" class=\"dataframe\">\n",
              "  <thead>\n",
              "    <tr style=\"text-align: right;\">\n",
              "      <th></th>\n",
              "      <th>Variance</th>\n",
              "      <th>Skewness</th>\n",
              "      <th>Curtosis</th>\n",
              "      <th>Entropy</th>\n",
              "      <th>Class</th>\n",
              "    </tr>\n",
              "  </thead>\n",
              "  <tbody>\n",
              "    <tr>\n",
              "      <th>0</th>\n",
              "      <td>3.62160</td>\n",
              "      <td>8.6661</td>\n",
              "      <td>-2.8073</td>\n",
              "      <td>-0.44699</td>\n",
              "      <td>0</td>\n",
              "    </tr>\n",
              "    <tr>\n",
              "      <th>1</th>\n",
              "      <td>4.54590</td>\n",
              "      <td>8.1674</td>\n",
              "      <td>-2.4586</td>\n",
              "      <td>-1.46210</td>\n",
              "      <td>0</td>\n",
              "    </tr>\n",
              "    <tr>\n",
              "      <th>2</th>\n",
              "      <td>3.86600</td>\n",
              "      <td>-2.6383</td>\n",
              "      <td>1.9242</td>\n",
              "      <td>0.10645</td>\n",
              "      <td>0</td>\n",
              "    </tr>\n",
              "    <tr>\n",
              "      <th>3</th>\n",
              "      <td>3.45660</td>\n",
              "      <td>9.5228</td>\n",
              "      <td>-4.0112</td>\n",
              "      <td>-3.59440</td>\n",
              "      <td>0</td>\n",
              "    </tr>\n",
              "    <tr>\n",
              "      <th>4</th>\n",
              "      <td>0.32924</td>\n",
              "      <td>-4.4552</td>\n",
              "      <td>4.5718</td>\n",
              "      <td>-0.98880</td>\n",
              "      <td>0</td>\n",
              "    </tr>\n",
              "  </tbody>\n",
              "</table>\n",
              "</div>\n",
              "      <button class=\"colab-df-convert\" onclick=\"convertToInteractive('df-48a4b6a7-2015-4fb6-89e0-09524ab44c7f')\"\n",
              "              title=\"Convert this dataframe to an interactive table.\"\n",
              "              style=\"display:none;\">\n",
              "        \n",
              "  <svg xmlns=\"http://www.w3.org/2000/svg\" height=\"24px\"viewBox=\"0 0 24 24\"\n",
              "       width=\"24px\">\n",
              "    <path d=\"M0 0h24v24H0V0z\" fill=\"none\"/>\n",
              "    <path d=\"M18.56 5.44l.94 2.06.94-2.06 2.06-.94-2.06-.94-.94-2.06-.94 2.06-2.06.94zm-11 1L8.5 8.5l.94-2.06 2.06-.94-2.06-.94L8.5 2.5l-.94 2.06-2.06.94zm10 10l.94 2.06.94-2.06 2.06-.94-2.06-.94-.94-2.06-.94 2.06-2.06.94z\"/><path d=\"M17.41 7.96l-1.37-1.37c-.4-.4-.92-.59-1.43-.59-.52 0-1.04.2-1.43.59L10.3 9.45l-7.72 7.72c-.78.78-.78 2.05 0 2.83L4 21.41c.39.39.9.59 1.41.59.51 0 1.02-.2 1.41-.59l7.78-7.78 2.81-2.81c.8-.78.8-2.07 0-2.86zM5.41 20L4 18.59l7.72-7.72 1.47 1.35L5.41 20z\"/>\n",
              "  </svg>\n",
              "      </button>\n",
              "      \n",
              "  <style>\n",
              "    .colab-df-container {\n",
              "      display:flex;\n",
              "      flex-wrap:wrap;\n",
              "      gap: 12px;\n",
              "    }\n",
              "\n",
              "    .colab-df-convert {\n",
              "      background-color: #E8F0FE;\n",
              "      border: none;\n",
              "      border-radius: 50%;\n",
              "      cursor: pointer;\n",
              "      display: none;\n",
              "      fill: #1967D2;\n",
              "      height: 32px;\n",
              "      padding: 0 0 0 0;\n",
              "      width: 32px;\n",
              "    }\n",
              "\n",
              "    .colab-df-convert:hover {\n",
              "      background-color: #E2EBFA;\n",
              "      box-shadow: 0px 1px 2px rgba(60, 64, 67, 0.3), 0px 1px 3px 1px rgba(60, 64, 67, 0.15);\n",
              "      fill: #174EA6;\n",
              "    }\n",
              "\n",
              "    [theme=dark] .colab-df-convert {\n",
              "      background-color: #3B4455;\n",
              "      fill: #D2E3FC;\n",
              "    }\n",
              "\n",
              "    [theme=dark] .colab-df-convert:hover {\n",
              "      background-color: #434B5C;\n",
              "      box-shadow: 0px 1px 3px 1px rgba(0, 0, 0, 0.15);\n",
              "      filter: drop-shadow(0px 1px 2px rgba(0, 0, 0, 0.3));\n",
              "      fill: #FFFFFF;\n",
              "    }\n",
              "  </style>\n",
              "\n",
              "      <script>\n",
              "        const buttonEl =\n",
              "          document.querySelector('#df-48a4b6a7-2015-4fb6-89e0-09524ab44c7f button.colab-df-convert');\n",
              "        buttonEl.style.display =\n",
              "          google.colab.kernel.accessAllowed ? 'block' : 'none';\n",
              "\n",
              "        async function convertToInteractive(key) {\n",
              "          const element = document.querySelector('#df-48a4b6a7-2015-4fb6-89e0-09524ab44c7f');\n",
              "          const dataTable =\n",
              "            await google.colab.kernel.invokeFunction('convertToInteractive',\n",
              "                                                     [key], {});\n",
              "          if (!dataTable) return;\n",
              "\n",
              "          const docLinkHtml = 'Like what you see? Visit the ' +\n",
              "            '<a target=\"_blank\" href=https://colab.research.google.com/notebooks/data_table.ipynb>data table notebook</a>'\n",
              "            + ' to learn more about interactive tables.';\n",
              "          element.innerHTML = '';\n",
              "          dataTable['output_type'] = 'display_data';\n",
              "          await google.colab.output.renderOutput(dataTable, element);\n",
              "          const docLink = document.createElement('div');\n",
              "          docLink.innerHTML = docLinkHtml;\n",
              "          element.appendChild(docLink);\n",
              "        }\n",
              "      </script>\n",
              "    </div>\n",
              "  </div>\n",
              "  "
            ]
          },
          "metadata": {},
          "execution_count": 59
        }
      ]
    },
    {
      "cell_type": "code",
      "source": [
        "df.info()"
      ],
      "metadata": {
        "colab": {
          "base_uri": "https://localhost:8080/"
        },
        "id": "D5Qcng_YemXk",
        "outputId": "3b51d530-22ad-4ad4-91d0-7125ea31b93b"
      },
      "execution_count": 42,
      "outputs": [
        {
          "output_type": "stream",
          "name": "stdout",
          "text": [
            "<class 'pandas.core.frame.DataFrame'>\n",
            "RangeIndex: 18776 entries, 0 to 18775\n",
            "Data columns (total 8 columns):\n",
            " #   Column  Non-Null Count  Dtype  \n",
            "---  ------  --------------  -----  \n",
            " 0   co      18776 non-null  float64\n",
            " 1   no      18776 non-null  float64\n",
            " 2   no2     18776 non-null  float64\n",
            " 3   o3      18776 non-null  float64\n",
            " 4   so2     18776 non-null  float64\n",
            " 5   pm2_5   18776 non-null  float64\n",
            " 6   pm10    18776 non-null  float64\n",
            " 7   nh3     18776 non-null  float64\n",
            "dtypes: float64(8)\n",
            "memory usage: 1.1 MB\n"
          ]
        }
      ]
    },
    {
      "cell_type": "code",
      "source": [
        "df.describe()"
      ],
      "metadata": {
        "colab": {
          "base_uri": "https://localhost:8080/",
          "height": 300
        },
        "id": "4qumtC12emLV",
        "outputId": "dbfd850b-afe7-4dae-9cfa-7f2c6b1f5338"
      },
      "execution_count": 44,
      "outputs": [
        {
          "output_type": "execute_result",
          "data": {
            "text/plain": [
              "                 co            no           no2            o3           so2  \\\n",
              "count  18776.000000  18776.000000  18776.000000  18776.000000  18776.000000   \n",
              "mean    2929.228628     33.660702     66.221299     60.346239     66.693633   \n",
              "std     2854.523506     62.127118     48.527492     80.464932     49.439191   \n",
              "min      260.350000      0.000000      4.280000      0.000000      5.250000   \n",
              "25%     1068.120000      0.680000     33.930000      0.340000     34.810000   \n",
              "50%     1842.500000      5.250000     54.150000     27.180000     52.930000   \n",
              "75%     3685.000000     35.760000     83.630000     92.980000     82.020000   \n",
              "max    21148.680000    500.680000    460.620000    801.090000    579.830000   \n",
              "\n",
              "              pm2_5          pm10           nh3  \n",
              "count  18776.000000  18776.000000  18776.000000  \n",
              "mean     238.130309    300.092966     25.109815  \n",
              "std      226.533625    267.165827     26.402108  \n",
              "min       11.830000     15.070000      0.000000  \n",
              "25%       84.440000    118.797500      9.630000  \n",
              "50%      157.445000    209.705000     17.480000  \n",
              "75%      313.000000    387.965000     30.400000  \n",
              "max     1708.090000   1969.930000    287.770000  "
            ],
            "text/html": [
              "\n",
              "  <div id=\"df-a27dfdc3-3eac-4aeb-9be2-3e096433fe96\">\n",
              "    <div class=\"colab-df-container\">\n",
              "      <div>\n",
              "<style scoped>\n",
              "    .dataframe tbody tr th:only-of-type {\n",
              "        vertical-align: middle;\n",
              "    }\n",
              "\n",
              "    .dataframe tbody tr th {\n",
              "        vertical-align: top;\n",
              "    }\n",
              "\n",
              "    .dataframe thead th {\n",
              "        text-align: right;\n",
              "    }\n",
              "</style>\n",
              "<table border=\"1\" class=\"dataframe\">\n",
              "  <thead>\n",
              "    <tr style=\"text-align: right;\">\n",
              "      <th></th>\n",
              "      <th>co</th>\n",
              "      <th>no</th>\n",
              "      <th>no2</th>\n",
              "      <th>o3</th>\n",
              "      <th>so2</th>\n",
              "      <th>pm2_5</th>\n",
              "      <th>pm10</th>\n",
              "      <th>nh3</th>\n",
              "    </tr>\n",
              "  </thead>\n",
              "  <tbody>\n",
              "    <tr>\n",
              "      <th>count</th>\n",
              "      <td>18776.000000</td>\n",
              "      <td>18776.000000</td>\n",
              "      <td>18776.000000</td>\n",
              "      <td>18776.000000</td>\n",
              "      <td>18776.000000</td>\n",
              "      <td>18776.000000</td>\n",
              "      <td>18776.000000</td>\n",
              "      <td>18776.000000</td>\n",
              "    </tr>\n",
              "    <tr>\n",
              "      <th>mean</th>\n",
              "      <td>2929.228628</td>\n",
              "      <td>33.660702</td>\n",
              "      <td>66.221299</td>\n",
              "      <td>60.346239</td>\n",
              "      <td>66.693633</td>\n",
              "      <td>238.130309</td>\n",
              "      <td>300.092966</td>\n",
              "      <td>25.109815</td>\n",
              "    </tr>\n",
              "    <tr>\n",
              "      <th>std</th>\n",
              "      <td>2854.523506</td>\n",
              "      <td>62.127118</td>\n",
              "      <td>48.527492</td>\n",
              "      <td>80.464932</td>\n",
              "      <td>49.439191</td>\n",
              "      <td>226.533625</td>\n",
              "      <td>267.165827</td>\n",
              "      <td>26.402108</td>\n",
              "    </tr>\n",
              "    <tr>\n",
              "      <th>min</th>\n",
              "      <td>260.350000</td>\n",
              "      <td>0.000000</td>\n",
              "      <td>4.280000</td>\n",
              "      <td>0.000000</td>\n",
              "      <td>5.250000</td>\n",
              "      <td>11.830000</td>\n",
              "      <td>15.070000</td>\n",
              "      <td>0.000000</td>\n",
              "    </tr>\n",
              "    <tr>\n",
              "      <th>25%</th>\n",
              "      <td>1068.120000</td>\n",
              "      <td>0.680000</td>\n",
              "      <td>33.930000</td>\n",
              "      <td>0.340000</td>\n",
              "      <td>34.810000</td>\n",
              "      <td>84.440000</td>\n",
              "      <td>118.797500</td>\n",
              "      <td>9.630000</td>\n",
              "    </tr>\n",
              "    <tr>\n",
              "      <th>50%</th>\n",
              "      <td>1842.500000</td>\n",
              "      <td>5.250000</td>\n",
              "      <td>54.150000</td>\n",
              "      <td>27.180000</td>\n",
              "      <td>52.930000</td>\n",
              "      <td>157.445000</td>\n",
              "      <td>209.705000</td>\n",
              "      <td>17.480000</td>\n",
              "    </tr>\n",
              "    <tr>\n",
              "      <th>75%</th>\n",
              "      <td>3685.000000</td>\n",
              "      <td>35.760000</td>\n",
              "      <td>83.630000</td>\n",
              "      <td>92.980000</td>\n",
              "      <td>82.020000</td>\n",
              "      <td>313.000000</td>\n",
              "      <td>387.965000</td>\n",
              "      <td>30.400000</td>\n",
              "    </tr>\n",
              "    <tr>\n",
              "      <th>max</th>\n",
              "      <td>21148.680000</td>\n",
              "      <td>500.680000</td>\n",
              "      <td>460.620000</td>\n",
              "      <td>801.090000</td>\n",
              "      <td>579.830000</td>\n",
              "      <td>1708.090000</td>\n",
              "      <td>1969.930000</td>\n",
              "      <td>287.770000</td>\n",
              "    </tr>\n",
              "  </tbody>\n",
              "</table>\n",
              "</div>\n",
              "      <button class=\"colab-df-convert\" onclick=\"convertToInteractive('df-a27dfdc3-3eac-4aeb-9be2-3e096433fe96')\"\n",
              "              title=\"Convert this dataframe to an interactive table.\"\n",
              "              style=\"display:none;\">\n",
              "        \n",
              "  <svg xmlns=\"http://www.w3.org/2000/svg\" height=\"24px\"viewBox=\"0 0 24 24\"\n",
              "       width=\"24px\">\n",
              "    <path d=\"M0 0h24v24H0V0z\" fill=\"none\"/>\n",
              "    <path d=\"M18.56 5.44l.94 2.06.94-2.06 2.06-.94-2.06-.94-.94-2.06-.94 2.06-2.06.94zm-11 1L8.5 8.5l.94-2.06 2.06-.94-2.06-.94L8.5 2.5l-.94 2.06-2.06.94zm10 10l.94 2.06.94-2.06 2.06-.94-2.06-.94-.94-2.06-.94 2.06-2.06.94z\"/><path d=\"M17.41 7.96l-1.37-1.37c-.4-.4-.92-.59-1.43-.59-.52 0-1.04.2-1.43.59L10.3 9.45l-7.72 7.72c-.78.78-.78 2.05 0 2.83L4 21.41c.39.39.9.59 1.41.59.51 0 1.02-.2 1.41-.59l7.78-7.78 2.81-2.81c.8-.78.8-2.07 0-2.86zM5.41 20L4 18.59l7.72-7.72 1.47 1.35L5.41 20z\"/>\n",
              "  </svg>\n",
              "      </button>\n",
              "      \n",
              "  <style>\n",
              "    .colab-df-container {\n",
              "      display:flex;\n",
              "      flex-wrap:wrap;\n",
              "      gap: 12px;\n",
              "    }\n",
              "\n",
              "    .colab-df-convert {\n",
              "      background-color: #E8F0FE;\n",
              "      border: none;\n",
              "      border-radius: 50%;\n",
              "      cursor: pointer;\n",
              "      display: none;\n",
              "      fill: #1967D2;\n",
              "      height: 32px;\n",
              "      padding: 0 0 0 0;\n",
              "      width: 32px;\n",
              "    }\n",
              "\n",
              "    .colab-df-convert:hover {\n",
              "      background-color: #E2EBFA;\n",
              "      box-shadow: 0px 1px 2px rgba(60, 64, 67, 0.3), 0px 1px 3px 1px rgba(60, 64, 67, 0.15);\n",
              "      fill: #174EA6;\n",
              "    }\n",
              "\n",
              "    [theme=dark] .colab-df-convert {\n",
              "      background-color: #3B4455;\n",
              "      fill: #D2E3FC;\n",
              "    }\n",
              "\n",
              "    [theme=dark] .colab-df-convert:hover {\n",
              "      background-color: #434B5C;\n",
              "      box-shadow: 0px 1px 3px 1px rgba(0, 0, 0, 0.15);\n",
              "      filter: drop-shadow(0px 1px 2px rgba(0, 0, 0, 0.3));\n",
              "      fill: #FFFFFF;\n",
              "    }\n",
              "  </style>\n",
              "\n",
              "      <script>\n",
              "        const buttonEl =\n",
              "          document.querySelector('#df-a27dfdc3-3eac-4aeb-9be2-3e096433fe96 button.colab-df-convert');\n",
              "        buttonEl.style.display =\n",
              "          google.colab.kernel.accessAllowed ? 'block' : 'none';\n",
              "\n",
              "        async function convertToInteractive(key) {\n",
              "          const element = document.querySelector('#df-a27dfdc3-3eac-4aeb-9be2-3e096433fe96');\n",
              "          const dataTable =\n",
              "            await google.colab.kernel.invokeFunction('convertToInteractive',\n",
              "                                                     [key], {});\n",
              "          if (!dataTable) return;\n",
              "\n",
              "          const docLinkHtml = 'Like what you see? Visit the ' +\n",
              "            '<a target=\"_blank\" href=https://colab.research.google.com/notebooks/data_table.ipynb>data table notebook</a>'\n",
              "            + ' to learn more about interactive tables.';\n",
              "          element.innerHTML = '';\n",
              "          dataTable['output_type'] = 'display_data';\n",
              "          await google.colab.output.renderOutput(dataTable, element);\n",
              "          const docLink = document.createElement('div');\n",
              "          docLink.innerHTML = docLinkHtml;\n",
              "          element.appendChild(docLink);\n",
              "        }\n",
              "      </script>\n",
              "    </div>\n",
              "  </div>\n",
              "  "
            ]
          },
          "metadata": {},
          "execution_count": 44
        }
      ]
    },
    {
      "cell_type": "code",
      "source": [
        "df.isnull().sum"
      ],
      "metadata": {
        "colab": {
          "base_uri": "https://localhost:8080/"
        },
        "id": "kFlKNCP7fJ7d",
        "outputId": "10c84c12-4790-439c-9de9-d5184818a435"
      },
      "execution_count": 43,
      "outputs": [
        {
          "output_type": "execute_result",
          "data": {
            "text/plain": [
              "<bound method NDFrame._add_numeric_operations.<locals>.sum of           co     no    no2     o3    so2  pm2_5   pm10    nh3\n",
              "0      False  False  False  False  False  False  False  False\n",
              "1      False  False  False  False  False  False  False  False\n",
              "2      False  False  False  False  False  False  False  False\n",
              "3      False  False  False  False  False  False  False  False\n",
              "4      False  False  False  False  False  False  False  False\n",
              "...      ...    ...    ...    ...    ...    ...    ...    ...\n",
              "18771  False  False  False  False  False  False  False  False\n",
              "18772  False  False  False  False  False  False  False  False\n",
              "18773  False  False  False  False  False  False  False  False\n",
              "18774  False  False  False  False  False  False  False  False\n",
              "18775  False  False  False  False  False  False  False  False\n",
              "\n",
              "[18776 rows x 8 columns]>"
            ]
          },
          "metadata": {},
          "execution_count": 43
        }
      ]
    },
    {
      "cell_type": "code",
      "source": [
        "df.shape"
      ],
      "metadata": {
        "colab": {
          "base_uri": "https://localhost:8080/"
        },
        "id": "GASPWSyEfJ00",
        "outputId": "53745112-d4fc-4d5a-c803-75b7714723b7"
      },
      "execution_count": 45,
      "outputs": [
        {
          "output_type": "execute_result",
          "data": {
            "text/plain": [
              "(18776, 8)"
            ]
          },
          "metadata": {},
          "execution_count": 45
        }
      ]
    },
    {
      "cell_type": "code",
      "source": [
        "df.tail()"
      ],
      "metadata": {
        "colab": {
          "base_uri": "https://localhost:8080/",
          "height": 206
        },
        "id": "joW40wZPfJrM",
        "outputId": "d552c4b4-7dd6-453e-a578-fab5326490eb"
      },
      "execution_count": 46,
      "outputs": [
        {
          "output_type": "execute_result",
          "data": {
            "text/plain": [
              "            co    no    no2     o3     so2   pm2_5    pm10    nh3\n",
              "18771  1762.39  4.64  37.01  33.26   30.52  231.15  289.84   6.27\n",
              "18772  1735.69  6.82  34.96  46.49   34.33  225.08  280.52   9.12\n",
              "18773  1922.61  8.16  40.10  56.51   43.39  242.49  296.07  12.54\n",
              "18774  1361.85  9.05  52.78  71.53  100.14  165.67  191.82   7.47\n",
              "18775  1134.87  8.61  56.89  80.11  110.63  123.76  140.26   5.51"
            ],
            "text/html": [
              "\n",
              "  <div id=\"df-42bbdfea-d1c1-455a-9e6e-f7583843f66a\">\n",
              "    <div class=\"colab-df-container\">\n",
              "      <div>\n",
              "<style scoped>\n",
              "    .dataframe tbody tr th:only-of-type {\n",
              "        vertical-align: middle;\n",
              "    }\n",
              "\n",
              "    .dataframe tbody tr th {\n",
              "        vertical-align: top;\n",
              "    }\n",
              "\n",
              "    .dataframe thead th {\n",
              "        text-align: right;\n",
              "    }\n",
              "</style>\n",
              "<table border=\"1\" class=\"dataframe\">\n",
              "  <thead>\n",
              "    <tr style=\"text-align: right;\">\n",
              "      <th></th>\n",
              "      <th>co</th>\n",
              "      <th>no</th>\n",
              "      <th>no2</th>\n",
              "      <th>o3</th>\n",
              "      <th>so2</th>\n",
              "      <th>pm2_5</th>\n",
              "      <th>pm10</th>\n",
              "      <th>nh3</th>\n",
              "    </tr>\n",
              "  </thead>\n",
              "  <tbody>\n",
              "    <tr>\n",
              "      <th>18771</th>\n",
              "      <td>1762.39</td>\n",
              "      <td>4.64</td>\n",
              "      <td>37.01</td>\n",
              "      <td>33.26</td>\n",
              "      <td>30.52</td>\n",
              "      <td>231.15</td>\n",
              "      <td>289.84</td>\n",
              "      <td>6.27</td>\n",
              "    </tr>\n",
              "    <tr>\n",
              "      <th>18772</th>\n",
              "      <td>1735.69</td>\n",
              "      <td>6.82</td>\n",
              "      <td>34.96</td>\n",
              "      <td>46.49</td>\n",
              "      <td>34.33</td>\n",
              "      <td>225.08</td>\n",
              "      <td>280.52</td>\n",
              "      <td>9.12</td>\n",
              "    </tr>\n",
              "    <tr>\n",
              "      <th>18773</th>\n",
              "      <td>1922.61</td>\n",
              "      <td>8.16</td>\n",
              "      <td>40.10</td>\n",
              "      <td>56.51</td>\n",
              "      <td>43.39</td>\n",
              "      <td>242.49</td>\n",
              "      <td>296.07</td>\n",
              "      <td>12.54</td>\n",
              "    </tr>\n",
              "    <tr>\n",
              "      <th>18774</th>\n",
              "      <td>1361.85</td>\n",
              "      <td>9.05</td>\n",
              "      <td>52.78</td>\n",
              "      <td>71.53</td>\n",
              "      <td>100.14</td>\n",
              "      <td>165.67</td>\n",
              "      <td>191.82</td>\n",
              "      <td>7.47</td>\n",
              "    </tr>\n",
              "    <tr>\n",
              "      <th>18775</th>\n",
              "      <td>1134.87</td>\n",
              "      <td>8.61</td>\n",
              "      <td>56.89</td>\n",
              "      <td>80.11</td>\n",
              "      <td>110.63</td>\n",
              "      <td>123.76</td>\n",
              "      <td>140.26</td>\n",
              "      <td>5.51</td>\n",
              "    </tr>\n",
              "  </tbody>\n",
              "</table>\n",
              "</div>\n",
              "      <button class=\"colab-df-convert\" onclick=\"convertToInteractive('df-42bbdfea-d1c1-455a-9e6e-f7583843f66a')\"\n",
              "              title=\"Convert this dataframe to an interactive table.\"\n",
              "              style=\"display:none;\">\n",
              "        \n",
              "  <svg xmlns=\"http://www.w3.org/2000/svg\" height=\"24px\"viewBox=\"0 0 24 24\"\n",
              "       width=\"24px\">\n",
              "    <path d=\"M0 0h24v24H0V0z\" fill=\"none\"/>\n",
              "    <path d=\"M18.56 5.44l.94 2.06.94-2.06 2.06-.94-2.06-.94-.94-2.06-.94 2.06-2.06.94zm-11 1L8.5 8.5l.94-2.06 2.06-.94-2.06-.94L8.5 2.5l-.94 2.06-2.06.94zm10 10l.94 2.06.94-2.06 2.06-.94-2.06-.94-.94-2.06-.94 2.06-2.06.94z\"/><path d=\"M17.41 7.96l-1.37-1.37c-.4-.4-.92-.59-1.43-.59-.52 0-1.04.2-1.43.59L10.3 9.45l-7.72 7.72c-.78.78-.78 2.05 0 2.83L4 21.41c.39.39.9.59 1.41.59.51 0 1.02-.2 1.41-.59l7.78-7.78 2.81-2.81c.8-.78.8-2.07 0-2.86zM5.41 20L4 18.59l7.72-7.72 1.47 1.35L5.41 20z\"/>\n",
              "  </svg>\n",
              "      </button>\n",
              "      \n",
              "  <style>\n",
              "    .colab-df-container {\n",
              "      display:flex;\n",
              "      flex-wrap:wrap;\n",
              "      gap: 12px;\n",
              "    }\n",
              "\n",
              "    .colab-df-convert {\n",
              "      background-color: #E8F0FE;\n",
              "      border: none;\n",
              "      border-radius: 50%;\n",
              "      cursor: pointer;\n",
              "      display: none;\n",
              "      fill: #1967D2;\n",
              "      height: 32px;\n",
              "      padding: 0 0 0 0;\n",
              "      width: 32px;\n",
              "    }\n",
              "\n",
              "    .colab-df-convert:hover {\n",
              "      background-color: #E2EBFA;\n",
              "      box-shadow: 0px 1px 2px rgba(60, 64, 67, 0.3), 0px 1px 3px 1px rgba(60, 64, 67, 0.15);\n",
              "      fill: #174EA6;\n",
              "    }\n",
              "\n",
              "    [theme=dark] .colab-df-convert {\n",
              "      background-color: #3B4455;\n",
              "      fill: #D2E3FC;\n",
              "    }\n",
              "\n",
              "    [theme=dark] .colab-df-convert:hover {\n",
              "      background-color: #434B5C;\n",
              "      box-shadow: 0px 1px 3px 1px rgba(0, 0, 0, 0.15);\n",
              "      filter: drop-shadow(0px 1px 2px rgba(0, 0, 0, 0.3));\n",
              "      fill: #FFFFFF;\n",
              "    }\n",
              "  </style>\n",
              "\n",
              "      <script>\n",
              "        const buttonEl =\n",
              "          document.querySelector('#df-42bbdfea-d1c1-455a-9e6e-f7583843f66a button.colab-df-convert');\n",
              "        buttonEl.style.display =\n",
              "          google.colab.kernel.accessAllowed ? 'block' : 'none';\n",
              "\n",
              "        async function convertToInteractive(key) {\n",
              "          const element = document.querySelector('#df-42bbdfea-d1c1-455a-9e6e-f7583843f66a');\n",
              "          const dataTable =\n",
              "            await google.colab.kernel.invokeFunction('convertToInteractive',\n",
              "                                                     [key], {});\n",
              "          if (!dataTable) return;\n",
              "\n",
              "          const docLinkHtml = 'Like what you see? Visit the ' +\n",
              "            '<a target=\"_blank\" href=https://colab.research.google.com/notebooks/data_table.ipynb>data table notebook</a>'\n",
              "            + ' to learn more about interactive tables.';\n",
              "          element.innerHTML = '';\n",
              "          dataTable['output_type'] = 'display_data';\n",
              "          await google.colab.output.renderOutput(dataTable, element);\n",
              "          const docLink = document.createElement('div');\n",
              "          docLink.innerHTML = docLinkHtml;\n",
              "          element.appendChild(docLink);\n",
              "        }\n",
              "      </script>\n",
              "    </div>\n",
              "  </div>\n",
              "  "
            ]
          },
          "metadata": {},
          "execution_count": 46
        }
      ]
    },
    {
      "cell_type": "code",
      "source": [
        "import seaborn as sns\n",
        "from sklearn.model_selection import train_test_split\n",
        "from sklearn.preprocessing import StandardScaler\n",
        "from sklearn.tree import DecisionTreeClassifier\n",
        "from sklearn.metrics import confusion_matrix\n",
        "from sklearn.tree import export_graphviz\n",
        "import graphviz"
      ],
      "metadata": {
        "id": "bYDKlNm7fJjU"
      },
      "execution_count": 60,
      "outputs": []
    },
    {
      "cell_type": "code",
      "source": [
        "X=df.drop('Class',axis=1)\n",
        "Y=df['Class']"
      ],
      "metadata": {
        "id": "UeE5GswVfVus"
      },
      "execution_count": 63,
      "outputs": []
    },
    {
      "cell_type": "code",
      "source": [
        "plt.figure(figsize=(20,20))\n",
        "plotnumber=1\n",
        "for col in X.columns:\n",
        "  if plotnumber<=8:\n",
        "    ax=plt.subplot(5,5,plotnumber)\n",
        "    sns.boxplot(X[col])\n",
        "    plt.xlabel(col,fontsize=20)\n",
        "  plotnumber+=1\n",
        "plt.tight_layout()\n",
        "plt.show()"
      ],
      "metadata": {
        "colab": {
          "base_uri": "https://localhost:8080/",
          "height": 420
        },
        "id": "k5qe1lR_fVg_",
        "outputId": "7a1a2b97-596b-43ed-e1c6-0e41628a796b"
      },
      "execution_count": 64,
      "outputs": [
        {
          "output_type": "stream",
          "name": "stderr",
          "text": [
            "/usr/local/lib/python3.8/dist-packages/seaborn/_decorators.py:36: FutureWarning: Pass the following variable as a keyword arg: x. From version 0.12, the only valid positional argument will be `data`, and passing other arguments without an explicit keyword will result in an error or misinterpretation.\n",
            "  warnings.warn(\n",
            "/usr/local/lib/python3.8/dist-packages/seaborn/_decorators.py:36: FutureWarning: Pass the following variable as a keyword arg: x. From version 0.12, the only valid positional argument will be `data`, and passing other arguments without an explicit keyword will result in an error or misinterpretation.\n",
            "  warnings.warn(\n",
            "/usr/local/lib/python3.8/dist-packages/seaborn/_decorators.py:36: FutureWarning: Pass the following variable as a keyword arg: x. From version 0.12, the only valid positional argument will be `data`, and passing other arguments without an explicit keyword will result in an error or misinterpretation.\n",
            "  warnings.warn(\n",
            "/usr/local/lib/python3.8/dist-packages/seaborn/_decorators.py:36: FutureWarning: Pass the following variable as a keyword arg: x. From version 0.12, the only valid positional argument will be `data`, and passing other arguments without an explicit keyword will result in an error or misinterpretation.\n",
            "  warnings.warn(\n"
          ]
        },
        {
          "output_type": "display_data",
          "data": {
            "text/plain": [
              "<Figure size 1440x1440 with 4 Axes>"
            ],
            "image/png": "[encoded data removed]"
          },
          "metadata": {
            "needs_background": "light"
          }
        }
      ]
    },
    {
      "cell_type": "code",
      "source": [
        "df.isna().sum()"
      ],
      "metadata": {
        "colab": {
          "base_uri": "https://localhost:8080/"
        },
        "id": "CM0UrbFMfVbR",
        "outputId": "8d3d0832-755e-45d3-981f-de935cafde50"
      },
      "execution_count": 65,
      "outputs": [
        {
          "output_type": "execute_result",
          "data": {
            "text/plain": [
              "Variance    0\n",
              "Skewness    0\n",
              "Curtosis    0\n",
              "Entropy     0\n",
              "Class       0\n",
              "dtype: int64"
            ]
          },
          "metadata": {},
          "execution_count": 65
        }
      ]
    },
    {
      "cell_type": "code",
      "source": [
        "import missingno as mn\n",
        "mn.bar(df)\n",
        "plt.show()"
      ],
      "metadata": {
        "colab": {
          "base_uri": "https://localhost:8080/",
          "height": 437
        },
        "id": "Q45SMA0lfboB",
        "outputId": "b35b0cc1-babd-48df-c529-c9d9393c5734"
      },
      "execution_count": 51,
      "outputs": [
        {
          "output_type": "display_data",
          "data": {
            "text/plain": [
              "<Figure size 1800x720 with 3 Axes>"
            ],
            "image/png": "[encoded data removed]"
          },
          "metadata": {
            "needs_background": "light"
          }
        }
      ]
    },
    {
      "cell_type": "code",
      "source": [
        "X_train,X_test,Y_train,Y_test=train_test_split(X,Y,test_size=0.25,random_state=0)"
      ],
      "metadata": {
        "id": "S9rM2qdafbed"
      },
      "execution_count": 80,
      "outputs": []
    },
    {
      "cell_type": "code",
      "source": [
        "a=StandardScaler()\n",
        "X_train=a.fit_transform(X_train)\n",
        "X_test=a.transform(X_test)"
      ],
      "metadata": {
        "id": "B71IMkiwfbWp"
      },
      "execution_count": 81,
      "outputs": []
    },
    {
      "cell_type": "code",
      "source": [
        "clf=DecisionTreeClassifier(criterion=\"gini\",random_state=0)\n",
        "clf.fit(X_train,Y_train)"
      ],
      "metadata": {
        "colab": {
          "base_uri": "https://localhost:8080/"
        },
        "id": "3f3NZ6cLfnox",
        "outputId": "95477f4d-492c-4653-89bc-423a0e930626"
      },
      "execution_count": 82,
      "outputs": [
        {
          "output_type": "execute_result",
          "data": {
            "text/plain": [
              "DecisionTreeClassifier(random_state=0)"
            ]
          },
          "metadata": {},
          "execution_count": 82
        }
      ]
    },
    {
      "cell_type": "code",
      "source": [
        "Y_pred=clf.predict(X_test)"
      ],
      "metadata": {
        "id": "4WyFNLKwfnaZ"
      },
      "execution_count": 83,
      "outputs": []
    },
    {
      "cell_type": "code",
      "source": [
        "cm=confusion_matrix(Y_test,Y_pred)\n",
        "cm"
      ],
      "metadata": {
        "colab": {
          "base_uri": "https://localhost:8080/"
        },
        "id": "MG1hBsbUfnK0",
        "outputId": "c185c5fe-042b-4569-966d-037bf628da4b"
      },
      "execution_count": 84,
      "outputs": [
        {
          "output_type": "execute_result",
          "data": {
            "text/plain": [
              "array([[97, 16],\n",
              "       [16,  1]])"
            ]
          },
          "metadata": {},
          "execution_count": 84
        }
      ]
    },
    {
      "cell_type": "code",
      "source": [
        "from sklearn.metrics import accuracy_score"
      ],
      "metadata": {
        "id": "UQoH0EN8fm3O"
      },
      "execution_count": 85,
      "outputs": []
    },
    {
      "cell_type": "code",
      "source": [
        "accuracy_score(Y_test,Y_pred)"
      ],
      "metadata": {
        "colab": {
          "base_uri": "https://localhost:8080/"
        },
        "id": "Y7ci6-0dfwBb",
        "outputId": "58d4126a-f0f9-4237-cda9-50e248e9e836"
      },
      "execution_count": 86,
      "outputs": [
        {
          "output_type": "execute_result",
          "data": {
            "text/plain": [
              "0.7538461538461538"
            ]
          },
          "metadata": {},
          "execution_count": 86
        }
      ]
    },
    {
      "cell_type": "code",
      "source": [
        "from sklearn.tree import export_graphviz\n",
        "graphviz.Source(export_graphviz(clf,feature_names=X.columns,filled=True))"
      ],
      "metadata": {
        "colab": {
          "base_uri": "https://localhost:8080/",
          "height": 1000
        },
        "id": "vQ4AwyYBfvyq",
        "outputId": "707c0601-766c-4f4e-cfd5-445cf90a0476"
      },
      "execution_count": 73,
      "outputs": [
        {
          "output_type": "execute_result",
          "data": {
            "text/plain": [
              "<graphviz.files.Source at 0x7f7763127af0>"
            ],
            "image/svg+xml": "<?xml version=\"1.0\" encoding=\"UTF-8\" standalone=\"no\"?>\n<!DOCTYPE svg PUBLIC \"-//W3C//DTD SVG 1.1//EN\"\n \"http://www.w3.org/Graphics/SVG/1.1/DTD/svg11.dtd\">\n<!-- Generated by graphviz version 2.43.0 (0)\n -->\n<!-- Title: Tree Pages: 1 -->\n<svg width=\"1756pt\" height=\"2037pt\"\n viewBox=\"0.00 0.00 1755.50 2037.00\" xmlns=\"http://www.w3.org/2000/svg\" xmlns:xlink=\"http://www.w3.org/1999/xlink\">\n<g id=\"graph0\" class=\"graph\" transform=\"scale(1 1) rotate(0) translate(4 2033)\">\n<title>Tree</title>\n<polygon fill=\"white\" stroke=\"transparent\" points=\"-4,4 -4,-2033 1751.5,-2033 1751.5,4 -4,4\"/>\n<!-- 0 -->\n<g id=\"node1\" class=\"node\">\n<title>0</title>\n<polygon fill=\"#eb9e66\" stroke=\"black\" points=\"1160,-2029 1039,-2029 1039,-1961 1160,-1961 1160,-2029\"/>\n<text text-anchor=\"middle\" x=\"1099.5\" y=\"-2013.8\" font-family=\"Helvetica,sans-Serif\" font-size=\"14.00\">Entropy &lt;= 1.515</text>\n<text text-anchor=\"middle\" x=\"1099.5\" y=\"-1998.8\" font-family=\"Helvetica,sans-Serif\" font-size=\"14.00\">gini = 0.302</text>\n<text text-anchor=\"middle\" x=\"1099.5\" y=\"-1983.8\" font-family=\"Helvetica,sans-Serif\" font-size=\"14.00\">samples = 259</text>\n<text text-anchor=\"middle\" x=\"1099.5\" y=\"-1968.8\" font-family=\"Helvetica,sans-Serif\" font-size=\"14.00\">value = [211, 48]</text>\n</g>\n<!-- 1 -->\n<g id=\"node2\" class=\"node\">\n<title>1</title>\n<polygon fill=\"#eb9c64\" stroke=\"black\" points=\"1098.5,-1925 970.5,-1925 970.5,-1857 1098.5,-1857 1098.5,-1925\"/>\n<text text-anchor=\"middle\" x=\"1034.5\" y=\"-1909.8\" font-family=\"Helvetica,sans-Serif\" font-size=\"14.00\">Skewness &lt;= 1.18</text>\n<text text-anchor=\"middle\" x=\"1034.5\" y=\"-1894.8\" font-family=\"Helvetica,sans-Serif\" font-size=\"14.00\">gini = 0.294</text>\n<text text-anchor=\"middle\" x=\"1034.5\" y=\"-1879.8\" font-family=\"Helvetica,sans-Serif\" font-size=\"14.00\">samples = 257</text>\n<text text-anchor=\"middle\" x=\"1034.5\" y=\"-1864.8\" font-family=\"Helvetica,sans-Serif\" font-size=\"14.00\">value = [211, 46]</text>\n</g>\n<!-- 0&#45;&gt;1 -->\n<g id=\"edge1\" class=\"edge\">\n<title>0&#45;&gt;1</title>\n<path fill=\"none\" stroke=\"black\" d=\"M1078.4,-1960.88C1072.89,-1952.24 1066.88,-1942.82 1061.13,-1933.79\"/>\n<polygon fill=\"black\" stroke=\"black\" points=\"1064.05,-1931.85 1055.72,-1925.3 1058.14,-1935.61 1064.05,-1931.85\"/>\n<text text-anchor=\"middle\" x=\"1050.31\" y=\"-1946.01\" font-family=\"Helvetica,sans-Serif\" font-size=\"14.00\">True</text>\n</g>\n<!-- 114 -->\n<g id=\"node115\" class=\"node\">\n<title>114</title>\n<polygon fill=\"#399de5\" stroke=\"black\" points=\"1212,-1917.5 1117,-1917.5 1117,-1864.5 1212,-1864.5 1212,-1917.5\"/>\n<text text-anchor=\"middle\" x=\"1164.5\" y=\"-1902.3\" font-family=\"Helvetica,sans-Serif\" font-size=\"14.00\">gini = 0.0</text>\n<text text-anchor=\"middle\" x=\"1164.5\" y=\"-1887.3\" font-family=\"Helvetica,sans-Serif\" font-size=\"14.00\">samples = 2</text>\n<text text-anchor=\"middle\" x=\"1164.5\" y=\"-1872.3\" font-family=\"Helvetica,sans-Serif\" font-size=\"14.00\">value = [0, 2]</text>\n</g>\n<!-- 0&#45;&gt;114 -->\n<g id=\"edge114\" class=\"edge\">\n<title>0&#45;&gt;114</title>\n<path fill=\"none\" stroke=\"black\" d=\"M1120.6,-1960.88C1127.68,-1949.78 1135.59,-1937.37 1142.72,-1926.18\"/>\n<polygon fill=\"black\" stroke=\"black\" points=\"1145.81,-1927.83 1148.24,-1917.52 1139.91,-1924.07 1145.81,-1927.83\"/>\n<text text-anchor=\"middle\" x=\"1153.65\" y=\"-1938.23\" font-family=\"Helvetica,sans-Serif\" font-size=\"14.00\">False</text>\n</g>\n<!-- 2 -->\n<g id=\"node3\" class=\"node\">\n<title>2</title>\n<polygon fill=\"#ea995e\" stroke=\"black\" points=\"1007.5,-1821 883.5,-1821 883.5,-1753 1007.5,-1753 1007.5,-1821\"/>\n<text text-anchor=\"middle\" x=\"945.5\" y=\"-1805.8\" font-family=\"Helvetica,sans-Serif\" font-size=\"14.00\">Curtosis &lt;= 2.486</text>\n<text text-anchor=\"middle\" x=\"945.5\" y=\"-1790.8\" font-family=\"Helvetica,sans-Serif\" font-size=\"14.00\">gini = 0.265</text>\n<text text-anchor=\"middle\" x=\"945.5\" y=\"-1775.8\" font-family=\"Helvetica,sans-Serif\" font-size=\"14.00\">samples = 235</text>\n<text text-anchor=\"middle\" x=\"945.5\" y=\"-1760.8\" font-family=\"Helvetica,sans-Serif\" font-size=\"14.00\">value = [198, 37]</text>\n</g>\n<!-- 1&#45;&gt;2 -->\n<g id=\"edge2\" class=\"edge\">\n<title>1&#45;&gt;2</title>\n<path fill=\"none\" stroke=\"black\" d=\"M1005.6,-1856.88C997.83,-1847.98 989.33,-1838.24 981.24,-1828.96\"/>\n<polygon fill=\"black\" stroke=\"black\" points=\"983.77,-1826.53 974.56,-1821.3 978.49,-1831.14 983.77,-1826.53\"/>\n</g>\n<!-- 103 -->\n<g id=\"node104\" class=\"node\">\n<title>103</title>\n<polygon fill=\"#f7d8c2\" stroke=\"black\" points=\"1170.5,-1821 1042.5,-1821 1042.5,-1753 1170.5,-1753 1170.5,-1821\"/>\n<text text-anchor=\"middle\" x=\"1106.5\" y=\"-1805.8\" font-family=\"Helvetica,sans-Serif\" font-size=\"14.00\">Skewness &lt;= 1.19</text>\n<text text-anchor=\"middle\" x=\"1106.5\" y=\"-1790.8\" font-family=\"Helvetica,sans-Serif\" font-size=\"14.00\">gini = 0.483</text>\n<text text-anchor=\"middle\" x=\"1106.5\" y=\"-1775.8\" font-family=\"Helvetica,sans-Serif\" font-size=\"14.00\">samples = 22</text>\n<text text-anchor=\"middle\" x=\"1106.5\" y=\"-1760.8\" font-family=\"Helvetica,sans-Serif\" font-size=\"14.00\">value = [13, 9]</text>\n</g>\n<!-- 1&#45;&gt;103 -->\n<g id=\"edge103\" class=\"edge\">\n<title>1&#45;&gt;103</title>\n<path fill=\"none\" stroke=\"black\" d=\"M1057.88,-1856.88C1064.04,-1848.15 1070.76,-1838.62 1077.2,-1829.51\"/>\n<polygon fill=\"black\" stroke=\"black\" points=\"1080.09,-1831.49 1082.99,-1821.3 1074.37,-1827.45 1080.09,-1831.49\"/>\n</g>\n<!-- 3 -->\n<g id=\"node4\" class=\"node\">\n<title>3</title>\n<polygon fill=\"#ea985d\" stroke=\"black\" points=\"863,-1717 746,-1717 746,-1649 863,-1649 863,-1717\"/>\n<text text-anchor=\"middle\" x=\"804.5\" y=\"-1701.8\" font-family=\"Helvetica,sans-Serif\" font-size=\"14.00\">Variance &lt;= &#45;1.1</text>\n<text text-anchor=\"middle\" x=\"804.5\" y=\"-1686.8\" font-family=\"Helvetica,sans-Serif\" font-size=\"14.00\">gini = 0.26</text>\n<text text-anchor=\"middle\" x=\"804.5\" y=\"-1671.8\" font-family=\"Helvetica,sans-Serif\" font-size=\"14.00\">samples = 234</text>\n<text text-anchor=\"middle\" x=\"804.5\" y=\"-1656.8\" font-family=\"Helvetica,sans-Serif\" font-size=\"14.00\">value = [198, 36]</text>\n</g>\n<!-- 2&#45;&gt;3 -->\n<g id=\"edge3\" class=\"edge\">\n<title>2&#45;&gt;3</title>\n<path fill=\"none\" stroke=\"black\" d=\"M899.72,-1752.88C886.67,-1743.44 872.32,-1733.06 858.81,-1723.29\"/>\n<polygon fill=\"black\" stroke=\"black\" points=\"860.69,-1720.32 850.53,-1717.3 856.58,-1726 860.69,-1720.32\"/>\n</g>\n<!-- 102 -->\n<g id=\"node103\" class=\"node\">\n<title>102</title>\n<polygon fill=\"#399de5\" stroke=\"black\" points=\"993,-1709.5 898,-1709.5 898,-1656.5 993,-1656.5 993,-1709.5\"/>\n<text text-anchor=\"middle\" x=\"945.5\" y=\"-1694.3\" font-family=\"Helvetica,sans-Serif\" font-size=\"14.00\">gini = 0.0</text>\n<text text-anchor=\"middle\" x=\"945.5\" y=\"-1679.3\" font-family=\"Helvetica,sans-Serif\" font-size=\"14.00\">samples = 1</text>\n<text text-anchor=\"middle\" x=\"945.5\" y=\"-1664.3\" font-family=\"Helvetica,sans-Serif\" font-size=\"14.00\">value = [0, 1]</text>\n</g>\n<!-- 2&#45;&gt;102 -->\n<g id=\"edge102\" class=\"edge\">\n<title>2&#45;&gt;102</title>\n<path fill=\"none\" stroke=\"black\" d=\"M945.5,-1752.88C945.5,-1742.33 945.5,-1730.6 945.5,-1719.85\"/>\n<polygon fill=\"black\" stroke=\"black\" points=\"949,-1719.52 945.5,-1709.52 942,-1719.52 949,-1719.52\"/>\n</g>\n<!-- 4 -->\n<g id=\"node5\" class=\"node\">\n<title>4</title>\n<polygon fill=\"#f1bc95\" stroke=\"black\" points=\"543,-1613 418,-1613 418,-1545 543,-1545 543,-1613\"/>\n<text text-anchor=\"middle\" x=\"480.5\" y=\"-1597.8\" font-family=\"Helvetica,sans-Serif\" font-size=\"14.00\">Entropy &lt;= &#45;0.286</text>\n<text text-anchor=\"middle\" x=\"480.5\" y=\"-1582.8\" font-family=\"Helvetica,sans-Serif\" font-size=\"14.00\">gini = 0.434</text>\n<text text-anchor=\"middle\" x=\"480.5\" y=\"-1567.8\" font-family=\"Helvetica,sans-Serif\" font-size=\"14.00\">samples = 22</text>\n<text text-anchor=\"middle\" x=\"480.5\" y=\"-1552.8\" font-family=\"Helvetica,sans-Serif\" font-size=\"14.00\">value = [15, 7]</text>\n</g>\n<!-- 3&#45;&gt;4 -->\n<g id=\"edge4\" class=\"edge\">\n<title>3&#45;&gt;4</title>\n<path fill=\"none\" stroke=\"black\" d=\"M745.83,-1663.53C691.7,-1646.49 611.15,-1621.13 553.02,-1602.83\"/>\n<polygon fill=\"black\" stroke=\"black\" points=\"553.75,-1599.39 543.16,-1599.73 551.65,-1606.07 553.75,-1599.39\"/>\n</g>\n<!-- 23 -->\n<g id=\"node24\" class=\"node\">\n<title>23</title>\n<polygon fill=\"#e99558\" stroke=\"black\" points=\"865,-1613 744,-1613 744,-1545 865,-1545 865,-1613\"/>\n<text text-anchor=\"middle\" x=\"804.5\" y=\"-1597.8\" font-family=\"Helvetica,sans-Serif\" font-size=\"14.00\">Entropy &lt;= 0.268</text>\n<text text-anchor=\"middle\" x=\"804.5\" y=\"-1582.8\" font-family=\"Helvetica,sans-Serif\" font-size=\"14.00\">gini = 0.236</text>\n<text text-anchor=\"middle\" x=\"804.5\" y=\"-1567.8\" font-family=\"Helvetica,sans-Serif\" font-size=\"14.00\">samples = 212</text>\n<text text-anchor=\"middle\" x=\"804.5\" y=\"-1552.8\" font-family=\"Helvetica,sans-Serif\" font-size=\"14.00\">value = [183, 29]</text>\n</g>\n<!-- 3&#45;&gt;23 -->\n<g id=\"edge23\" class=\"edge\">\n<title>3&#45;&gt;23</title>\n<path fill=\"none\" stroke=\"black\" d=\"M804.5,-1648.88C804.5,-1640.78 804.5,-1631.98 804.5,-1623.47\"/>\n<polygon fill=\"black\" stroke=\"black\" points=\"808,-1623.3 804.5,-1613.3 801,-1623.3 808,-1623.3\"/>\n</g>\n<!-- 5 -->\n<g id=\"node6\" class=\"node\">\n<title>5</title>\n<polygon fill=\"#fbede3\" stroke=\"black\" points=\"336,-1509 211,-1509 211,-1441 336,-1441 336,-1509\"/>\n<text text-anchor=\"middle\" x=\"273.5\" y=\"-1493.8\" font-family=\"Helvetica,sans-Serif\" font-size=\"14.00\">Entropy &lt;= &#45;0.873</text>\n<text text-anchor=\"middle\" x=\"273.5\" y=\"-1478.8\" font-family=\"Helvetica,sans-Serif\" font-size=\"14.00\">gini = 0.497</text>\n<text text-anchor=\"middle\" x=\"273.5\" y=\"-1463.8\" font-family=\"Helvetica,sans-Serif\" font-size=\"14.00\">samples = 13</text>\n<text text-anchor=\"middle\" x=\"273.5\" y=\"-1448.8\" font-family=\"Helvetica,sans-Serif\" font-size=\"14.00\">value = [7, 6]</text>\n</g>\n<!-- 4&#45;&gt;5 -->\n<g id=\"edge5\" class=\"edge\">\n<title>4&#45;&gt;5</title>\n<path fill=\"none\" stroke=\"black\" d=\"M417.83,-1547.12C395.04,-1535.89 369.09,-1523.1 345.55,-1511.5\"/>\n<polygon fill=\"black\" stroke=\"black\" points=\"346.83,-1508.23 336.31,-1506.95 343.74,-1514.51 346.83,-1508.23\"/>\n</g>\n<!-- 18 -->\n<g id=\"node19\" class=\"node\">\n<title>18</title>\n<polygon fill=\"#e89152\" stroke=\"black\" points=\"550.5,-1509 410.5,-1509 410.5,-1441 550.5,-1441 550.5,-1509\"/>\n<text text-anchor=\"middle\" x=\"480.5\" y=\"-1493.8\" font-family=\"Helvetica,sans-Serif\" font-size=\"14.00\">Skewness &lt;= &#45;0.657</text>\n<text text-anchor=\"middle\" x=\"480.5\" y=\"-1478.8\" font-family=\"Helvetica,sans-Serif\" font-size=\"14.00\">gini = 0.198</text>\n<text text-anchor=\"middle\" x=\"480.5\" y=\"-1463.8\" font-family=\"Helvetica,sans-Serif\" font-size=\"14.00\">samples = 9</text>\n<text text-anchor=\"middle\" x=\"480.5\" y=\"-1448.8\" font-family=\"Helvetica,sans-Serif\" font-size=\"14.00\">value = [8, 1]</text>\n</g>\n<!-- 4&#45;&gt;18 -->\n<g id=\"edge18\" class=\"edge\">\n<title>4&#45;&gt;18</title>\n<path fill=\"none\" stroke=\"black\" d=\"M480.5,-1544.88C480.5,-1536.78 480.5,-1527.98 480.5,-1519.47\"/>\n<polygon fill=\"black\" stroke=\"black\" points=\"484,-1519.3 480.5,-1509.3 477,-1519.3 484,-1519.3\"/>\n</g>\n<!-- 6 -->\n<g id=\"node7\" class=\"node\">\n<title>6</title>\n<polygon fill=\"#f4c9aa\" stroke=\"black\" points=\"207.5,-1405 71.5,-1405 71.5,-1337 207.5,-1337 207.5,-1405\"/>\n<text text-anchor=\"middle\" x=\"139.5\" y=\"-1389.8\" font-family=\"Helvetica,sans-Serif\" font-size=\"14.00\">Skewness &lt;= 0.774</text>\n<text text-anchor=\"middle\" x=\"139.5\" y=\"-1374.8\" font-family=\"Helvetica,sans-Serif\" font-size=\"14.00\">gini = 0.463</text>\n<text text-anchor=\"middle\" x=\"139.5\" y=\"-1359.8\" font-family=\"Helvetica,sans-Serif\" font-size=\"14.00\">samples = 11</text>\n<text text-anchor=\"middle\" x=\"139.5\" y=\"-1344.8\" font-family=\"Helvetica,sans-Serif\" font-size=\"14.00\">value = [7, 4]</text>\n</g>\n<!-- 5&#45;&gt;6 -->\n<g id=\"edge6\" class=\"edge\">\n<title>5&#45;&gt;6</title>\n<path fill=\"none\" stroke=\"black\" d=\"M229.99,-1440.88C217.71,-1431.53 204.21,-1421.26 191.48,-1411.57\"/>\n<polygon fill=\"black\" stroke=\"black\" points=\"193.32,-1408.57 183.25,-1405.3 189.08,-1414.14 193.32,-1408.57\"/>\n</g>\n<!-- 17 -->\n<g id=\"node18\" class=\"node\">\n<title>17</title>\n<polygon fill=\"#399de5\" stroke=\"black\" points=\"321,-1397.5 226,-1397.5 226,-1344.5 321,-1344.5 321,-1397.5\"/>\n<text text-anchor=\"middle\" x=\"273.5\" y=\"-1382.3\" font-family=\"Helvetica,sans-Serif\" font-size=\"14.00\">gini = 0.0</text>\n<text text-anchor=\"middle\" x=\"273.5\" y=\"-1367.3\" font-family=\"Helvetica,sans-Serif\" font-size=\"14.00\">samples = 2</text>\n<text text-anchor=\"middle\" x=\"273.5\" y=\"-1352.3\" font-family=\"Helvetica,sans-Serif\" font-size=\"14.00\">value = [0, 2]</text>\n</g>\n<!-- 5&#45;&gt;17 -->\n<g id=\"edge17\" class=\"edge\">\n<title>5&#45;&gt;17</title>\n<path fill=\"none\" stroke=\"black\" d=\"M273.5,-1440.88C273.5,-1430.33 273.5,-1418.6 273.5,-1407.85\"/>\n<polygon fill=\"black\" stroke=\"black\" points=\"277,-1407.52 273.5,-1397.52 270,-1407.52 277,-1407.52\"/>\n</g>\n<!-- 7 -->\n<g id=\"node8\" class=\"node\">\n<title>7</title>\n<polygon fill=\"#e58139\" stroke=\"black\" points=\"95,-1293.5 0,-1293.5 0,-1240.5 95,-1240.5 95,-1293.5\"/>\n<text text-anchor=\"middle\" x=\"47.5\" y=\"-1278.3\" font-family=\"Helvetica,sans-Serif\" font-size=\"14.00\">gini = 0.0</text>\n<text text-anchor=\"middle\" x=\"47.5\" y=\"-1263.3\" font-family=\"Helvetica,sans-Serif\" font-size=\"14.00\">samples = 3</text>\n<text text-anchor=\"middle\" x=\"47.5\" y=\"-1248.3\" font-family=\"Helvetica,sans-Serif\" font-size=\"14.00\">value = [3, 0]</text>\n</g>\n<!-- 6&#45;&gt;7 -->\n<g id=\"edge7\" class=\"edge\">\n<title>6&#45;&gt;7</title>\n<path fill=\"none\" stroke=\"black\" d=\"M109.63,-1336.88C99.31,-1325.45 87.76,-1312.63 77.44,-1301.19\"/>\n<polygon fill=\"black\" stroke=\"black\" points=\"79.81,-1298.6 70.52,-1293.52 74.62,-1303.29 79.81,-1298.6\"/>\n</g>\n<!-- 8 -->\n<g id=\"node9\" class=\"node\">\n<title>8</title>\n<polygon fill=\"#ffffff\" stroke=\"black\" points=\"223.5,-1301 113.5,-1301 113.5,-1233 223.5,-1233 223.5,-1301\"/>\n<text text-anchor=\"middle\" x=\"168.5\" y=\"-1285.8\" font-family=\"Helvetica,sans-Serif\" font-size=\"14.00\">Entropy &lt;= &#45;1.8</text>\n<text text-anchor=\"middle\" x=\"168.5\" y=\"-1270.8\" font-family=\"Helvetica,sans-Serif\" font-size=\"14.00\">gini = 0.5</text>\n<text text-anchor=\"middle\" x=\"168.5\" y=\"-1255.8\" font-family=\"Helvetica,sans-Serif\" font-size=\"14.00\">samples = 8</text>\n<text text-anchor=\"middle\" x=\"168.5\" y=\"-1240.8\" font-family=\"Helvetica,sans-Serif\" font-size=\"14.00\">value = [4, 4]</text>\n</g>\n<!-- 6&#45;&gt;8 -->\n<g id=\"edge8\" class=\"edge\">\n<title>6&#45;&gt;8</title>\n<path fill=\"none\" stroke=\"black\" d=\"M148.92,-1336.88C151.25,-1328.69 153.78,-1319.79 156.22,-1311.19\"/>\n<polygon fill=\"black\" stroke=\"black\" points=\"159.66,-1311.88 159.03,-1301.3 152.93,-1309.96 159.66,-1311.88\"/>\n</g>\n<!-- 9 -->\n<g id=\"node10\" class=\"node\">\n<title>9</title>\n<polygon fill=\"#f2c09c\" stroke=\"black\" points=\"233.5,-1197 97.5,-1197 97.5,-1129 233.5,-1129 233.5,-1197\"/>\n<text text-anchor=\"middle\" x=\"165.5\" y=\"-1181.8\" font-family=\"Helvetica,sans-Serif\" font-size=\"14.00\">Skewness &lt;= 0.997</text>\n<text text-anchor=\"middle\" x=\"165.5\" y=\"-1166.8\" font-family=\"Helvetica,sans-Serif\" font-size=\"14.00\">gini = 0.444</text>\n<text text-anchor=\"middle\" x=\"165.5\" y=\"-1151.8\" font-family=\"Helvetica,sans-Serif\" font-size=\"14.00\">samples = 6</text>\n<text text-anchor=\"middle\" x=\"165.5\" y=\"-1136.8\" font-family=\"Helvetica,sans-Serif\" font-size=\"14.00\">value = [4, 2]</text>\n</g>\n<!-- 8&#45;&gt;9 -->\n<g id=\"edge9\" class=\"edge\">\n<title>8&#45;&gt;9</title>\n<path fill=\"none\" stroke=\"black\" d=\"M167.53,-1232.88C167.29,-1224.78 167.03,-1215.98 166.78,-1207.47\"/>\n<polygon fill=\"black\" stroke=\"black\" points=\"170.27,-1207.19 166.48,-1197.3 163.27,-1207.4 170.27,-1207.19\"/>\n</g>\n<!-- 16 -->\n<g id=\"node17\" class=\"node\">\n<title>16</title>\n<polygon fill=\"#399de5\" stroke=\"black\" points=\"347,-1189.5 252,-1189.5 252,-1136.5 347,-1136.5 347,-1189.5\"/>\n<text text-anchor=\"middle\" x=\"299.5\" y=\"-1174.3\" font-family=\"Helvetica,sans-Serif\" font-size=\"14.00\">gini = 0.0</text>\n<text text-anchor=\"middle\" x=\"299.5\" y=\"-1159.3\" font-family=\"Helvetica,sans-Serif\" font-size=\"14.00\">samples = 2</text>\n<text text-anchor=\"middle\" x=\"299.5\" y=\"-1144.3\" font-family=\"Helvetica,sans-Serif\" font-size=\"14.00\">value = [0, 2]</text>\n</g>\n<!-- 8&#45;&gt;16 -->\n<g id=\"edge16\" class=\"edge\">\n<title>8&#45;&gt;16</title>\n<path fill=\"none\" stroke=\"black\" d=\"M211.03,-1232.88C226.29,-1221.01 243.44,-1207.65 258.56,-1195.88\"/>\n<polygon fill=\"black\" stroke=\"black\" points=\"260.98,-1198.43 266.72,-1189.52 256.68,-1192.9 260.98,-1198.43\"/>\n</g>\n<!-- 10 -->\n<g id=\"node11\" class=\"node\">\n<title>10</title>\n<polygon fill=\"#ffffff\" stroke=\"black\" points=\"209,-1093 78,-1093 78,-1025 209,-1025 209,-1093\"/>\n<text text-anchor=\"middle\" x=\"143.5\" y=\"-1077.8\" font-family=\"Helvetica,sans-Serif\" font-size=\"14.00\">Variance &lt;= &#45;1.498</text>\n<text text-anchor=\"middle\" x=\"143.5\" y=\"-1062.8\" font-family=\"Helvetica,sans-Serif\" font-size=\"14.00\">gini = 0.5</text>\n<text text-anchor=\"middle\" x=\"143.5\" y=\"-1047.8\" font-family=\"Helvetica,sans-Serif\" font-size=\"14.00\">samples = 4</text>\n<text text-anchor=\"middle\" x=\"143.5\" y=\"-1032.8\" font-family=\"Helvetica,sans-Serif\" font-size=\"14.00\">value = [2, 2]</text>\n</g>\n<!-- 9&#45;&gt;10 -->\n<g id=\"edge10\" class=\"edge\">\n<title>9&#45;&gt;10</title>\n<path fill=\"none\" stroke=\"black\" d=\"M158.36,-1128.88C156.59,-1120.69 154.67,-1111.79 152.82,-1103.19\"/>\n<polygon fill=\"black\" stroke=\"black\" points=\"156.21,-1102.34 150.68,-1093.3 149.37,-1103.81 156.21,-1102.34\"/>\n</g>\n<!-- 15 -->\n<g id=\"node16\" class=\"node\">\n<title>15</title>\n<polygon fill=\"#e58139\" stroke=\"black\" points=\"322,-1085.5 227,-1085.5 227,-1032.5 322,-1032.5 322,-1085.5\"/>\n<text text-anchor=\"middle\" x=\"274.5\" y=\"-1070.3\" font-family=\"Helvetica,sans-Serif\" font-size=\"14.00\">gini = 0.0</text>\n<text text-anchor=\"middle\" x=\"274.5\" y=\"-1055.3\" font-family=\"Helvetica,sans-Serif\" font-size=\"14.00\">samples = 2</text>\n<text text-anchor=\"middle\" x=\"274.5\" y=\"-1040.3\" font-family=\"Helvetica,sans-Serif\" font-size=\"14.00\">value = [2, 0]</text>\n</g>\n<!-- 9&#45;&gt;15 -->\n<g id=\"edge15\" class=\"edge\">\n<title>9&#45;&gt;15</title>\n<path fill=\"none\" stroke=\"black\" d=\"M200.89,-1128.88C213.35,-1117.23 227.33,-1104.14 239.74,-1092.53\"/>\n<polygon fill=\"black\" stroke=\"black\" points=\"242.32,-1094.91 247.23,-1085.52 237.54,-1089.8 242.32,-1094.91\"/>\n</g>\n<!-- 11 -->\n<g id=\"node12\" class=\"node\">\n<title>11</title>\n<polygon fill=\"#399de5\" stroke=\"black\" points=\"181,-981.5 86,-981.5 86,-928.5 181,-928.5 181,-981.5\"/>\n<text text-anchor=\"middle\" x=\"133.5\" y=\"-966.3\" font-family=\"Helvetica,sans-Serif\" font-size=\"14.00\">gini = 0.0</text>\n<text text-anchor=\"middle\" x=\"133.5\" y=\"-951.3\" font-family=\"Helvetica,sans-Serif\" font-size=\"14.00\">samples = 1</text>\n<text text-anchor=\"middle\" x=\"133.5\" y=\"-936.3\" font-family=\"Helvetica,sans-Serif\" font-size=\"14.00\">value = [0, 1]</text>\n</g>\n<!-- 10&#45;&gt;11 -->\n<g id=\"edge11\" class=\"edge\">\n<title>10&#45;&gt;11</title>\n<path fill=\"none\" stroke=\"black\" d=\"M140.25,-1024.88C139.21,-1014.22 138.04,-1002.35 136.98,-991.52\"/>\n<polygon fill=\"black\" stroke=\"black\" points=\"140.46,-991.13 136,-981.52 133.49,-991.81 140.46,-991.13\"/>\n</g>\n<!-- 12 -->\n<g id=\"node13\" class=\"node\">\n<title>12</title>\n<polygon fill=\"#f2c09c\" stroke=\"black\" points=\"335.5,-989 199.5,-989 199.5,-921 335.5,-921 335.5,-989\"/>\n<text text-anchor=\"middle\" x=\"267.5\" y=\"-973.8\" font-family=\"Helvetica,sans-Serif\" font-size=\"14.00\">Skewness &lt;= 0.907</text>\n<text text-anchor=\"middle\" x=\"267.5\" y=\"-958.8\" font-family=\"Helvetica,sans-Serif\" font-size=\"14.00\">gini = 0.444</text>\n<text text-anchor=\"middle\" x=\"267.5\" y=\"-943.8\" font-family=\"Helvetica,sans-Serif\" font-size=\"14.00\">samples = 3</text>\n<text text-anchor=\"middle\" x=\"267.5\" y=\"-928.8\" font-family=\"Helvetica,sans-Serif\" font-size=\"14.00\">value = [2, 1]</text>\n</g>\n<!-- 10&#45;&gt;12 -->\n<g id=\"edge12\" class=\"edge\">\n<title>10&#45;&gt;12</title>\n<path fill=\"none\" stroke=\"black\" d=\"M183.76,-1024.88C195.02,-1015.62 207.38,-1005.45 219.06,-995.85\"/>\n<polygon fill=\"black\" stroke=\"black\" points=\"221.52,-998.36 227.02,-989.3 217.07,-992.95 221.52,-998.36\"/>\n</g>\n<!-- 13 -->\n<g id=\"node14\" class=\"node\">\n<title>13</title>\n<polygon fill=\"#ffffff\" stroke=\"black\" points=\"282,-877.5 187,-877.5 187,-824.5 282,-824.5 282,-877.5\"/>\n<text text-anchor=\"middle\" x=\"234.5\" y=\"-862.3\" font-family=\"Helvetica,sans-Serif\" font-size=\"14.00\">gini = 0.5</text>\n<text text-anchor=\"middle\" x=\"234.5\" y=\"-847.3\" font-family=\"Helvetica,sans-Serif\" font-size=\"14.00\">samples = 2</text>\n<text text-anchor=\"middle\" x=\"234.5\" y=\"-832.3\" font-family=\"Helvetica,sans-Serif\" font-size=\"14.00\">value = [1, 1]</text>\n</g>\n<!-- 12&#45;&gt;13 -->\n<g id=\"edge13\" class=\"edge\">\n<title>12&#45;&gt;13</title>\n<path fill=\"none\" stroke=\"black\" d=\"M256.79,-920.88C253.3,-910.11 249.42,-898.11 245.88,-887.18\"/>\n<polygon fill=\"black\" stroke=\"black\" points=\"249.16,-885.96 242.76,-877.52 242.5,-888.11 249.16,-885.96\"/>\n</g>\n<!-- 14 -->\n<g id=\"node15\" class=\"node\">\n<title>14</title>\n<polygon fill=\"#e58139\" stroke=\"black\" points=\"395,-877.5 300,-877.5 300,-824.5 395,-824.5 395,-877.5\"/>\n<text text-anchor=\"middle\" x=\"347.5\" y=\"-862.3\" font-family=\"Helvetica,sans-Serif\" font-size=\"14.00\">gini = 0.0</text>\n<text text-anchor=\"middle\" x=\"347.5\" y=\"-847.3\" font-family=\"Helvetica,sans-Serif\" font-size=\"14.00\">samples = 1</text>\n<text text-anchor=\"middle\" x=\"347.5\" y=\"-832.3\" font-family=\"Helvetica,sans-Serif\" font-size=\"14.00\">value = [1, 0]</text>\n</g>\n<!-- 12&#45;&gt;14 -->\n<g id=\"edge14\" class=\"edge\">\n<title>12&#45;&gt;14</title>\n<path fill=\"none\" stroke=\"black\" d=\"M293.47,-920.88C302.36,-909.56 312.3,-896.88 321.21,-885.52\"/>\n<polygon fill=\"black\" stroke=\"black\" points=\"324.07,-887.55 327.48,-877.52 318.56,-883.23 324.07,-887.55\"/>\n</g>\n<!-- 19 -->\n<g id=\"node20\" class=\"node\">\n<title>19</title>\n<polygon fill=\"#ffffff\" stroke=\"black\" points=\"470,-1405 339,-1405 339,-1337 470,-1337 470,-1405\"/>\n<text text-anchor=\"middle\" x=\"404.5\" y=\"-1389.8\" font-family=\"Helvetica,sans-Serif\" font-size=\"14.00\">Variance &lt;= &#45;1.583</text>\n<text text-anchor=\"middle\" x=\"404.5\" y=\"-1374.8\" font-family=\"Helvetica,sans-Serif\" font-size=\"14.00\">gini = 0.5</text>\n<text text-anchor=\"middle\" x=\"404.5\" y=\"-1359.8\" font-family=\"Helvetica,sans-Serif\" font-size=\"14.00\">samples = 2</text>\n<text text-anchor=\"middle\" x=\"404.5\" y=\"-1344.8\" font-family=\"Helvetica,sans-Serif\" font-size=\"14.00\">value = [1, 1]</text>\n</g>\n<!-- 18&#45;&gt;19 -->\n<g id=\"edge19\" class=\"edge\">\n<title>18&#45;&gt;19</title>\n<path fill=\"none\" stroke=\"black\" d=\"M455.82,-1440.88C449.32,-1432.15 442.22,-1422.62 435.43,-1413.51\"/>\n<polygon fill=\"black\" stroke=\"black\" points=\"438.09,-1411.23 429.31,-1405.3 432.48,-1415.41 438.09,-1411.23\"/>\n</g>\n<!-- 22 -->\n<g id=\"node23\" class=\"node\">\n<title>22</title>\n<polygon fill=\"#e58139\" stroke=\"black\" points=\"583,-1397.5 488,-1397.5 488,-1344.5 583,-1344.5 583,-1397.5\"/>\n<text text-anchor=\"middle\" x=\"535.5\" y=\"-1382.3\" font-family=\"Helvetica,sans-Serif\" font-size=\"14.00\">gini = 0.0</text>\n<text text-anchor=\"middle\" x=\"535.5\" y=\"-1367.3\" font-family=\"Helvetica,sans-Serif\" font-size=\"14.00\">samples = 7</text>\n<text text-anchor=\"middle\" x=\"535.5\" y=\"-1352.3\" font-family=\"Helvetica,sans-Serif\" font-size=\"14.00\">value = [7, 0]</text>\n</g>\n<!-- 18&#45;&gt;22 -->\n<g id=\"edge22\" class=\"edge\">\n<title>18&#45;&gt;22</title>\n<path fill=\"none\" stroke=\"black\" d=\"M498.36,-1440.88C504.29,-1429.89 510.9,-1417.62 516.89,-1406.52\"/>\n<polygon fill=\"black\" stroke=\"black\" points=\"520.07,-1407.98 521.74,-1397.52 513.91,-1404.66 520.07,-1407.98\"/>\n</g>\n<!-- 20 -->\n<g id=\"node21\" class=\"node\">\n<title>20</title>\n<polygon fill=\"#399de5\" stroke=\"black\" points=\"339,-1293.5 244,-1293.5 244,-1240.5 339,-1240.5 339,-1293.5\"/>\n<text text-anchor=\"middle\" x=\"291.5\" y=\"-1278.3\" font-family=\"Helvetica,sans-Serif\" font-size=\"14.00\">gini = 0.0</text>\n<text text-anchor=\"middle\" x=\"291.5\" y=\"-1263.3\" font-family=\"Helvetica,sans-Serif\" font-size=\"14.00\">samples = 1</text>\n<text text-anchor=\"middle\" x=\"291.5\" y=\"-1248.3\" font-family=\"Helvetica,sans-Serif\" font-size=\"14.00\">value = [0, 1]</text>\n</g>\n<!-- 19&#45;&gt;20 -->\n<g id=\"edge20\" class=\"edge\">\n<title>19&#45;&gt;20</title>\n<path fill=\"none\" stroke=\"black\" d=\"M367.81,-1336.88C354.9,-1325.23 340.4,-1312.14 327.54,-1300.53\"/>\n<polygon fill=\"black\" stroke=\"black\" points=\"329.54,-1297.62 319.77,-1293.52 324.85,-1302.82 329.54,-1297.62\"/>\n</g>\n<!-- 21 -->\n<g id=\"node22\" class=\"node\">\n<title>21</title>\n<polygon fill=\"#e58139\" stroke=\"black\" points=\"452,-1293.5 357,-1293.5 357,-1240.5 452,-1240.5 452,-1293.5\"/>\n<text text-anchor=\"middle\" x=\"404.5\" y=\"-1278.3\" font-family=\"Helvetica,sans-Serif\" font-size=\"14.00\">gini = 0.0</text>\n<text text-anchor=\"middle\" x=\"404.5\" y=\"-1263.3\" font-family=\"Helvetica,sans-Serif\" font-size=\"14.00\">samples = 1</text>\n<text text-anchor=\"middle\" x=\"404.5\" y=\"-1248.3\" font-family=\"Helvetica,sans-Serif\" font-size=\"14.00\">value = [1, 0]</text>\n</g>\n<!-- 19&#45;&gt;21 -->\n<g id=\"edge21\" class=\"edge\">\n<title>19&#45;&gt;21</title>\n<path fill=\"none\" stroke=\"black\" d=\"M404.5,-1336.88C404.5,-1326.33 404.5,-1314.6 404.5,-1303.85\"/>\n<polygon fill=\"black\" stroke=\"black\" points=\"408,-1303.52 404.5,-1293.52 401,-1303.52 408,-1303.52\"/>\n</g>\n<!-- 24 -->\n<g id=\"node25\" class=\"node\">\n<title>24</title>\n<polygon fill=\"#e78c4b\" stroke=\"black\" points=\"854,-1509 723,-1509 723,-1441 854,-1441 854,-1509\"/>\n<text text-anchor=\"middle\" x=\"788.5\" y=\"-1493.8\" font-family=\"Helvetica,sans-Serif\" font-size=\"14.00\">Variance &lt;= &#45;0.317</text>\n<text text-anchor=\"middle\" x=\"788.5\" y=\"-1478.8\" font-family=\"Helvetica,sans-Serif\" font-size=\"14.00\">gini = 0.15</text>\n<text text-anchor=\"middle\" x=\"788.5\" y=\"-1463.8\" font-family=\"Helvetica,sans-Serif\" font-size=\"14.00\">samples = 86</text>\n<text text-anchor=\"middle\" x=\"788.5\" y=\"-1448.8\" font-family=\"Helvetica,sans-Serif\" font-size=\"14.00\">value = [79, 7]</text>\n</g>\n<!-- 23&#45;&gt;24 -->\n<g id=\"edge24\" class=\"edge\">\n<title>23&#45;&gt;24</title>\n<path fill=\"none\" stroke=\"black\" d=\"M799.31,-1544.88C798.02,-1536.69 796.62,-1527.79 795.28,-1519.19\"/>\n<polygon fill=\"black\" stroke=\"black\" points=\"798.73,-1518.64 793.72,-1509.3 791.82,-1519.72 798.73,-1518.64\"/>\n</g>\n<!-- 45 -->\n<g id=\"node46\" class=\"node\">\n<title>45</title>\n<polygon fill=\"#ea9c63\" stroke=\"black\" points=\"1076,-1509 955,-1509 955,-1441 1076,-1441 1076,-1509\"/>\n<text text-anchor=\"middle\" x=\"1015.5\" y=\"-1493.8\" font-family=\"Helvetica,sans-Serif\" font-size=\"14.00\">Entropy &lt;= 0.322</text>\n<text text-anchor=\"middle\" x=\"1015.5\" y=\"-1478.8\" font-family=\"Helvetica,sans-Serif\" font-size=\"14.00\">gini = 0.288</text>\n<text text-anchor=\"middle\" x=\"1015.5\" y=\"-1463.8\" font-family=\"Helvetica,sans-Serif\" font-size=\"14.00\">samples = 126</text>\n<text text-anchor=\"middle\" x=\"1015.5\" y=\"-1448.8\" font-family=\"Helvetica,sans-Serif\" font-size=\"14.00\">value = [104, 22]</text>\n</g>\n<!-- 23&#45;&gt;45 -->\n<g id=\"edge45\" class=\"edge\">\n<title>23&#45;&gt;45</title>\n<path fill=\"none\" stroke=\"black\" d=\"M865.25,-1548.63C890.4,-1536.47 919.73,-1522.3 945.76,-1509.71\"/>\n<polygon fill=\"black\" stroke=\"black\" points=\"947.34,-1512.84 954.82,-1505.34 944.29,-1506.54 947.34,-1512.84\"/>\n</g>\n<!-- 25 -->\n<g id=\"node26\" class=\"node\">\n<title>25</title>\n<polygon fill=\"#e58139\" stroke=\"black\" points=\"704.5,-1397.5 602.5,-1397.5 602.5,-1344.5 704.5,-1344.5 704.5,-1397.5\"/>\n<text text-anchor=\"middle\" x=\"653.5\" y=\"-1382.3\" font-family=\"Helvetica,sans-Serif\" font-size=\"14.00\">gini = 0.0</text>\n<text text-anchor=\"middle\" x=\"653.5\" y=\"-1367.3\" font-family=\"Helvetica,sans-Serif\" font-size=\"14.00\">samples = 26</text>\n<text text-anchor=\"middle\" x=\"653.5\" y=\"-1352.3\" font-family=\"Helvetica,sans-Serif\" font-size=\"14.00\">value = [26, 0]</text>\n</g>\n<!-- 24&#45;&gt;25 -->\n<g id=\"edge25\" class=\"edge\">\n<title>24&#45;&gt;25</title>\n<path fill=\"none\" stroke=\"black\" d=\"M744.67,-1440.88C728.8,-1428.9 710.94,-1415.4 695.26,-1403.55\"/>\n<polygon fill=\"black\" stroke=\"black\" points=\"697.37,-1400.76 687.28,-1397.52 693.15,-1406.34 697.37,-1400.76\"/>\n</g>\n<!-- 26 -->\n<g id=\"node27\" class=\"node\">\n<title>26</title>\n<polygon fill=\"#e89253\" stroke=\"black\" points=\"854,-1405 723,-1405 723,-1337 854,-1337 854,-1405\"/>\n<text text-anchor=\"middle\" x=\"788.5\" y=\"-1389.8\" font-family=\"Helvetica,sans-Serif\" font-size=\"14.00\">Variance &lt;= &#45;0.213</text>\n<text text-anchor=\"middle\" x=\"788.5\" y=\"-1374.8\" font-family=\"Helvetica,sans-Serif\" font-size=\"14.00\">gini = 0.206</text>\n<text text-anchor=\"middle\" x=\"788.5\" y=\"-1359.8\" font-family=\"Helvetica,sans-Serif\" font-size=\"14.00\">samples = 60</text>\n<text text-anchor=\"middle\" x=\"788.5\" y=\"-1344.8\" font-family=\"Helvetica,sans-Serif\" font-size=\"14.00\">value = [53, 7]</text>\n</g>\n<!-- 24&#45;&gt;26 -->\n<g id=\"edge26\" class=\"edge\">\n<title>24&#45;&gt;26</title>\n<path fill=\"none\" stroke=\"black\" d=\"M788.5,-1440.88C788.5,-1432.78 788.5,-1423.98 788.5,-1415.47\"/>\n<polygon fill=\"black\" stroke=\"black\" points=\"792,-1415.3 788.5,-1405.3 785,-1415.3 792,-1415.3\"/>\n</g>\n<!-- 27 -->\n<g id=\"node28\" class=\"node\">\n<title>27</title>\n<polygon fill=\"#9ccef2\" stroke=\"black\" points=\"594.5,-1301 470.5,-1301 470.5,-1233 594.5,-1233 594.5,-1301\"/>\n<text text-anchor=\"middle\" x=\"532.5\" y=\"-1285.8\" font-family=\"Helvetica,sans-Serif\" font-size=\"14.00\">Curtosis &lt;= 2.424</text>\n<text text-anchor=\"middle\" x=\"532.5\" y=\"-1270.8\" font-family=\"Helvetica,sans-Serif\" font-size=\"14.00\">gini = 0.444</text>\n<text text-anchor=\"middle\" x=\"532.5\" y=\"-1255.8\" font-family=\"Helvetica,sans-Serif\" font-size=\"14.00\">samples = 3</text>\n<text text-anchor=\"middle\" x=\"532.5\" y=\"-1240.8\" font-family=\"Helvetica,sans-Serif\" font-size=\"14.00\">value = [1, 2]</text>\n</g>\n<!-- 26&#45;&gt;27 -->\n<g id=\"edge27\" class=\"edge\">\n<title>26&#45;&gt;27</title>\n<path fill=\"none\" stroke=\"black\" d=\"M722.73,-1340.84C719.62,-1339.53 716.53,-1338.24 713.5,-1337 677.82,-1322.36 637.79,-1306.99 604.46,-1294.48\"/>\n<polygon fill=\"black\" stroke=\"black\" points=\"605.39,-1291.09 594.79,-1290.87 602.93,-1297.65 605.39,-1291.09\"/>\n</g>\n<!-- 30 -->\n<g id=\"node31\" class=\"node\">\n<title>30</title>\n<polygon fill=\"#e88d4c\" stroke=\"black\" points=\"852,-1301 725,-1301 725,-1233 852,-1233 852,-1301\"/>\n<text text-anchor=\"middle\" x=\"788.5\" y=\"-1285.8\" font-family=\"Helvetica,sans-Serif\" font-size=\"14.00\">Variance &lt;= 0.675</text>\n<text text-anchor=\"middle\" x=\"788.5\" y=\"-1270.8\" font-family=\"Helvetica,sans-Serif\" font-size=\"14.00\">gini = 0.16</text>\n<text text-anchor=\"middle\" x=\"788.5\" y=\"-1255.8\" font-family=\"Helvetica,sans-Serif\" font-size=\"14.00\">samples = 57</text>\n<text text-anchor=\"middle\" x=\"788.5\" y=\"-1240.8\" font-family=\"Helvetica,sans-Serif\" font-size=\"14.00\">value = [52, 5]</text>\n</g>\n<!-- 26&#45;&gt;30 -->\n<g id=\"edge30\" class=\"edge\">\n<title>26&#45;&gt;30</title>\n<path fill=\"none\" stroke=\"black\" d=\"M788.5,-1336.88C788.5,-1328.78 788.5,-1319.98 788.5,-1311.47\"/>\n<polygon fill=\"black\" stroke=\"black\" points=\"792,-1311.3 788.5,-1301.3 785,-1311.3 792,-1311.3\"/>\n</g>\n<!-- 28 -->\n<g id=\"node29\" class=\"node\">\n<title>28</title>\n<polygon fill=\"#399de5\" stroke=\"black\" points=\"461,-1189.5 366,-1189.5 366,-1136.5 461,-1136.5 461,-1189.5\"/>\n<text text-anchor=\"middle\" x=\"413.5\" y=\"-1174.3\" font-family=\"Helvetica,sans-Serif\" font-size=\"14.00\">gini = 0.0</text>\n<text text-anchor=\"middle\" x=\"413.5\" y=\"-1159.3\" font-family=\"Helvetica,sans-Serif\" font-size=\"14.00\">samples = 2</text>\n<text text-anchor=\"middle\" x=\"413.5\" y=\"-1144.3\" font-family=\"Helvetica,sans-Serif\" font-size=\"14.00\">value = [0, 2]</text>\n</g>\n<!-- 27&#45;&gt;28 -->\n<g id=\"edge28\" class=\"edge\">\n<title>27&#45;&gt;28</title>\n<path fill=\"none\" stroke=\"black\" d=\"M493.86,-1232.88C480.14,-1221.12 464.71,-1207.89 451.07,-1196.2\"/>\n<polygon fill=\"black\" stroke=\"black\" points=\"453.14,-1193.37 443.27,-1189.52 448.59,-1198.69 453.14,-1193.37\"/>\n</g>\n<!-- 29 -->\n<g id=\"node30\" class=\"node\">\n<title>29</title>\n<polygon fill=\"#e58139\" stroke=\"black\" points=\"574,-1189.5 479,-1189.5 479,-1136.5 574,-1136.5 574,-1189.5\"/>\n<text text-anchor=\"middle\" x=\"526.5\" y=\"-1174.3\" font-family=\"Helvetica,sans-Serif\" font-size=\"14.00\">gini = 0.0</text>\n<text text-anchor=\"middle\" x=\"526.5\" y=\"-1159.3\" font-family=\"Helvetica,sans-Serif\" font-size=\"14.00\">samples = 1</text>\n<text text-anchor=\"middle\" x=\"526.5\" y=\"-1144.3\" font-family=\"Helvetica,sans-Serif\" font-size=\"14.00\">value = [1, 0]</text>\n</g>\n<!-- 27&#45;&gt;29 -->\n<g id=\"edge29\" class=\"edge\">\n<title>27&#45;&gt;29</title>\n<path fill=\"none\" stroke=\"black\" d=\"M530.55,-1232.88C529.92,-1222.22 529.23,-1210.35 528.59,-1199.52\"/>\n<polygon fill=\"black\" stroke=\"black\" points=\"532.08,-1199.3 528,-1189.52 525.09,-1199.71 532.08,-1199.3\"/>\n</g>\n<!-- 31 -->\n<g id=\"node32\" class=\"node\">\n<title>31</title>\n<polygon fill=\"#e9975b\" stroke=\"black\" points=\"720.5,-1197 592.5,-1197 592.5,-1129 720.5,-1129 720.5,-1197\"/>\n<text text-anchor=\"middle\" x=\"656.5\" y=\"-1181.8\" font-family=\"Helvetica,sans-Serif\" font-size=\"14.00\">Skewness &lt;= 0.96</text>\n<text text-anchor=\"middle\" x=\"656.5\" y=\"-1166.8\" font-family=\"Helvetica,sans-Serif\" font-size=\"14.00\">gini = 0.251</text>\n<text text-anchor=\"middle\" x=\"656.5\" y=\"-1151.8\" font-family=\"Helvetica,sans-Serif\" font-size=\"14.00\">samples = 34</text>\n<text text-anchor=\"middle\" x=\"656.5\" y=\"-1136.8\" font-family=\"Helvetica,sans-Serif\" font-size=\"14.00\">value = [29, 5]</text>\n</g>\n<!-- 30&#45;&gt;31 -->\n<g id=\"edge31\" class=\"edge\">\n<title>30&#45;&gt;31</title>\n<path fill=\"none\" stroke=\"black\" d=\"M745.64,-1232.88C733.54,-1223.53 720.25,-1213.26 707.71,-1203.57\"/>\n<polygon fill=\"black\" stroke=\"black\" points=\"709.65,-1200.64 699.59,-1197.3 705.37,-1206.18 709.65,-1200.64\"/>\n</g>\n<!-- 44 -->\n<g id=\"node45\" class=\"node\">\n<title>44</title>\n<polygon fill=\"#e58139\" stroke=\"black\" points=\"840.5,-1189.5 738.5,-1189.5 738.5,-1136.5 840.5,-1136.5 840.5,-1189.5\"/>\n<text text-anchor=\"middle\" x=\"789.5\" y=\"-1174.3\" font-family=\"Helvetica,sans-Serif\" font-size=\"14.00\">gini = 0.0</text>\n<text text-anchor=\"middle\" x=\"789.5\" y=\"-1159.3\" font-family=\"Helvetica,sans-Serif\" font-size=\"14.00\">samples = 23</text>\n<text text-anchor=\"middle\" x=\"789.5\" y=\"-1144.3\" font-family=\"Helvetica,sans-Serif\" font-size=\"14.00\">value = [23, 0]</text>\n</g>\n<!-- 30&#45;&gt;44 -->\n<g id=\"edge44\" class=\"edge\">\n<title>30&#45;&gt;44</title>\n<path fill=\"none\" stroke=\"black\" d=\"M788.82,-1232.88C788.93,-1222.33 789.04,-1210.6 789.15,-1199.85\"/>\n<polygon fill=\"black\" stroke=\"black\" points=\"792.65,-1199.55 789.25,-1189.52 785.65,-1199.49 792.65,-1199.55\"/>\n</g>\n<!-- 32 -->\n<g id=\"node33\" class=\"node\">\n<title>32</title>\n<polygon fill=\"#e78b48\" stroke=\"black\" points=\"621,-1093 494,-1093 494,-1025 621,-1025 621,-1093\"/>\n<text text-anchor=\"middle\" x=\"557.5\" y=\"-1077.8\" font-family=\"Helvetica,sans-Serif\" font-size=\"14.00\">Variance &lt;= 0.321</text>\n<text text-anchor=\"middle\" x=\"557.5\" y=\"-1062.8\" font-family=\"Helvetica,sans-Serif\" font-size=\"14.00\">gini = 0.133</text>\n<text text-anchor=\"middle\" x=\"557.5\" y=\"-1047.8\" font-family=\"Helvetica,sans-Serif\" font-size=\"14.00\">samples = 28</text>\n<text text-anchor=\"middle\" x=\"557.5\" y=\"-1032.8\" font-family=\"Helvetica,sans-Serif\" font-size=\"14.00\">value = [26, 2]</text>\n</g>\n<!-- 31&#45;&gt;32 -->\n<g id=\"edge32\" class=\"edge\">\n<title>31&#45;&gt;32</title>\n<path fill=\"none\" stroke=\"black\" d=\"M624.36,-1128.88C615.63,-1119.89 606.07,-1110.04 596.98,-1100.68\"/>\n<polygon fill=\"black\" stroke=\"black\" points=\"599.3,-1098.04 589.82,-1093.3 594.27,-1102.91 599.3,-1098.04\"/>\n</g>\n<!-- 39 -->\n<g id=\"node40\" class=\"node\">\n<title>39</title>\n<polygon fill=\"#ffffff\" stroke=\"black\" points=\"775.5,-1093 639.5,-1093 639.5,-1025 775.5,-1025 775.5,-1093\"/>\n<text text-anchor=\"middle\" x=\"707.5\" y=\"-1077.8\" font-family=\"Helvetica,sans-Serif\" font-size=\"14.00\">Skewness &lt;= 0.982</text>\n<text text-anchor=\"middle\" x=\"707.5\" y=\"-1062.8\" font-family=\"Helvetica,sans-Serif\" font-size=\"14.00\">gini = 0.5</text>\n<text text-anchor=\"middle\" x=\"707.5\" y=\"-1047.8\" font-family=\"Helvetica,sans-Serif\" font-size=\"14.00\">samples = 6</text>\n<text text-anchor=\"middle\" x=\"707.5\" y=\"-1032.8\" font-family=\"Helvetica,sans-Serif\" font-size=\"14.00\">value = [3, 3]</text>\n</g>\n<!-- 31&#45;&gt;39 -->\n<g id=\"edge39\" class=\"edge\">\n<title>31&#45;&gt;39</title>\n<path fill=\"none\" stroke=\"black\" d=\"M673.06,-1128.88C677.29,-1120.42 681.9,-1111.21 686.32,-1102.35\"/>\n<polygon fill=\"black\" stroke=\"black\" points=\"689.51,-1103.81 690.85,-1093.3 683.25,-1100.68 689.51,-1103.81\"/>\n</g>\n<!-- 33 -->\n<g id=\"node34\" class=\"node\">\n<title>33</title>\n<polygon fill=\"#e58139\" stroke=\"black\" points=\"480.5,-981.5 378.5,-981.5 378.5,-928.5 480.5,-928.5 480.5,-981.5\"/>\n<text text-anchor=\"middle\" x=\"429.5\" y=\"-966.3\" font-family=\"Helvetica,sans-Serif\" font-size=\"14.00\">gini = 0.0</text>\n<text text-anchor=\"middle\" x=\"429.5\" y=\"-951.3\" font-family=\"Helvetica,sans-Serif\" font-size=\"14.00\">samples = 22</text>\n<text text-anchor=\"middle\" x=\"429.5\" y=\"-936.3\" font-family=\"Helvetica,sans-Serif\" font-size=\"14.00\">value = [22, 0]</text>\n</g>\n<!-- 32&#45;&gt;33 -->\n<g id=\"edge33\" class=\"edge\">\n<title>32&#45;&gt;33</title>\n<path fill=\"none\" stroke=\"black\" d=\"M515.94,-1024.88C501.04,-1013.01 484.27,-999.65 469.5,-987.88\"/>\n<polygon fill=\"black\" stroke=\"black\" points=\"471.53,-985.01 461.53,-981.52 467.16,-990.49 471.53,-985.01\"/>\n</g>\n<!-- 34 -->\n<g id=\"node35\" class=\"node\">\n<title>34</title>\n<polygon fill=\"#f2c09c\" stroke=\"black\" points=\"626.5,-989 498.5,-989 498.5,-921 626.5,-921 626.5,-989\"/>\n<text text-anchor=\"middle\" x=\"562.5\" y=\"-973.8\" font-family=\"Helvetica,sans-Serif\" font-size=\"14.00\">Curtosis &lt;= &#45;0.383</text>\n<text text-anchor=\"middle\" x=\"562.5\" y=\"-958.8\" font-family=\"Helvetica,sans-Serif\" font-size=\"14.00\">gini = 0.444</text>\n<text text-anchor=\"middle\" x=\"562.5\" y=\"-943.8\" font-family=\"Helvetica,sans-Serif\" font-size=\"14.00\">samples = 6</text>\n<text text-anchor=\"middle\" x=\"562.5\" y=\"-928.8\" font-family=\"Helvetica,sans-Serif\" font-size=\"14.00\">value = [4, 2]</text>\n</g>\n<!-- 32&#45;&gt;34 -->\n<g id=\"edge34\" class=\"edge\">\n<title>32&#45;&gt;34</title>\n<path fill=\"none\" stroke=\"black\" d=\"M559.12,-1024.88C559.52,-1016.78 559.95,-1007.98 560.37,-999.47\"/>\n<polygon fill=\"black\" stroke=\"black\" points=\"563.87,-999.46 560.87,-989.3 556.88,-999.12 563.87,-999.46\"/>\n</g>\n<!-- 35 -->\n<g id=\"node36\" class=\"node\">\n<title>35</title>\n<polygon fill=\"#eca06a\" stroke=\"black\" points=\"586,-885 459,-885 459,-817 586,-817 586,-885\"/>\n<text text-anchor=\"middle\" x=\"522.5\" y=\"-869.8\" font-family=\"Helvetica,sans-Serif\" font-size=\"14.00\">Variance &lt;= 0.356</text>\n<text text-anchor=\"middle\" x=\"522.5\" y=\"-854.8\" font-family=\"Helvetica,sans-Serif\" font-size=\"14.00\">gini = 0.32</text>\n<text text-anchor=\"middle\" x=\"522.5\" y=\"-839.8\" font-family=\"Helvetica,sans-Serif\" font-size=\"14.00\">samples = 5</text>\n<text text-anchor=\"middle\" x=\"522.5\" y=\"-824.8\" font-family=\"Helvetica,sans-Serif\" font-size=\"14.00\">value = [4, 1]</text>\n</g>\n<!-- 34&#45;&gt;35 -->\n<g id=\"edge35\" class=\"edge\">\n<title>34&#45;&gt;35</title>\n<path fill=\"none\" stroke=\"black\" d=\"M549.51,-920.88C546.23,-912.51 542.66,-903.4 539.22,-894.63\"/>\n<polygon fill=\"black\" stroke=\"black\" points=\"542.47,-893.33 535.56,-885.3 535.95,-895.89 542.47,-893.33\"/>\n</g>\n<!-- 38 -->\n<g id=\"node39\" class=\"node\">\n<title>38</title>\n<polygon fill=\"#399de5\" stroke=\"black\" points=\"699,-877.5 604,-877.5 604,-824.5 699,-824.5 699,-877.5\"/>\n<text text-anchor=\"middle\" x=\"651.5\" y=\"-862.3\" font-family=\"Helvetica,sans-Serif\" font-size=\"14.00\">gini = 0.0</text>\n<text text-anchor=\"middle\" x=\"651.5\" y=\"-847.3\" font-family=\"Helvetica,sans-Serif\" font-size=\"14.00\">samples = 1</text>\n<text text-anchor=\"middle\" x=\"651.5\" y=\"-832.3\" font-family=\"Helvetica,sans-Serif\" font-size=\"14.00\">value = [0, 1]</text>\n</g>\n<!-- 34&#45;&gt;38 -->\n<g id=\"edge38\" class=\"edge\">\n<title>34&#45;&gt;38</title>\n<path fill=\"none\" stroke=\"black\" d=\"M591.4,-920.88C601.38,-909.45 612.55,-896.63 622.54,-885.19\"/>\n<polygon fill=\"black\" stroke=\"black\" points=\"625.3,-887.36 629.23,-877.52 620.02,-882.75 625.3,-887.36\"/>\n</g>\n<!-- 36 -->\n<g id=\"node37\" class=\"node\">\n<title>36</title>\n<polygon fill=\"#399de5\" stroke=\"black\" points=\"514,-773.5 419,-773.5 419,-720.5 514,-720.5 514,-773.5\"/>\n<text text-anchor=\"middle\" x=\"466.5\" y=\"-758.3\" font-family=\"Helvetica,sans-Serif\" font-size=\"14.00\">gini = 0.0</text>\n<text text-anchor=\"middle\" x=\"466.5\" y=\"-743.3\" font-family=\"Helvetica,sans-Serif\" font-size=\"14.00\">samples = 1</text>\n<text text-anchor=\"middle\" x=\"466.5\" y=\"-728.3\" font-family=\"Helvetica,sans-Serif\" font-size=\"14.00\">value = [0, 1]</text>\n</g>\n<!-- 35&#45;&gt;36 -->\n<g id=\"edge36\" class=\"edge\">\n<title>35&#45;&gt;36</title>\n<path fill=\"none\" stroke=\"black\" d=\"M504.32,-816.88C498.28,-805.89 491.54,-793.62 485.45,-782.52\"/>\n<polygon fill=\"black\" stroke=\"black\" points=\"488.39,-780.6 480.51,-773.52 482.26,-783.97 488.39,-780.6\"/>\n</g>\n<!-- 37 -->\n<g id=\"node38\" class=\"node\">\n<title>37</title>\n<polygon fill=\"#e58139\" stroke=\"black\" points=\"627,-773.5 532,-773.5 532,-720.5 627,-720.5 627,-773.5\"/>\n<text text-anchor=\"middle\" x=\"579.5\" y=\"-758.3\" font-family=\"Helvetica,sans-Serif\" font-size=\"14.00\">gini = 0.0</text>\n<text text-anchor=\"middle\" x=\"579.5\" y=\"-743.3\" font-family=\"Helvetica,sans-Serif\" font-size=\"14.00\">samples = 4</text>\n<text text-anchor=\"middle\" x=\"579.5\" y=\"-728.3\" font-family=\"Helvetica,sans-Serif\" font-size=\"14.00\">value = [4, 0]</text>\n</g>\n<!-- 35&#45;&gt;37 -->\n<g id=\"edge37\" class=\"edge\">\n<title>35&#45;&gt;37</title>\n<path fill=\"none\" stroke=\"black\" d=\"M541.01,-816.88C547.15,-805.89 554.01,-793.62 560.21,-782.52\"/>\n<polygon fill=\"black\" stroke=\"black\" points=\"563.42,-783.96 565.24,-773.52 557.31,-780.54 563.42,-783.96\"/>\n</g>\n<!-- 40 -->\n<g id=\"node41\" class=\"node\">\n<title>40</title>\n<polygon fill=\"#399de5\" stroke=\"black\" points=\"750,-981.5 655,-981.5 655,-928.5 750,-928.5 750,-981.5\"/>\n<text text-anchor=\"middle\" x=\"702.5\" y=\"-966.3\" font-family=\"Helvetica,sans-Serif\" font-size=\"14.00\">gini = 0.0</text>\n<text text-anchor=\"middle\" x=\"702.5\" y=\"-951.3\" font-family=\"Helvetica,sans-Serif\" font-size=\"14.00\">samples = 2</text>\n<text text-anchor=\"middle\" x=\"702.5\" y=\"-936.3\" font-family=\"Helvetica,sans-Serif\" font-size=\"14.00\">value = [0, 2]</text>\n</g>\n<!-- 39&#45;&gt;40 -->\n<g id=\"edge40\" class=\"edge\">\n<title>39&#45;&gt;40</title>\n<path fill=\"none\" stroke=\"black\" d=\"M705.88,-1024.88C705.35,-1014.22 704.77,-1002.35 704.24,-991.52\"/>\n<polygon fill=\"black\" stroke=\"black\" points=\"707.74,-991.34 703.75,-981.52 700.74,-991.68 707.74,-991.34\"/>\n</g>\n<!-- 41 -->\n<g id=\"node42\" class=\"node\">\n<title>41</title>\n<polygon fill=\"#eeab7b\" stroke=\"black\" points=\"893,-989 768,-989 768,-921 893,-921 893,-989\"/>\n<text text-anchor=\"middle\" x=\"830.5\" y=\"-973.8\" font-family=\"Helvetica,sans-Serif\" font-size=\"14.00\">Entropy &lt;= &#45;0.841</text>\n<text text-anchor=\"middle\" x=\"830.5\" y=\"-958.8\" font-family=\"Helvetica,sans-Serif\" font-size=\"14.00\">gini = 0.375</text>\n<text text-anchor=\"middle\" x=\"830.5\" y=\"-943.8\" font-family=\"Helvetica,sans-Serif\" font-size=\"14.00\">samples = 4</text>\n<text text-anchor=\"middle\" x=\"830.5\" y=\"-928.8\" font-family=\"Helvetica,sans-Serif\" font-size=\"14.00\">value = [3, 1]</text>\n</g>\n<!-- 39&#45;&gt;41 -->\n<g id=\"edge41\" class=\"edge\">\n<title>39&#45;&gt;41</title>\n<path fill=\"none\" stroke=\"black\" d=\"M747.43,-1024.88C758.61,-1015.62 770.86,-1005.45 782.45,-995.85\"/>\n<polygon fill=\"black\" stroke=\"black\" points=\"784.88,-998.38 790.34,-989.3 780.41,-992.99 784.88,-998.38\"/>\n</g>\n<!-- 42 -->\n<g id=\"node43\" class=\"node\">\n<title>42</title>\n<polygon fill=\"#e58139\" stroke=\"black\" points=\"836,-877.5 741,-877.5 741,-824.5 836,-824.5 836,-877.5\"/>\n<text text-anchor=\"middle\" x=\"788.5\" y=\"-862.3\" font-family=\"Helvetica,sans-Serif\" font-size=\"14.00\">gini = 0.0</text>\n<text text-anchor=\"middle\" x=\"788.5\" y=\"-847.3\" font-family=\"Helvetica,sans-Serif\" font-size=\"14.00\">samples = 3</text>\n<text text-anchor=\"middle\" x=\"788.5\" y=\"-832.3\" font-family=\"Helvetica,sans-Serif\" font-size=\"14.00\">value = [3, 0]</text>\n</g>\n<!-- 41&#45;&gt;42 -->\n<g id=\"edge42\" class=\"edge\">\n<title>41&#45;&gt;42</title>\n<path fill=\"none\" stroke=\"black\" d=\"M816.86,-920.88C812.38,-910 807.38,-897.86 802.85,-886.85\"/>\n<polygon fill=\"black\" stroke=\"black\" points=\"806.05,-885.43 799.01,-877.52 799.58,-888.1 806.05,-885.43\"/>\n</g>\n<!-- 43 -->\n<g id=\"node44\" class=\"node\">\n<title>43</title>\n<polygon fill=\"#399de5\" stroke=\"black\" points=\"949,-877.5 854,-877.5 854,-824.5 949,-824.5 949,-877.5\"/>\n<text text-anchor=\"middle\" x=\"901.5\" y=\"-862.3\" font-family=\"Helvetica,sans-Serif\" font-size=\"14.00\">gini = 0.0</text>\n<text text-anchor=\"middle\" x=\"901.5\" y=\"-847.3\" font-family=\"Helvetica,sans-Serif\" font-size=\"14.00\">samples = 1</text>\n<text text-anchor=\"middle\" x=\"901.5\" y=\"-832.3\" font-family=\"Helvetica,sans-Serif\" font-size=\"14.00\">value = [0, 1]</text>\n</g>\n<!-- 41&#45;&gt;43 -->\n<g id=\"edge43\" class=\"edge\">\n<title>41&#45;&gt;43</title>\n<path fill=\"none\" stroke=\"black\" d=\"M853.55,-920.88C861.36,-909.67 870.09,-897.13 877.94,-885.85\"/>\n<polygon fill=\"black\" stroke=\"black\" points=\"880.9,-887.73 883.74,-877.52 875.15,-883.73 880.9,-887.73\"/>\n</g>\n<!-- 46 -->\n<g id=\"node47\" class=\"node\">\n<title>46</title>\n<polygon fill=\"#9ccef2\" stroke=\"black\" points=\"1083.5,-1405 947.5,-1405 947.5,-1337 1083.5,-1337 1083.5,-1405\"/>\n<text text-anchor=\"middle\" x=\"1015.5\" y=\"-1389.8\" font-family=\"Helvetica,sans-Serif\" font-size=\"14.00\">Skewness &lt;= 0.294</text>\n<text text-anchor=\"middle\" x=\"1015.5\" y=\"-1374.8\" font-family=\"Helvetica,sans-Serif\" font-size=\"14.00\">gini = 0.444</text>\n<text text-anchor=\"middle\" x=\"1015.5\" y=\"-1359.8\" font-family=\"Helvetica,sans-Serif\" font-size=\"14.00\">samples = 6</text>\n<text text-anchor=\"middle\" x=\"1015.5\" y=\"-1344.8\" font-family=\"Helvetica,sans-Serif\" font-size=\"14.00\">value = [2, 4]</text>\n</g>\n<!-- 45&#45;&gt;46 -->\n<g id=\"edge46\" class=\"edge\">\n<title>45&#45;&gt;46</title>\n<path fill=\"none\" stroke=\"black\" d=\"M1015.5,-1440.88C1015.5,-1432.78 1015.5,-1423.98 1015.5,-1415.47\"/>\n<polygon fill=\"black\" stroke=\"black\" points=\"1019,-1415.3 1015.5,-1405.3 1012,-1415.3 1019,-1415.3\"/>\n</g>\n<!-- 51 -->\n<g id=\"node52\" class=\"node\">\n<title>51</title>\n<polygon fill=\"#ea975c\" stroke=\"black\" points=\"1299.5,-1405 1159.5,-1405 1159.5,-1337 1299.5,-1337 1299.5,-1405\"/>\n<text text-anchor=\"middle\" x=\"1229.5\" y=\"-1389.8\" font-family=\"Helvetica,sans-Serif\" font-size=\"14.00\">Skewness &lt;= &#45;0.883</text>\n<text text-anchor=\"middle\" x=\"1229.5\" y=\"-1374.8\" font-family=\"Helvetica,sans-Serif\" font-size=\"14.00\">gini = 0.255</text>\n<text text-anchor=\"middle\" x=\"1229.5\" y=\"-1359.8\" font-family=\"Helvetica,sans-Serif\" font-size=\"14.00\">samples = 120</text>\n<text text-anchor=\"middle\" x=\"1229.5\" y=\"-1344.8\" font-family=\"Helvetica,sans-Serif\" font-size=\"14.00\">value = [102, 18]</text>\n</g>\n<!-- 45&#45;&gt;51 -->\n<g id=\"edge51\" class=\"edge\">\n<title>45&#45;&gt;51</title>\n<path fill=\"none\" stroke=\"black\" d=\"M1076.25,-1445.04C1099.37,-1434.02 1126.06,-1421.3 1150.62,-1409.6\"/>\n<polygon fill=\"black\" stroke=\"black\" points=\"1152.39,-1412.63 1159.91,-1405.17 1149.38,-1406.31 1152.39,-1412.63\"/>\n</g>\n<!-- 47 -->\n<g id=\"node48\" class=\"node\">\n<title>47</title>\n<polygon fill=\"#f2c09c\" stroke=\"black\" points=\"1018,-1301 897,-1301 897,-1233 1018,-1233 1018,-1301\"/>\n<text text-anchor=\"middle\" x=\"957.5\" y=\"-1285.8\" font-family=\"Helvetica,sans-Serif\" font-size=\"14.00\">Entropy &lt;= 0.277</text>\n<text text-anchor=\"middle\" x=\"957.5\" y=\"-1270.8\" font-family=\"Helvetica,sans-Serif\" font-size=\"14.00\">gini = 0.444</text>\n<text text-anchor=\"middle\" x=\"957.5\" y=\"-1255.8\" font-family=\"Helvetica,sans-Serif\" font-size=\"14.00\">samples = 3</text>\n<text text-anchor=\"middle\" x=\"957.5\" y=\"-1240.8\" font-family=\"Helvetica,sans-Serif\" font-size=\"14.00\">value = [2, 1]</text>\n</g>\n<!-- 46&#45;&gt;47 -->\n<g id=\"edge47\" class=\"edge\">\n<title>46&#45;&gt;47</title>\n<path fill=\"none\" stroke=\"black\" d=\"M996.67,-1336.88C991.81,-1328.33 986.51,-1319.01 981.42,-1310.07\"/>\n<polygon fill=\"black\" stroke=\"black\" points=\"984.42,-1308.26 976.43,-1301.3 978.34,-1311.72 984.42,-1308.26\"/>\n</g>\n<!-- 50 -->\n<g id=\"node51\" class=\"node\">\n<title>50</title>\n<polygon fill=\"#399de5\" stroke=\"black\" points=\"1131,-1293.5 1036,-1293.5 1036,-1240.5 1131,-1240.5 1131,-1293.5\"/>\n<text text-anchor=\"middle\" x=\"1083.5\" y=\"-1278.3\" font-family=\"Helvetica,sans-Serif\" font-size=\"14.00\">gini = 0.0</text>\n<text text-anchor=\"middle\" x=\"1083.5\" y=\"-1263.3\" font-family=\"Helvetica,sans-Serif\" font-size=\"14.00\">samples = 3</text>\n<text text-anchor=\"middle\" x=\"1083.5\" y=\"-1248.3\" font-family=\"Helvetica,sans-Serif\" font-size=\"14.00\">value = [0, 3]</text>\n</g>\n<!-- 46&#45;&gt;50 -->\n<g id=\"edge50\" class=\"edge\">\n<title>46&#45;&gt;50</title>\n<path fill=\"none\" stroke=\"black\" d=\"M1037.58,-1336.88C1045.06,-1325.67 1053.42,-1313.13 1060.93,-1301.85\"/>\n<polygon fill=\"black\" stroke=\"black\" points=\"1063.85,-1303.78 1066.49,-1293.52 1058.03,-1299.9 1063.85,-1303.78\"/>\n</g>\n<!-- 48 -->\n<g id=\"node49\" class=\"node\">\n<title>48</title>\n<polygon fill=\"#399de5\" stroke=\"black\" points=\"954,-1189.5 859,-1189.5 859,-1136.5 954,-1136.5 954,-1189.5\"/>\n<text text-anchor=\"middle\" x=\"906.5\" y=\"-1174.3\" font-family=\"Helvetica,sans-Serif\" font-size=\"14.00\">gini = 0.0</text>\n<text text-anchor=\"middle\" x=\"906.5\" y=\"-1159.3\" font-family=\"Helvetica,sans-Serif\" font-size=\"14.00\">samples = 1</text>\n<text text-anchor=\"middle\" x=\"906.5\" y=\"-1144.3\" font-family=\"Helvetica,sans-Serif\" font-size=\"14.00\">value = [0, 1]</text>\n</g>\n<!-- 47&#45;&gt;48 -->\n<g id=\"edge48\" class=\"edge\">\n<title>47&#45;&gt;48</title>\n<path fill=\"none\" stroke=\"black\" d=\"M940.94,-1232.88C935.44,-1221.89 929.31,-1209.62 923.76,-1198.52\"/>\n<polygon fill=\"black\" stroke=\"black\" points=\"926.86,-1196.9 919.26,-1189.52 920.6,-1200.03 926.86,-1196.9\"/>\n</g>\n<!-- 49 -->\n<g id=\"node50\" class=\"node\">\n<title>49</title>\n<polygon fill=\"#e58139\" stroke=\"black\" points=\"1067,-1189.5 972,-1189.5 972,-1136.5 1067,-1136.5 1067,-1189.5\"/>\n<text text-anchor=\"middle\" x=\"1019.5\" y=\"-1174.3\" font-family=\"Helvetica,sans-Serif\" font-size=\"14.00\">gini = 0.0</text>\n<text text-anchor=\"middle\" x=\"1019.5\" y=\"-1159.3\" font-family=\"Helvetica,sans-Serif\" font-size=\"14.00\">samples = 2</text>\n<text text-anchor=\"middle\" x=\"1019.5\" y=\"-1144.3\" font-family=\"Helvetica,sans-Serif\" font-size=\"14.00\">value = [2, 0]</text>\n</g>\n<!-- 47&#45;&gt;49 -->\n<g id=\"edge49\" class=\"edge\">\n<title>47&#45;&gt;49</title>\n<path fill=\"none\" stroke=\"black\" d=\"M977.63,-1232.88C984.38,-1221.78 991.92,-1209.37 998.72,-1198.18\"/>\n<polygon fill=\"black\" stroke=\"black\" points=\"1001.78,-1199.88 1003.99,-1189.52 995.8,-1196.25 1001.78,-1199.88\"/>\n</g>\n<!-- 52 -->\n<g id=\"node53\" class=\"node\">\n<title>52</title>\n<polygon fill=\"#e68844\" stroke=\"black\" points=\"1299.5,-1301 1159.5,-1301 1159.5,-1233 1299.5,-1233 1299.5,-1301\"/>\n<text text-anchor=\"middle\" x=\"1229.5\" y=\"-1285.8\" font-family=\"Helvetica,sans-Serif\" font-size=\"14.00\">Skewness &lt;= &#45;1.737</text>\n<text text-anchor=\"middle\" x=\"1229.5\" y=\"-1270.8\" font-family=\"Helvetica,sans-Serif\" font-size=\"14.00\">gini = 0.097</text>\n<text text-anchor=\"middle\" x=\"1229.5\" y=\"-1255.8\" font-family=\"Helvetica,sans-Serif\" font-size=\"14.00\">samples = 39</text>\n<text text-anchor=\"middle\" x=\"1229.5\" y=\"-1240.8\" font-family=\"Helvetica,sans-Serif\" font-size=\"14.00\">value = [37, 2]</text>\n</g>\n<!-- 51&#45;&gt;52 -->\n<g id=\"edge52\" class=\"edge\">\n<title>51&#45;&gt;52</title>\n<path fill=\"none\" stroke=\"black\" d=\"M1229.5,-1336.88C1229.5,-1328.78 1229.5,-1319.98 1229.5,-1311.47\"/>\n<polygon fill=\"black\" stroke=\"black\" points=\"1233,-1311.3 1229.5,-1301.3 1226,-1311.3 1233,-1311.3\"/>\n</g>\n<!-- 61 -->\n<g id=\"node62\" class=\"node\">\n<title>61</title>\n<polygon fill=\"#eba06a\" stroke=\"black\" points=\"1466.5,-1301 1326.5,-1301 1326.5,-1233 1466.5,-1233 1466.5,-1301\"/>\n<text text-anchor=\"middle\" x=\"1396.5\" y=\"-1285.8\" font-family=\"Helvetica,sans-Serif\" font-size=\"14.00\">Skewness &lt;= &#45;0.881</text>\n<text text-anchor=\"middle\" x=\"1396.5\" y=\"-1270.8\" font-family=\"Helvetica,sans-Serif\" font-size=\"14.00\">gini = 0.317</text>\n<text text-anchor=\"middle\" x=\"1396.5\" y=\"-1255.8\" font-family=\"Helvetica,sans-Serif\" font-size=\"14.00\">samples = 81</text>\n<text text-anchor=\"middle\" x=\"1396.5\" y=\"-1240.8\" font-family=\"Helvetica,sans-Serif\" font-size=\"14.00\">value = [65, 16]</text>\n</g>\n<!-- 51&#45;&gt;61 -->\n<g id=\"edge61\" class=\"edge\">\n<title>51&#45;&gt;61</title>\n<path fill=\"none\" stroke=\"black\" d=\"M1283.72,-1336.88C1299.55,-1327.21 1316.99,-1316.56 1333.32,-1306.59\"/>\n<polygon fill=\"black\" stroke=\"black\" points=\"1335.56,-1309.32 1342.27,-1301.12 1331.91,-1303.35 1335.56,-1309.32\"/>\n</g>\n<!-- 53 -->\n<g id=\"node54\" class=\"node\">\n<title>53</title>\n<polygon fill=\"#eeab7b\" stroke=\"black\" points=\"1218,-1197 1085,-1197 1085,-1129 1218,-1129 1218,-1197\"/>\n<text text-anchor=\"middle\" x=\"1151.5\" y=\"-1181.8\" font-family=\"Helvetica,sans-Serif\" font-size=\"14.00\">Skewness &lt;= &#45;1.76</text>\n<text text-anchor=\"middle\" x=\"1151.5\" y=\"-1166.8\" font-family=\"Helvetica,sans-Serif\" font-size=\"14.00\">gini = 0.375</text>\n<text text-anchor=\"middle\" x=\"1151.5\" y=\"-1151.8\" font-family=\"Helvetica,sans-Serif\" font-size=\"14.00\">samples = 8</text>\n<text text-anchor=\"middle\" x=\"1151.5\" y=\"-1136.8\" font-family=\"Helvetica,sans-Serif\" font-size=\"14.00\">value = [6, 2]</text>\n</g>\n<!-- 52&#45;&gt;53 -->\n<g id=\"edge53\" class=\"edge\">\n<title>52&#45;&gt;53</title>\n<path fill=\"none\" stroke=\"black\" d=\"M1204.18,-1232.88C1197.5,-1224.15 1190.21,-1214.62 1183.25,-1205.51\"/>\n<polygon fill=\"black\" stroke=\"black\" points=\"1185.82,-1203.12 1176.96,-1197.3 1180.26,-1207.37 1185.82,-1203.12\"/>\n</g>\n<!-- 60 -->\n<g id=\"node61\" class=\"node\">\n<title>60</title>\n<polygon fill=\"#e58139\" stroke=\"black\" points=\"1338.5,-1189.5 1236.5,-1189.5 1236.5,-1136.5 1338.5,-1136.5 1338.5,-1189.5\"/>\n<text text-anchor=\"middle\" x=\"1287.5\" y=\"-1174.3\" font-family=\"Helvetica,sans-Serif\" font-size=\"14.00\">gini = 0.0</text>\n<text text-anchor=\"middle\" x=\"1287.5\" y=\"-1159.3\" font-family=\"Helvetica,sans-Serif\" font-size=\"14.00\">samples = 31</text>\n<text text-anchor=\"middle\" x=\"1287.5\" y=\"-1144.3\" font-family=\"Helvetica,sans-Serif\" font-size=\"14.00\">value = [31, 0]</text>\n</g>\n<!-- 52&#45;&gt;60 -->\n<g id=\"edge60\" class=\"edge\">\n<title>52&#45;&gt;60</title>\n<path fill=\"none\" stroke=\"black\" d=\"M1248.33,-1232.88C1254.58,-1221.89 1261.56,-1209.62 1267.87,-1198.52\"/>\n<polygon fill=\"black\" stroke=\"black\" points=\"1271.09,-1199.94 1272.99,-1189.52 1265,-1196.48 1271.09,-1199.94\"/>\n</g>\n<!-- 54 -->\n<g id=\"node55\" class=\"node\">\n<title>54</title>\n<polygon fill=\"#e9965a\" stroke=\"black\" points=\"1122,-1093 995,-1093 995,-1025 1122,-1025 1122,-1093\"/>\n<text text-anchor=\"middle\" x=\"1058.5\" y=\"-1077.8\" font-family=\"Helvetica,sans-Serif\" font-size=\"14.00\">Variance &lt;= 0.733</text>\n<text text-anchor=\"middle\" x=\"1058.5\" y=\"-1062.8\" font-family=\"Helvetica,sans-Serif\" font-size=\"14.00\">gini = 0.245</text>\n<text text-anchor=\"middle\" x=\"1058.5\" y=\"-1047.8\" font-family=\"Helvetica,sans-Serif\" font-size=\"14.00\">samples = 7</text>\n<text text-anchor=\"middle\" x=\"1058.5\" y=\"-1032.8\" font-family=\"Helvetica,sans-Serif\" font-size=\"14.00\">value = [6, 1]</text>\n</g>\n<!-- 53&#45;&gt;54 -->\n<g id=\"edge54\" class=\"edge\">\n<title>53&#45;&gt;54</title>\n<path fill=\"none\" stroke=\"black\" d=\"M1121.31,-1128.88C1113.18,-1119.98 1104.3,-1110.24 1095.84,-1100.96\"/>\n<polygon fill=\"black\" stroke=\"black\" points=\"1098.19,-1098.33 1088.86,-1093.3 1093.01,-1103.05 1098.19,-1098.33\"/>\n</g>\n<!-- 59 -->\n<g id=\"node60\" class=\"node\">\n<title>59</title>\n<polygon fill=\"#399de5\" stroke=\"black\" points=\"1235,-1085.5 1140,-1085.5 1140,-1032.5 1235,-1032.5 1235,-1085.5\"/>\n<text text-anchor=\"middle\" x=\"1187.5\" y=\"-1070.3\" font-family=\"Helvetica,sans-Serif\" font-size=\"14.00\">gini = 0.0</text>\n<text text-anchor=\"middle\" x=\"1187.5\" y=\"-1055.3\" font-family=\"Helvetica,sans-Serif\" font-size=\"14.00\">samples = 1</text>\n<text text-anchor=\"middle\" x=\"1187.5\" y=\"-1040.3\" font-family=\"Helvetica,sans-Serif\" font-size=\"14.00\">value = [0, 1]</text>\n</g>\n<!-- 53&#45;&gt;59 -->\n<g id=\"edge59\" class=\"edge\">\n<title>53&#45;&gt;59</title>\n<path fill=\"none\" stroke=\"black\" d=\"M1163.19,-1128.88C1166.99,-1118.11 1171.23,-1106.11 1175.08,-1095.18\"/>\n<polygon fill=\"black\" stroke=\"black\" points=\"1178.47,-1096.11 1178.49,-1085.52 1171.86,-1093.78 1178.47,-1096.11\"/>\n</g>\n<!-- 55 -->\n<g id=\"node56\" class=\"node\">\n<title>55</title>\n<polygon fill=\"#e58139\" stroke=\"black\" points=\"1055,-981.5 960,-981.5 960,-928.5 1055,-928.5 1055,-981.5\"/>\n<text text-anchor=\"middle\" x=\"1007.5\" y=\"-966.3\" font-family=\"Helvetica,sans-Serif\" font-size=\"14.00\">gini = 0.0</text>\n<text text-anchor=\"middle\" x=\"1007.5\" y=\"-951.3\" font-family=\"Helvetica,sans-Serif\" font-size=\"14.00\">samples = 5</text>\n<text text-anchor=\"middle\" x=\"1007.5\" y=\"-936.3\" font-family=\"Helvetica,sans-Serif\" font-size=\"14.00\">value = [5, 0]</text>\n</g>\n<!-- 54&#45;&gt;55 -->\n<g id=\"edge55\" class=\"edge\">\n<title>54&#45;&gt;55</title>\n<path fill=\"none\" stroke=\"black\" d=\"M1041.94,-1024.88C1036.44,-1013.89 1030.31,-1001.62 1024.76,-990.52\"/>\n<polygon fill=\"black\" stroke=\"black\" points=\"1027.86,-988.9 1020.26,-981.52 1021.6,-992.03 1027.86,-988.9\"/>\n</g>\n<!-- 56 -->\n<g id=\"node57\" class=\"node\">\n<title>56</title>\n<polygon fill=\"#ffffff\" stroke=\"black\" points=\"1200,-989 1073,-989 1073,-921 1200,-921 1200,-989\"/>\n<text text-anchor=\"middle\" x=\"1136.5\" y=\"-973.8\" font-family=\"Helvetica,sans-Serif\" font-size=\"14.00\">Variance &lt;= 0.999</text>\n<text text-anchor=\"middle\" x=\"1136.5\" y=\"-958.8\" font-family=\"Helvetica,sans-Serif\" font-size=\"14.00\">gini = 0.5</text>\n<text text-anchor=\"middle\" x=\"1136.5\" y=\"-943.8\" font-family=\"Helvetica,sans-Serif\" font-size=\"14.00\">samples = 2</text>\n<text text-anchor=\"middle\" x=\"1136.5\" y=\"-928.8\" font-family=\"Helvetica,sans-Serif\" font-size=\"14.00\">value = [1, 1]</text>\n</g>\n<!-- 54&#45;&gt;56 -->\n<g id=\"edge56\" class=\"edge\">\n<title>54&#45;&gt;56</title>\n<path fill=\"none\" stroke=\"black\" d=\"M1083.82,-1024.88C1090.5,-1016.15 1097.79,-1006.62 1104.75,-997.51\"/>\n<polygon fill=\"black\" stroke=\"black\" points=\"1107.74,-999.37 1111.04,-989.3 1102.18,-995.12 1107.74,-999.37\"/>\n</g>\n<!-- 57 -->\n<g id=\"node58\" class=\"node\">\n<title>57</title>\n<polygon fill=\"#399de5\" stroke=\"black\" points=\"1085,-877.5 990,-877.5 990,-824.5 1085,-824.5 1085,-877.5\"/>\n<text text-anchor=\"middle\" x=\"1037.5\" y=\"-862.3\" font-family=\"Helvetica,sans-Serif\" font-size=\"14.00\">gini = 0.0</text>\n<text text-anchor=\"middle\" x=\"1037.5\" y=\"-847.3\" font-family=\"Helvetica,sans-Serif\" font-size=\"14.00\">samples = 1</text>\n<text text-anchor=\"middle\" x=\"1037.5\" y=\"-832.3\" font-family=\"Helvetica,sans-Serif\" font-size=\"14.00\">value = [0, 1]</text>\n</g>\n<!-- 56&#45;&gt;57 -->\n<g id=\"edge57\" class=\"edge\">\n<title>56&#45;&gt;57</title>\n<path fill=\"none\" stroke=\"black\" d=\"M1104.36,-920.88C1093.15,-909.34 1080.58,-896.39 1069.39,-884.86\"/>\n<polygon fill=\"black\" stroke=\"black\" points=\"1071.75,-882.26 1062.27,-877.52 1066.72,-887.13 1071.75,-882.26\"/>\n</g>\n<!-- 58 -->\n<g id=\"node59\" class=\"node\">\n<title>58</title>\n<polygon fill=\"#e58139\" stroke=\"black\" points=\"1198,-877.5 1103,-877.5 1103,-824.5 1198,-824.5 1198,-877.5\"/>\n<text text-anchor=\"middle\" x=\"1150.5\" y=\"-862.3\" font-family=\"Helvetica,sans-Serif\" font-size=\"14.00\">gini = 0.0</text>\n<text text-anchor=\"middle\" x=\"1150.5\" y=\"-847.3\" font-family=\"Helvetica,sans-Serif\" font-size=\"14.00\">samples = 1</text>\n<text text-anchor=\"middle\" x=\"1150.5\" y=\"-832.3\" font-family=\"Helvetica,sans-Serif\" font-size=\"14.00\">value = [1, 0]</text>\n</g>\n<!-- 56&#45;&gt;58 -->\n<g id=\"edge58\" class=\"edge\">\n<title>56&#45;&gt;58</title>\n<path fill=\"none\" stroke=\"black\" d=\"M1141.05,-920.88C1142.51,-910.22 1144.14,-898.35 1145.62,-887.52\"/>\n<polygon fill=\"black\" stroke=\"black\" points=\"1149.1,-887.9 1147,-877.52 1142.17,-886.95 1149.1,-887.9\"/>\n</g>\n<!-- 62 -->\n<g id=\"node63\" class=\"node\">\n<title>62</title>\n<polygon fill=\"#399de5\" stroke=\"black\" points=\"1452,-1189.5 1357,-1189.5 1357,-1136.5 1452,-1136.5 1452,-1189.5\"/>\n<text text-anchor=\"middle\" x=\"1404.5\" y=\"-1174.3\" font-family=\"Helvetica,sans-Serif\" font-size=\"14.00\">gini = 0.0</text>\n<text text-anchor=\"middle\" x=\"1404.5\" y=\"-1159.3\" font-family=\"Helvetica,sans-Serif\" font-size=\"14.00\">samples = 1</text>\n<text text-anchor=\"middle\" x=\"1404.5\" y=\"-1144.3\" font-family=\"Helvetica,sans-Serif\" font-size=\"14.00\">value = [0, 1]</text>\n</g>\n<!-- 61&#45;&gt;62 -->\n<g id=\"edge62\" class=\"edge\">\n<title>61&#45;&gt;62</title>\n<path fill=\"none\" stroke=\"black\" d=\"M1399.1,-1232.88C1399.93,-1222.22 1400.86,-1210.35 1401.71,-1199.52\"/>\n<polygon fill=\"black\" stroke=\"black\" points=\"1405.21,-1199.76 1402.5,-1189.52 1398.23,-1199.22 1405.21,-1199.76\"/>\n</g>\n<!-- 63 -->\n<g id=\"node64\" class=\"node\">\n<title>63</title>\n<polygon fill=\"#eb9e67\" stroke=\"black\" points=\"1597,-1197 1470,-1197 1470,-1129 1597,-1129 1597,-1197\"/>\n<text text-anchor=\"middle\" x=\"1533.5\" y=\"-1181.8\" font-family=\"Helvetica,sans-Serif\" font-size=\"14.00\">Variance &lt;= 0.876</text>\n<text text-anchor=\"middle\" x=\"1533.5\" y=\"-1166.8\" font-family=\"Helvetica,sans-Serif\" font-size=\"14.00\">gini = 0.305</text>\n<text text-anchor=\"middle\" x=\"1533.5\" y=\"-1151.8\" font-family=\"Helvetica,sans-Serif\" font-size=\"14.00\">samples = 80</text>\n<text text-anchor=\"middle\" x=\"1533.5\" y=\"-1136.8\" font-family=\"Helvetica,sans-Serif\" font-size=\"14.00\">value = [65, 15]</text>\n</g>\n<!-- 61&#45;&gt;63 -->\n<g id=\"edge63\" class=\"edge\">\n<title>61&#45;&gt;63</title>\n<path fill=\"none\" stroke=\"black\" d=\"M1440.98,-1232.88C1453.66,-1223.44 1467.6,-1213.06 1480.73,-1203.29\"/>\n<polygon fill=\"black\" stroke=\"black\" points=\"1482.84,-1206.08 1488.77,-1197.3 1478.66,-1200.46 1482.84,-1206.08\"/>\n</g>\n<!-- 64 -->\n<g id=\"node65\" class=\"node\">\n<title>64</title>\n<polygon fill=\"#eca572\" stroke=\"black\" points=\"1492,-1093 1365,-1093 1365,-1025 1492,-1025 1492,-1093\"/>\n<text text-anchor=\"middle\" x=\"1428.5\" y=\"-1077.8\" font-family=\"Helvetica,sans-Serif\" font-size=\"14.00\">Variance &lt;= 0.814</text>\n<text text-anchor=\"middle\" x=\"1428.5\" y=\"-1062.8\" font-family=\"Helvetica,sans-Serif\" font-size=\"14.00\">gini = 0.346</text>\n<text text-anchor=\"middle\" x=\"1428.5\" y=\"-1047.8\" font-family=\"Helvetica,sans-Serif\" font-size=\"14.00\">samples = 63</text>\n<text text-anchor=\"middle\" x=\"1428.5\" y=\"-1032.8\" font-family=\"Helvetica,sans-Serif\" font-size=\"14.00\">value = [49, 14]</text>\n</g>\n<!-- 63&#45;&gt;64 -->\n<g id=\"edge64\" class=\"edge\">\n<title>63&#45;&gt;64</title>\n<path fill=\"none\" stroke=\"black\" d=\"M1499.41,-1128.88C1490.06,-1119.8 1479.81,-1109.85 1470.09,-1100.4\"/>\n<polygon fill=\"black\" stroke=\"black\" points=\"1472.39,-1097.76 1462.78,-1093.3 1467.51,-1102.78 1472.39,-1097.76\"/>\n</g>\n<!-- 97 -->\n<g id=\"node98\" class=\"node\">\n<title>97</title>\n<polygon fill=\"#e78945\" stroke=\"black\" points=\"1631,-1093 1510,-1093 1510,-1025 1631,-1025 1631,-1093\"/>\n<text text-anchor=\"middle\" x=\"1570.5\" y=\"-1077.8\" font-family=\"Helvetica,sans-Serif\" font-size=\"14.00\">Entropy &lt;= 0.748</text>\n<text text-anchor=\"middle\" x=\"1570.5\" y=\"-1062.8\" font-family=\"Helvetica,sans-Serif\" font-size=\"14.00\">gini = 0.111</text>\n<text text-anchor=\"middle\" x=\"1570.5\" y=\"-1047.8\" font-family=\"Helvetica,sans-Serif\" font-size=\"14.00\">samples = 17</text>\n<text text-anchor=\"middle\" x=\"1570.5\" y=\"-1032.8\" font-family=\"Helvetica,sans-Serif\" font-size=\"14.00\">value = [16, 1]</text>\n</g>\n<!-- 63&#45;&gt;97 -->\n<g id=\"edge97\" class=\"edge\">\n<title>63&#45;&gt;97</title>\n<path fill=\"none\" stroke=\"black\" d=\"M1545.51,-1128.88C1548.52,-1120.6 1551.78,-1111.6 1554.93,-1102.91\"/>\n<polygon fill=\"black\" stroke=\"black\" points=\"1558.3,-1103.89 1558.42,-1093.3 1551.72,-1101.51 1558.3,-1103.89\"/>\n</g>\n<!-- 65 -->\n<g id=\"node66\" class=\"node\">\n<title>65</title>\n<polygon fill=\"#eba069\" stroke=\"black\" points=\"1366.5,-989 1226.5,-989 1226.5,-921 1366.5,-921 1366.5,-989\"/>\n<text text-anchor=\"middle\" x=\"1296.5\" y=\"-973.8\" font-family=\"Helvetica,sans-Serif\" font-size=\"14.00\">Skewness &lt;= &#45;0.808</text>\n<text text-anchor=\"middle\" x=\"1296.5\" y=\"-958.8\" font-family=\"Helvetica,sans-Serif\" font-size=\"14.00\">gini = 0.316</text>\n<text text-anchor=\"middle\" x=\"1296.5\" y=\"-943.8\" font-family=\"Helvetica,sans-Serif\" font-size=\"14.00\">samples = 61</text>\n<text text-anchor=\"middle\" x=\"1296.5\" y=\"-928.8\" font-family=\"Helvetica,sans-Serif\" font-size=\"14.00\">value = [49, 12]</text>\n</g>\n<!-- 64&#45;&gt;65 -->\n<g id=\"edge65\" class=\"edge\">\n<title>64&#45;&gt;65</title>\n<path fill=\"none\" stroke=\"black\" d=\"M1385.64,-1024.88C1373.54,-1015.53 1360.25,-1005.26 1347.71,-995.57\"/>\n<polygon fill=\"black\" stroke=\"black\" points=\"1349.65,-992.64 1339.59,-989.3 1345.37,-998.18 1349.65,-992.64\"/>\n</g>\n<!-- 96 -->\n<g id=\"node97\" class=\"node\">\n<title>96</title>\n<polygon fill=\"#399de5\" stroke=\"black\" points=\"1480,-981.5 1385,-981.5 1385,-928.5 1480,-928.5 1480,-981.5\"/>\n<text text-anchor=\"middle\" x=\"1432.5\" y=\"-966.3\" font-family=\"Helvetica,sans-Serif\" font-size=\"14.00\">gini = 0.0</text>\n<text text-anchor=\"middle\" x=\"1432.5\" y=\"-951.3\" font-family=\"Helvetica,sans-Serif\" font-size=\"14.00\">samples = 2</text>\n<text text-anchor=\"middle\" x=\"1432.5\" y=\"-936.3\" font-family=\"Helvetica,sans-Serif\" font-size=\"14.00\">value = [0, 2]</text>\n</g>\n<!-- 64&#45;&gt;96 -->\n<g id=\"edge96\" class=\"edge\">\n<title>64&#45;&gt;96</title>\n<path fill=\"none\" stroke=\"black\" d=\"M1429.8,-1024.88C1430.22,-1014.22 1430.68,-1002.35 1431.11,-991.52\"/>\n<polygon fill=\"black\" stroke=\"black\" points=\"1434.6,-991.65 1431.5,-981.52 1427.61,-991.38 1434.6,-991.65\"/>\n</g>\n<!-- 66 -->\n<g id=\"node67\" class=\"node\">\n<title>66</title>\n<polygon fill=\"#399de5\" stroke=\"black\" points=\"1330,-877.5 1235,-877.5 1235,-824.5 1330,-824.5 1330,-877.5\"/>\n<text text-anchor=\"middle\" x=\"1282.5\" y=\"-862.3\" font-family=\"Helvetica,sans-Serif\" font-size=\"14.00\">gini = 0.0</text>\n<text text-anchor=\"middle\" x=\"1282.5\" y=\"-847.3\" font-family=\"Helvetica,sans-Serif\" font-size=\"14.00\">samples = 1</text>\n<text text-anchor=\"middle\" x=\"1282.5\" y=\"-832.3\" font-family=\"Helvetica,sans-Serif\" font-size=\"14.00\">value = [0, 1]</text>\n</g>\n<!-- 65&#45;&gt;66 -->\n<g id=\"edge66\" class=\"edge\">\n<title>65&#45;&gt;66</title>\n<path fill=\"none\" stroke=\"black\" d=\"M1291.95,-920.88C1290.49,-910.22 1288.86,-898.35 1287.38,-887.52\"/>\n<polygon fill=\"black\" stroke=\"black\" points=\"1290.83,-886.95 1286,-877.52 1283.9,-887.9 1290.83,-886.95\"/>\n</g>\n<!-- 67 -->\n<g id=\"node68\" class=\"node\">\n<title>67</title>\n<polygon fill=\"#eb9d65\" stroke=\"black\" points=\"1469,-885 1348,-885 1348,-817 1469,-817 1469,-885\"/>\n<text text-anchor=\"middle\" x=\"1408.5\" y=\"-869.8\" font-family=\"Helvetica,sans-Serif\" font-size=\"14.00\">Entropy &lt;= 0.888</text>\n<text text-anchor=\"middle\" x=\"1408.5\" y=\"-854.8\" font-family=\"Helvetica,sans-Serif\" font-size=\"14.00\">gini = 0.299</text>\n<text text-anchor=\"middle\" x=\"1408.5\" y=\"-839.8\" font-family=\"Helvetica,sans-Serif\" font-size=\"14.00\">samples = 60</text>\n<text text-anchor=\"middle\" x=\"1408.5\" y=\"-824.8\" font-family=\"Helvetica,sans-Serif\" font-size=\"14.00\">value = [49, 11]</text>\n</g>\n<!-- 65&#45;&gt;67 -->\n<g id=\"edge67\" class=\"edge\">\n<title>65&#45;&gt;67</title>\n<path fill=\"none\" stroke=\"black\" d=\"M1332.86,-920.88C1342.94,-911.71 1353.98,-901.65 1364.44,-892.12\"/>\n<polygon fill=\"black\" stroke=\"black\" points=\"1366.9,-894.62 1371.94,-885.3 1362.19,-889.44 1366.9,-894.62\"/>\n</g>\n<!-- 68 -->\n<g id=\"node69\" class=\"node\">\n<title>68</title>\n<polygon fill=\"#eca470\" stroke=\"black\" points=\"1400,-781 1279,-781 1279,-713 1400,-713 1400,-781\"/>\n<text text-anchor=\"middle\" x=\"1339.5\" y=\"-765.8\" font-family=\"Helvetica,sans-Serif\" font-size=\"14.00\">Entropy &lt;= 0.874</text>\n<text text-anchor=\"middle\" x=\"1339.5\" y=\"-750.8\" font-family=\"Helvetica,sans-Serif\" font-size=\"14.00\">gini = 0.34</text>\n<text text-anchor=\"middle\" x=\"1339.5\" y=\"-735.8\" font-family=\"Helvetica,sans-Serif\" font-size=\"14.00\">samples = 46</text>\n<text text-anchor=\"middle\" x=\"1339.5\" y=\"-720.8\" font-family=\"Helvetica,sans-Serif\" font-size=\"14.00\">value = [36, 10]</text>\n</g>\n<!-- 67&#45;&gt;68 -->\n<g id=\"edge68\" class=\"edge\">\n<title>67&#45;&gt;68</title>\n<path fill=\"none\" stroke=\"black\" d=\"M1386.1,-816.88C1380.25,-808.24 1373.88,-798.82 1367.77,-789.79\"/>\n<polygon fill=\"black\" stroke=\"black\" points=\"1370.53,-787.62 1362.03,-781.3 1364.73,-791.54 1370.53,-787.62\"/>\n</g>\n<!-- 91 -->\n<g id=\"node92\" class=\"node\">\n<title>91</title>\n<polygon fill=\"#e78b48\" stroke=\"black\" points=\"1537,-781 1418,-781 1418,-713 1537,-713 1537,-781\"/>\n<text text-anchor=\"middle\" x=\"1477.5\" y=\"-765.8\" font-family=\"Helvetica,sans-Serif\" font-size=\"14.00\">Variance &lt;= 0.01</text>\n<text text-anchor=\"middle\" x=\"1477.5\" y=\"-750.8\" font-family=\"Helvetica,sans-Serif\" font-size=\"14.00\">gini = 0.133</text>\n<text text-anchor=\"middle\" x=\"1477.5\" y=\"-735.8\" font-family=\"Helvetica,sans-Serif\" font-size=\"14.00\">samples = 14</text>\n<text text-anchor=\"middle\" x=\"1477.5\" y=\"-720.8\" font-family=\"Helvetica,sans-Serif\" font-size=\"14.00\">value = [13, 1]</text>\n</g>\n<!-- 67&#45;&gt;91 -->\n<g id=\"edge91\" class=\"edge\">\n<title>67&#45;&gt;91</title>\n<path fill=\"none\" stroke=\"black\" d=\"M1430.9,-816.88C1436.75,-808.24 1443.12,-798.82 1449.23,-789.79\"/>\n<polygon fill=\"black\" stroke=\"black\" points=\"1452.27,-791.54 1454.97,-781.3 1446.47,-787.62 1452.27,-791.54\"/>\n</g>\n<!-- 69 -->\n<g id=\"node70\" class=\"node\">\n<title>69</title>\n<polygon fill=\"#eb9d65\" stroke=\"black\" points=\"1279,-677 1152,-677 1152,-609 1279,-609 1279,-677\"/>\n<text text-anchor=\"middle\" x=\"1215.5\" y=\"-661.8\" font-family=\"Helvetica,sans-Serif\" font-size=\"14.00\">Variance &lt;= 0.649</text>\n<text text-anchor=\"middle\" x=\"1215.5\" y=\"-646.8\" font-family=\"Helvetica,sans-Serif\" font-size=\"14.00\">gini = 0.298</text>\n<text text-anchor=\"middle\" x=\"1215.5\" y=\"-631.8\" font-family=\"Helvetica,sans-Serif\" font-size=\"14.00\">samples = 44</text>\n<text text-anchor=\"middle\" x=\"1215.5\" y=\"-616.8\" font-family=\"Helvetica,sans-Serif\" font-size=\"14.00\">value = [36, 8]</text>\n</g>\n<!-- 68&#45;&gt;69 -->\n<g id=\"edge69\" class=\"edge\">\n<title>68&#45;&gt;69</title>\n<path fill=\"none\" stroke=\"black\" d=\"M1299.24,-712.88C1287.98,-703.62 1275.62,-693.45 1263.94,-683.85\"/>\n<polygon fill=\"black\" stroke=\"black\" points=\"1265.93,-680.95 1255.98,-677.3 1261.48,-686.36 1265.93,-680.95\"/>\n</g>\n<!-- 90 -->\n<g id=\"node91\" class=\"node\">\n<title>90</title>\n<polygon fill=\"#399de5\" stroke=\"black\" points=\"1392,-669.5 1297,-669.5 1297,-616.5 1392,-616.5 1392,-669.5\"/>\n<text text-anchor=\"middle\" x=\"1344.5\" y=\"-654.3\" font-family=\"Helvetica,sans-Serif\" font-size=\"14.00\">gini = 0.0</text>\n<text text-anchor=\"middle\" x=\"1344.5\" y=\"-639.3\" font-family=\"Helvetica,sans-Serif\" font-size=\"14.00\">samples = 2</text>\n<text text-anchor=\"middle\" x=\"1344.5\" y=\"-624.3\" font-family=\"Helvetica,sans-Serif\" font-size=\"14.00\">value = [0, 2]</text>\n</g>\n<!-- 68&#45;&gt;90 -->\n<g id=\"edge90\" class=\"edge\">\n<title>68&#45;&gt;90</title>\n<path fill=\"none\" stroke=\"black\" d=\"M1341.12,-712.88C1341.65,-702.22 1342.23,-690.35 1342.76,-679.52\"/>\n<polygon fill=\"black\" stroke=\"black\" points=\"1346.26,-679.68 1343.25,-669.52 1339.26,-679.34 1346.26,-679.68\"/>\n</g>\n<!-- 70 -->\n<g id=\"node71\" class=\"node\">\n<title>70</title>\n<polygon fill=\"#ea985d\" stroke=\"black\" points=\"1169,-573 1038,-573 1038,-505 1169,-505 1169,-573\"/>\n<text text-anchor=\"middle\" x=\"1103.5\" y=\"-557.8\" font-family=\"Helvetica,sans-Serif\" font-size=\"14.00\">Variance &lt;= &#45;0.436</text>\n<text text-anchor=\"middle\" x=\"1103.5\" y=\"-542.8\" font-family=\"Helvetica,sans-Serif\" font-size=\"14.00\">gini = 0.26</text>\n<text text-anchor=\"middle\" x=\"1103.5\" y=\"-527.8\" font-family=\"Helvetica,sans-Serif\" font-size=\"14.00\">samples = 39</text>\n<text text-anchor=\"middle\" x=\"1103.5\" y=\"-512.8\" font-family=\"Helvetica,sans-Serif\" font-size=\"14.00\">value = [33, 6]</text>\n</g>\n<!-- 69&#45;&gt;70 -->\n<g id=\"edge70\" class=\"edge\">\n<title>69&#45;&gt;70</title>\n<path fill=\"none\" stroke=\"black\" d=\"M1179.14,-608.88C1169.06,-599.71 1158.02,-589.65 1147.56,-580.12\"/>\n<polygon fill=\"black\" stroke=\"black\" points=\"1149.81,-577.44 1140.06,-573.3 1145.1,-582.62 1149.81,-577.44\"/>\n</g>\n<!-- 87 -->\n<g id=\"node88\" class=\"node\">\n<title>87</title>\n<polygon fill=\"#f6d5bd\" stroke=\"black\" points=\"1308,-573 1187,-573 1187,-505 1308,-505 1308,-573\"/>\n<text text-anchor=\"middle\" x=\"1247.5\" y=\"-557.8\" font-family=\"Helvetica,sans-Serif\" font-size=\"14.00\">Entropy &lt;= 0.502</text>\n<text text-anchor=\"middle\" x=\"1247.5\" y=\"-542.8\" font-family=\"Helvetica,sans-Serif\" font-size=\"14.00\">gini = 0.48</text>\n<text text-anchor=\"middle\" x=\"1247.5\" y=\"-527.8\" font-family=\"Helvetica,sans-Serif\" font-size=\"14.00\">samples = 5</text>\n<text text-anchor=\"middle\" x=\"1247.5\" y=\"-512.8\" font-family=\"Helvetica,sans-Serif\" font-size=\"14.00\">value = [3, 2]</text>\n</g>\n<!-- 69&#45;&gt;87 -->\n<g id=\"edge87\" class=\"edge\">\n<title>69&#45;&gt;87</title>\n<path fill=\"none\" stroke=\"black\" d=\"M1225.89,-608.88C1228.49,-600.6 1231.31,-591.6 1234.04,-582.91\"/>\n<polygon fill=\"black\" stroke=\"black\" points=\"1237.4,-583.89 1237.05,-573.3 1230.72,-581.79 1237.4,-583.89\"/>\n</g>\n<!-- 71 -->\n<g id=\"node72\" class=\"node\">\n<title>71</title>\n<polygon fill=\"#eeaf81\" stroke=\"black\" points=\"1020,-469 889,-469 889,-401 1020,-401 1020,-469\"/>\n<text text-anchor=\"middle\" x=\"954.5\" y=\"-453.8\" font-family=\"Helvetica,sans-Serif\" font-size=\"14.00\">Variance &lt;= &#45;0.532</text>\n<text text-anchor=\"middle\" x=\"954.5\" y=\"-438.8\" font-family=\"Helvetica,sans-Serif\" font-size=\"14.00\">gini = 0.391</text>\n<text text-anchor=\"middle\" x=\"954.5\" y=\"-423.8\" font-family=\"Helvetica,sans-Serif\" font-size=\"14.00\">samples = 15</text>\n<text text-anchor=\"middle\" x=\"954.5\" y=\"-408.8\" font-family=\"Helvetica,sans-Serif\" font-size=\"14.00\">value = [11, 4]</text>\n</g>\n<!-- 70&#45;&gt;71 -->\n<g id=\"edge71\" class=\"edge\">\n<title>70&#45;&gt;71</title>\n<path fill=\"none\" stroke=\"black\" d=\"M1055.12,-504.88C1041.13,-495.3 1025.73,-484.76 1011.27,-474.86\"/>\n<polygon fill=\"black\" stroke=\"black\" points=\"1013.12,-471.89 1002.89,-469.12 1009.16,-477.66 1013.12,-471.89\"/>\n</g>\n<!-- 78 -->\n<g id=\"node79\" class=\"node\">\n<title>78</title>\n<polygon fill=\"#e78c4b\" stroke=\"black\" points=\"1174.5,-469 1038.5,-469 1038.5,-401 1174.5,-401 1174.5,-469\"/>\n<text text-anchor=\"middle\" x=\"1106.5\" y=\"-453.8\" font-family=\"Helvetica,sans-Serif\" font-size=\"14.00\">Skewness &lt;= 0.319</text>\n<text text-anchor=\"middle\" x=\"1106.5\" y=\"-438.8\" font-family=\"Helvetica,sans-Serif\" font-size=\"14.00\">gini = 0.153</text>\n<text text-anchor=\"middle\" x=\"1106.5\" y=\"-423.8\" font-family=\"Helvetica,sans-Serif\" font-size=\"14.00\">samples = 24</text>\n<text text-anchor=\"middle\" x=\"1106.5\" y=\"-408.8\" font-family=\"Helvetica,sans-Serif\" font-size=\"14.00\">value = [22, 2]</text>\n</g>\n<!-- 70&#45;&gt;78 -->\n<g id=\"edge78\" class=\"edge\">\n<title>70&#45;&gt;78</title>\n<path fill=\"none\" stroke=\"black\" d=\"M1104.47,-504.88C1104.71,-496.78 1104.97,-487.98 1105.22,-479.47\"/>\n<polygon fill=\"black\" stroke=\"black\" points=\"1108.73,-479.4 1105.52,-469.3 1101.73,-479.19 1108.73,-479.4\"/>\n</g>\n<!-- 72 -->\n<g id=\"node73\" class=\"node\">\n<title>72</title>\n<polygon fill=\"#ea985d\" stroke=\"black\" points=\"906,-365 785,-365 785,-297 906,-297 906,-365\"/>\n<text text-anchor=\"middle\" x=\"845.5\" y=\"-349.8\" font-family=\"Helvetica,sans-Serif\" font-size=\"14.00\">Entropy &lt;= 0.582</text>\n<text text-anchor=\"middle\" x=\"845.5\" y=\"-334.8\" font-family=\"Helvetica,sans-Serif\" font-size=\"14.00\">gini = 0.26</text>\n<text text-anchor=\"middle\" x=\"845.5\" y=\"-319.8\" font-family=\"Helvetica,sans-Serif\" font-size=\"14.00\">samples = 13</text>\n<text text-anchor=\"middle\" x=\"845.5\" y=\"-304.8\" font-family=\"Helvetica,sans-Serif\" font-size=\"14.00\">value = [11, 2]</text>\n</g>\n<!-- 71&#45;&gt;72 -->\n<g id=\"edge72\" class=\"edge\">\n<title>71&#45;&gt;72</title>\n<path fill=\"none\" stroke=\"black\" d=\"M919.11,-400.88C909.4,-391.8 898.77,-381.85 888.67,-372.4\"/>\n<polygon fill=\"black\" stroke=\"black\" points=\"890.78,-369.58 881.08,-365.3 885.99,-374.69 890.78,-369.58\"/>\n</g>\n<!-- 77 -->\n<g id=\"node78\" class=\"node\">\n<title>77</title>\n<polygon fill=\"#399de5\" stroke=\"black\" points=\"1019,-357.5 924,-357.5 924,-304.5 1019,-304.5 1019,-357.5\"/>\n<text text-anchor=\"middle\" x=\"971.5\" y=\"-342.3\" font-family=\"Helvetica,sans-Serif\" font-size=\"14.00\">gini = 0.0</text>\n<text text-anchor=\"middle\" x=\"971.5\" y=\"-327.3\" font-family=\"Helvetica,sans-Serif\" font-size=\"14.00\">samples = 2</text>\n<text text-anchor=\"middle\" x=\"971.5\" y=\"-312.3\" font-family=\"Helvetica,sans-Serif\" font-size=\"14.00\">value = [0, 2]</text>\n</g>\n<!-- 71&#45;&gt;77 -->\n<g id=\"edge77\" class=\"edge\">\n<title>71&#45;&gt;77</title>\n<path fill=\"none\" stroke=\"black\" d=\"M960.02,-400.88C961.8,-390.22 963.77,-378.35 965.58,-367.52\"/>\n<polygon fill=\"black\" stroke=\"black\" points=\"969.05,-367.96 967.25,-357.52 962.15,-366.81 969.05,-367.96\"/>\n</g>\n<!-- 73 -->\n<g id=\"node74\" class=\"node\">\n<title>73</title>\n<polygon fill=\"#e78c4b\" stroke=\"black\" points=\"909,-261 778,-261 778,-193 909,-193 909,-261\"/>\n<text text-anchor=\"middle\" x=\"843.5\" y=\"-245.8\" font-family=\"Helvetica,sans-Serif\" font-size=\"14.00\">Variance &lt;= &#45;0.895</text>\n<text text-anchor=\"middle\" x=\"843.5\" y=\"-230.8\" font-family=\"Helvetica,sans-Serif\" font-size=\"14.00\">gini = 0.153</text>\n<text text-anchor=\"middle\" x=\"843.5\" y=\"-215.8\" font-family=\"Helvetica,sans-Serif\" font-size=\"14.00\">samples = 12</text>\n<text text-anchor=\"middle\" x=\"843.5\" y=\"-200.8\" font-family=\"Helvetica,sans-Serif\" font-size=\"14.00\">value = [11, 1]</text>\n</g>\n<!-- 72&#45;&gt;73 -->\n<g id=\"edge73\" class=\"edge\">\n<title>72&#45;&gt;73</title>\n<path fill=\"none\" stroke=\"black\" d=\"M844.85,-296.88C844.69,-288.78 844.52,-279.98 844.35,-271.47\"/>\n<polygon fill=\"black\" stroke=\"black\" points=\"847.85,-271.23 844.15,-261.3 840.85,-271.37 847.85,-271.23\"/>\n</g>\n<!-- 76 -->\n<g id=\"node77\" class=\"node\">\n<title>76</title>\n<polygon fill=\"#399de5\" stroke=\"black\" points=\"1022,-253.5 927,-253.5 927,-200.5 1022,-200.5 1022,-253.5\"/>\n<text text-anchor=\"middle\" x=\"974.5\" y=\"-238.3\" font-family=\"Helvetica,sans-Serif\" font-size=\"14.00\">gini = 0.0</text>\n<text text-anchor=\"middle\" x=\"974.5\" y=\"-223.3\" font-family=\"Helvetica,sans-Serif\" font-size=\"14.00\">samples = 1</text>\n<text text-anchor=\"middle\" x=\"974.5\" y=\"-208.3\" font-family=\"Helvetica,sans-Serif\" font-size=\"14.00\">value = [0, 1]</text>\n</g>\n<!-- 72&#45;&gt;76 -->\n<g id=\"edge76\" class=\"edge\">\n<title>72&#45;&gt;76</title>\n<path fill=\"none\" stroke=\"black\" d=\"M887.38,-296.88C902.4,-285.01 919.3,-271.65 934.19,-259.88\"/>\n<polygon fill=\"black\" stroke=\"black\" points=\"936.55,-262.47 942.22,-253.52 932.21,-256.98 936.55,-262.47\"/>\n</g>\n<!-- 74 -->\n<g id=\"node75\" class=\"node\">\n<title>74</title>\n<polygon fill=\"#f2c09c\" stroke=\"black\" points=\"835,-149.5 740,-149.5 740,-96.5 835,-96.5 835,-149.5\"/>\n<text text-anchor=\"middle\" x=\"787.5\" y=\"-134.3\" font-family=\"Helvetica,sans-Serif\" font-size=\"14.00\">gini = 0.444</text>\n<text text-anchor=\"middle\" x=\"787.5\" y=\"-119.3\" font-family=\"Helvetica,sans-Serif\" font-size=\"14.00\">samples = 3</text>\n<text text-anchor=\"middle\" x=\"787.5\" y=\"-104.3\" font-family=\"Helvetica,sans-Serif\" font-size=\"14.00\">value = [2, 1]</text>\n</g>\n<!-- 73&#45;&gt;74 -->\n<g id=\"edge74\" class=\"edge\">\n<title>73&#45;&gt;74</title>\n<path fill=\"none\" stroke=\"black\" d=\"M825.32,-192.88C819.28,-181.89 812.54,-169.62 806.45,-158.52\"/>\n<polygon fill=\"black\" stroke=\"black\" points=\"809.39,-156.6 801.51,-149.52 803.26,-159.97 809.39,-156.6\"/>\n</g>\n<!-- 75 -->\n<g id=\"node76\" class=\"node\">\n<title>75</title>\n<polygon fill=\"#e58139\" stroke=\"black\" points=\"948,-149.5 853,-149.5 853,-96.5 948,-96.5 948,-149.5\"/>\n<text text-anchor=\"middle\" x=\"900.5\" y=\"-134.3\" font-family=\"Helvetica,sans-Serif\" font-size=\"14.00\">gini = 0.0</text>\n<text text-anchor=\"middle\" x=\"900.5\" y=\"-119.3\" font-family=\"Helvetica,sans-Serif\" font-size=\"14.00\">samples = 9</text>\n<text text-anchor=\"middle\" x=\"900.5\" y=\"-104.3\" font-family=\"Helvetica,sans-Serif\" font-size=\"14.00\">value = [9, 0]</text>\n</g>\n<!-- 73&#45;&gt;75 -->\n<g id=\"edge75\" class=\"edge\">\n<title>73&#45;&gt;75</title>\n<path fill=\"none\" stroke=\"black\" d=\"M862.01,-192.88C868.15,-181.89 875.01,-169.62 881.21,-158.52\"/>\n<polygon fill=\"black\" stroke=\"black\" points=\"884.42,-159.96 886.24,-149.52 878.31,-156.54 884.42,-159.96\"/>\n</g>\n<!-- 79 -->\n<g id=\"node80\" class=\"node\">\n<title>79</title>\n<polygon fill=\"#e58139\" stroke=\"black\" points=\"1140.5,-357.5 1038.5,-357.5 1038.5,-304.5 1140.5,-304.5 1140.5,-357.5\"/>\n<text text-anchor=\"middle\" x=\"1089.5\" y=\"-342.3\" font-family=\"Helvetica,sans-Serif\" font-size=\"14.00\">gini = 0.0</text>\n<text text-anchor=\"middle\" x=\"1089.5\" y=\"-327.3\" font-family=\"Helvetica,sans-Serif\" font-size=\"14.00\">samples = 18</text>\n<text text-anchor=\"middle\" x=\"1089.5\" y=\"-312.3\" font-family=\"Helvetica,sans-Serif\" font-size=\"14.00\">value = [18, 0]</text>\n</g>\n<!-- 78&#45;&gt;79 -->\n<g id=\"edge79\" class=\"edge\">\n<title>78&#45;&gt;79</title>\n<path fill=\"none\" stroke=\"black\" d=\"M1100.98,-400.88C1099.2,-390.22 1097.23,-378.35 1095.42,-367.52\"/>\n<polygon fill=\"black\" stroke=\"black\" points=\"1098.85,-366.81 1093.75,-357.52 1091.95,-367.96 1098.85,-366.81\"/>\n</g>\n<!-- 80 -->\n<g id=\"node81\" class=\"node\">\n<title>80</title>\n<polygon fill=\"#f2c09c\" stroke=\"black\" points=\"1280,-365 1159,-365 1159,-297 1280,-297 1280,-365\"/>\n<text text-anchor=\"middle\" x=\"1219.5\" y=\"-349.8\" font-family=\"Helvetica,sans-Serif\" font-size=\"14.00\">Entropy &lt;= 0.812</text>\n<text text-anchor=\"middle\" x=\"1219.5\" y=\"-334.8\" font-family=\"Helvetica,sans-Serif\" font-size=\"14.00\">gini = 0.444</text>\n<text text-anchor=\"middle\" x=\"1219.5\" y=\"-319.8\" font-family=\"Helvetica,sans-Serif\" font-size=\"14.00\">samples = 6</text>\n<text text-anchor=\"middle\" x=\"1219.5\" y=\"-304.8\" font-family=\"Helvetica,sans-Serif\" font-size=\"14.00\">value = [4, 2]</text>\n</g>\n<!-- 78&#45;&gt;80 -->\n<g id=\"edge80\" class=\"edge\">\n<title>78&#45;&gt;80</title>\n<path fill=\"none\" stroke=\"black\" d=\"M1143.19,-400.88C1153.35,-391.71 1164.5,-381.65 1175.05,-372.12\"/>\n<polygon fill=\"black\" stroke=\"black\" points=\"1177.53,-374.6 1182.61,-365.3 1172.84,-369.4 1177.53,-374.6\"/>\n</g>\n<!-- 81 -->\n<g id=\"node82\" class=\"node\">\n<title>81</title>\n<polygon fill=\"#e58139\" stroke=\"black\" points=\"1201,-253.5 1106,-253.5 1106,-200.5 1201,-200.5 1201,-253.5\"/>\n<text text-anchor=\"middle\" x=\"1153.5\" y=\"-238.3\" font-family=\"Helvetica,sans-Serif\" font-size=\"14.00\">gini = 0.0</text>\n<text text-anchor=\"middle\" x=\"1153.5\" y=\"-223.3\" font-family=\"Helvetica,sans-Serif\" font-size=\"14.00\">samples = 3</text>\n<text text-anchor=\"middle\" x=\"1153.5\" y=\"-208.3\" font-family=\"Helvetica,sans-Serif\" font-size=\"14.00\">value = [3, 0]</text>\n</g>\n<!-- 80&#45;&gt;81 -->\n<g id=\"edge81\" class=\"edge\">\n<title>80&#45;&gt;81</title>\n<path fill=\"none\" stroke=\"black\" d=\"M1198.07,-296.88C1190.88,-285.78 1182.86,-273.37 1175.62,-262.18\"/>\n<polygon fill=\"black\" stroke=\"black\" points=\"1178.38,-260.01 1170.01,-253.52 1172.51,-263.82 1178.38,-260.01\"/>\n</g>\n<!-- 82 -->\n<g id=\"node83\" class=\"node\">\n<title>82</title>\n<polygon fill=\"#9ccef2\" stroke=\"black\" points=\"1355.5,-261 1219.5,-261 1219.5,-193 1355.5,-193 1355.5,-261\"/>\n<text text-anchor=\"middle\" x=\"1287.5\" y=\"-245.8\" font-family=\"Helvetica,sans-Serif\" font-size=\"14.00\">Skewness &lt;= 0.361</text>\n<text text-anchor=\"middle\" x=\"1287.5\" y=\"-230.8\" font-family=\"Helvetica,sans-Serif\" font-size=\"14.00\">gini = 0.444</text>\n<text text-anchor=\"middle\" x=\"1287.5\" y=\"-215.8\" font-family=\"Helvetica,sans-Serif\" font-size=\"14.00\">samples = 3</text>\n<text text-anchor=\"middle\" x=\"1287.5\" y=\"-200.8\" font-family=\"Helvetica,sans-Serif\" font-size=\"14.00\">value = [1, 2]</text>\n</g>\n<!-- 80&#45;&gt;82 -->\n<g id=\"edge82\" class=\"edge\">\n<title>80&#45;&gt;82</title>\n<path fill=\"none\" stroke=\"black\" d=\"M1241.58,-296.88C1247.34,-288.24 1253.62,-278.82 1259.64,-269.79\"/>\n<polygon fill=\"black\" stroke=\"black\" points=\"1262.67,-271.56 1265.3,-261.3 1256.84,-267.68 1262.67,-271.56\"/>\n</g>\n<!-- 83 -->\n<g id=\"node84\" class=\"node\">\n<title>83</title>\n<polygon fill=\"#399de5\" stroke=\"black\" points=\"1268,-149.5 1173,-149.5 1173,-96.5 1268,-96.5 1268,-149.5\"/>\n<text text-anchor=\"middle\" x=\"1220.5\" y=\"-134.3\" font-family=\"Helvetica,sans-Serif\" font-size=\"14.00\">gini = 0.0</text>\n<text text-anchor=\"middle\" x=\"1220.5\" y=\"-119.3\" font-family=\"Helvetica,sans-Serif\" font-size=\"14.00\">samples = 1</text>\n<text text-anchor=\"middle\" x=\"1220.5\" y=\"-104.3\" font-family=\"Helvetica,sans-Serif\" font-size=\"14.00\">value = [0, 1]</text>\n</g>\n<!-- 82&#45;&gt;83 -->\n<g id=\"edge83\" class=\"edge\">\n<title>82&#45;&gt;83</title>\n<path fill=\"none\" stroke=\"black\" d=\"M1265.75,-192.88C1258.45,-181.78 1250.3,-169.37 1242.95,-158.18\"/>\n<polygon fill=\"black\" stroke=\"black\" points=\"1245.68,-155.96 1237.26,-149.52 1239.83,-159.8 1245.68,-155.96\"/>\n</g>\n<!-- 84 -->\n<g id=\"node85\" class=\"node\">\n<title>84</title>\n<polygon fill=\"#ffffff\" stroke=\"black\" points=\"1422.5,-157 1286.5,-157 1286.5,-89 1422.5,-89 1422.5,-157\"/>\n<text text-anchor=\"middle\" x=\"1354.5\" y=\"-141.8\" font-family=\"Helvetica,sans-Serif\" font-size=\"14.00\">Skewness &lt;= 0.412</text>\n<text text-anchor=\"middle\" x=\"1354.5\" y=\"-126.8\" font-family=\"Helvetica,sans-Serif\" font-size=\"14.00\">gini = 0.5</text>\n<text text-anchor=\"middle\" x=\"1354.5\" y=\"-111.8\" font-family=\"Helvetica,sans-Serif\" font-size=\"14.00\">samples = 2</text>\n<text text-anchor=\"middle\" x=\"1354.5\" y=\"-96.8\" font-family=\"Helvetica,sans-Serif\" font-size=\"14.00\">value = [1, 1]</text>\n</g>\n<!-- 82&#45;&gt;84 -->\n<g id=\"edge84\" class=\"edge\">\n<title>82&#45;&gt;84</title>\n<path fill=\"none\" stroke=\"black\" d=\"M1309.25,-192.88C1314.93,-184.24 1321.12,-174.82 1327.05,-165.79\"/>\n<polygon fill=\"black\" stroke=\"black\" points=\"1330.06,-167.58 1332.63,-157.3 1324.21,-163.74 1330.06,-167.58\"/>\n</g>\n<!-- 85 -->\n<g id=\"node86\" class=\"node\">\n<title>85</title>\n<polygon fill=\"#e58139\" stroke=\"black\" points=\"1345,-53 1250,-53 1250,0 1345,0 1345,-53\"/>\n<text text-anchor=\"middle\" x=\"1297.5\" y=\"-37.8\" font-family=\"Helvetica,sans-Serif\" font-size=\"14.00\">gini = 0.0</text>\n<text text-anchor=\"middle\" x=\"1297.5\" y=\"-22.8\" font-family=\"Helvetica,sans-Serif\" font-size=\"14.00\">samples = 1</text>\n<text text-anchor=\"middle\" x=\"1297.5\" y=\"-7.8\" font-family=\"Helvetica,sans-Serif\" font-size=\"14.00\">value = [1, 0]</text>\n</g>\n<!-- 84&#45;&gt;85 -->\n<g id=\"edge85\" class=\"edge\">\n<title>84&#45;&gt;85</title>\n<path fill=\"none\" stroke=\"black\" d=\"M1334.56,-88.95C1329.27,-80.17 1323.53,-70.66 1318.2,-61.82\"/>\n<polygon fill=\"black\" stroke=\"black\" points=\"1321.19,-59.99 1313.02,-53.24 1315.19,-63.61 1321.19,-59.99\"/>\n</g>\n<!-- 86 -->\n<g id=\"node87\" class=\"node\">\n<title>86</title>\n<polygon fill=\"#399de5\" stroke=\"black\" points=\"1458,-53 1363,-53 1363,0 1458,0 1458,-53\"/>\n<text text-anchor=\"middle\" x=\"1410.5\" y=\"-37.8\" font-family=\"Helvetica,sans-Serif\" font-size=\"14.00\">gini = 0.0</text>\n<text text-anchor=\"middle\" x=\"1410.5\" y=\"-22.8\" font-family=\"Helvetica,sans-Serif\" font-size=\"14.00\">samples = 1</text>\n<text text-anchor=\"middle\" x=\"1410.5\" y=\"-7.8\" font-family=\"Helvetica,sans-Serif\" font-size=\"14.00\">value = [0, 1]</text>\n</g>\n<!-- 84&#45;&gt;86 -->\n<g id=\"edge86\" class=\"edge\">\n<title>84&#45;&gt;86</title>\n<path fill=\"none\" stroke=\"black\" d=\"M1374.09,-88.95C1379.24,-80.26 1384.8,-70.86 1390,-62.09\"/>\n<polygon fill=\"black\" stroke=\"black\" points=\"1393.16,-63.62 1395.25,-53.24 1387.14,-60.06 1393.16,-63.62\"/>\n</g>\n<!-- 88 -->\n<g id=\"node89\" class=\"node\">\n<title>88</title>\n<polygon fill=\"#e58139\" stroke=\"black\" points=\"1293,-461.5 1198,-461.5 1198,-408.5 1293,-408.5 1293,-461.5\"/>\n<text text-anchor=\"middle\" x=\"1245.5\" y=\"-446.3\" font-family=\"Helvetica,sans-Serif\" font-size=\"14.00\">gini = 0.0</text>\n<text text-anchor=\"middle\" x=\"1245.5\" y=\"-431.3\" font-family=\"Helvetica,sans-Serif\" font-size=\"14.00\">samples = 3</text>\n<text text-anchor=\"middle\" x=\"1245.5\" y=\"-416.3\" font-family=\"Helvetica,sans-Serif\" font-size=\"14.00\">value = [3, 0]</text>\n</g>\n<!-- 87&#45;&gt;88 -->\n<g id=\"edge88\" class=\"edge\">\n<title>87&#45;&gt;88</title>\n<path fill=\"none\" stroke=\"black\" d=\"M1246.85,-504.88C1246.64,-494.22 1246.41,-482.35 1246.2,-471.52\"/>\n<polygon fill=\"black\" stroke=\"black\" points=\"1249.7,-471.45 1246,-461.52 1242.7,-471.59 1249.7,-471.45\"/>\n</g>\n<!-- 89 -->\n<g id=\"node90\" class=\"node\">\n<title>89</title>\n<polygon fill=\"#399de5\" stroke=\"black\" points=\"1406,-461.5 1311,-461.5 1311,-408.5 1406,-408.5 1406,-461.5\"/>\n<text text-anchor=\"middle\" x=\"1358.5\" y=\"-446.3\" font-family=\"Helvetica,sans-Serif\" font-size=\"14.00\">gini = 0.0</text>\n<text text-anchor=\"middle\" x=\"1358.5\" y=\"-431.3\" font-family=\"Helvetica,sans-Serif\" font-size=\"14.00\">samples = 2</text>\n<text text-anchor=\"middle\" x=\"1358.5\" y=\"-416.3\" font-family=\"Helvetica,sans-Serif\" font-size=\"14.00\">value = [0, 2]</text>\n</g>\n<!-- 87&#45;&gt;89 -->\n<g id=\"edge89\" class=\"edge\">\n<title>87&#45;&gt;89</title>\n<path fill=\"none\" stroke=\"black\" d=\"M1283.54,-504.88C1296.22,-493.23 1310.46,-480.14 1323.1,-468.53\"/>\n<polygon fill=\"black\" stroke=\"black\" points=\"1325.73,-470.86 1330.73,-461.52 1321,-465.71 1325.73,-470.86\"/>\n</g>\n<!-- 92 -->\n<g id=\"node93\" class=\"node\">\n<title>92</title>\n<polygon fill=\"#eca06a\" stroke=\"black\" points=\"1537.5,-677 1413.5,-677 1413.5,-609 1537.5,-609 1537.5,-677\"/>\n<text text-anchor=\"middle\" x=\"1475.5\" y=\"-661.8\" font-family=\"Helvetica,sans-Serif\" font-size=\"14.00\">Curtosis &lt;= 0.535</text>\n<text text-anchor=\"middle\" x=\"1475.5\" y=\"-646.8\" font-family=\"Helvetica,sans-Serif\" font-size=\"14.00\">gini = 0.32</text>\n<text text-anchor=\"middle\" x=\"1475.5\" y=\"-631.8\" font-family=\"Helvetica,sans-Serif\" font-size=\"14.00\">samples = 5</text>\n<text text-anchor=\"middle\" x=\"1475.5\" y=\"-616.8\" font-family=\"Helvetica,sans-Serif\" font-size=\"14.00\">value = [4, 1]</text>\n</g>\n<!-- 91&#45;&gt;92 -->\n<g id=\"edge92\" class=\"edge\">\n<title>91&#45;&gt;92</title>\n<path fill=\"none\" stroke=\"black\" d=\"M1476.85,-712.88C1476.69,-704.78 1476.52,-695.98 1476.35,-687.47\"/>\n<polygon fill=\"black\" stroke=\"black\" points=\"1479.85,-687.23 1476.15,-677.3 1472.85,-687.37 1479.85,-687.23\"/>\n</g>\n<!-- 95 -->\n<g id=\"node96\" class=\"node\">\n<title>95</title>\n<polygon fill=\"#e58139\" stroke=\"black\" points=\"1651,-669.5 1556,-669.5 1556,-616.5 1651,-616.5 1651,-669.5\"/>\n<text text-anchor=\"middle\" x=\"1603.5\" y=\"-654.3\" font-family=\"Helvetica,sans-Serif\" font-size=\"14.00\">gini = 0.0</text>\n<text text-anchor=\"middle\" x=\"1603.5\" y=\"-639.3\" font-family=\"Helvetica,sans-Serif\" font-size=\"14.00\">samples = 9</text>\n<text text-anchor=\"middle\" x=\"1603.5\" y=\"-624.3\" font-family=\"Helvetica,sans-Serif\" font-size=\"14.00\">value = [9, 0]</text>\n</g>\n<!-- 91&#45;&gt;95 -->\n<g id=\"edge95\" class=\"edge\">\n<title>91&#45;&gt;95</title>\n<path fill=\"none\" stroke=\"black\" d=\"M1518.41,-712.88C1533.08,-701.01 1549.58,-687.65 1564.12,-675.88\"/>\n<polygon fill=\"black\" stroke=\"black\" points=\"1566.41,-678.53 1571.98,-669.52 1562,-673.09 1566.41,-678.53\"/>\n</g>\n<!-- 93 -->\n<g id=\"node94\" class=\"node\">\n<title>93</title>\n<polygon fill=\"#399de5\" stroke=\"black\" points=\"1491,-565.5 1396,-565.5 1396,-512.5 1491,-512.5 1491,-565.5\"/>\n<text text-anchor=\"middle\" x=\"1443.5\" y=\"-550.3\" font-family=\"Helvetica,sans-Serif\" font-size=\"14.00\">gini = 0.0</text>\n<text text-anchor=\"middle\" x=\"1443.5\" y=\"-535.3\" font-family=\"Helvetica,sans-Serif\" font-size=\"14.00\">samples = 1</text>\n<text text-anchor=\"middle\" x=\"1443.5\" y=\"-520.3\" font-family=\"Helvetica,sans-Serif\" font-size=\"14.00\">value = [0, 1]</text>\n</g>\n<!-- 92&#45;&gt;93 -->\n<g id=\"edge93\" class=\"edge\">\n<title>92&#45;&gt;93</title>\n<path fill=\"none\" stroke=\"black\" d=\"M1465.11,-608.88C1461.73,-598.11 1457.97,-586.11 1454.54,-575.18\"/>\n<polygon fill=\"black\" stroke=\"black\" points=\"1457.84,-574.01 1451.51,-565.52 1451.16,-576.11 1457.84,-574.01\"/>\n</g>\n<!-- 94 -->\n<g id=\"node95\" class=\"node\">\n<title>94</title>\n<polygon fill=\"#e58139\" stroke=\"black\" points=\"1604,-565.5 1509,-565.5 1509,-512.5 1604,-512.5 1604,-565.5\"/>\n<text text-anchor=\"middle\" x=\"1556.5\" y=\"-550.3\" font-family=\"Helvetica,sans-Serif\" font-size=\"14.00\">gini = 0.0</text>\n<text text-anchor=\"middle\" x=\"1556.5\" y=\"-535.3\" font-family=\"Helvetica,sans-Serif\" font-size=\"14.00\">samples = 4</text>\n<text text-anchor=\"middle\" x=\"1556.5\" y=\"-520.3\" font-family=\"Helvetica,sans-Serif\" font-size=\"14.00\">value = [4, 0]</text>\n</g>\n<!-- 92&#45;&gt;94 -->\n<g id=\"edge94\" class=\"edge\">\n<title>92&#45;&gt;94</title>\n<path fill=\"none\" stroke=\"black\" d=\"M1501.8,-608.88C1510.79,-597.56 1520.86,-584.88 1529.88,-573.52\"/>\n<polygon fill=\"black\" stroke=\"black\" points=\"1532.76,-575.53 1536.23,-565.52 1527.27,-571.17 1532.76,-575.53\"/>\n</g>\n<!-- 98 -->\n<g id=\"node99\" class=\"node\">\n<title>98</title>\n<polygon fill=\"#eeab7b\" stroke=\"black\" points=\"1627,-989 1506,-989 1506,-921 1627,-921 1627,-989\"/>\n<text text-anchor=\"middle\" x=\"1566.5\" y=\"-973.8\" font-family=\"Helvetica,sans-Serif\" font-size=\"14.00\">Entropy &lt;= 0.619</text>\n<text text-anchor=\"middle\" x=\"1566.5\" y=\"-958.8\" font-family=\"Helvetica,sans-Serif\" font-size=\"14.00\">gini = 0.375</text>\n<text text-anchor=\"middle\" x=\"1566.5\" y=\"-943.8\" font-family=\"Helvetica,sans-Serif\" font-size=\"14.00\">samples = 4</text>\n<text text-anchor=\"middle\" x=\"1566.5\" y=\"-928.8\" font-family=\"Helvetica,sans-Serif\" font-size=\"14.00\">value = [3, 1]</text>\n</g>\n<!-- 97&#45;&gt;98 -->\n<g id=\"edge98\" class=\"edge\">\n<title>97&#45;&gt;98</title>\n<path fill=\"none\" stroke=\"black\" d=\"M1569.2,-1024.88C1568.88,-1016.78 1568.54,-1007.98 1568.2,-999.47\"/>\n<polygon fill=\"black\" stroke=\"black\" points=\"1571.7,-999.15 1567.81,-989.3 1564.7,-999.43 1571.7,-999.15\"/>\n</g>\n<!-- 101 -->\n<g id=\"node102\" class=\"node\">\n<title>101</title>\n<polygon fill=\"#e58139\" stroke=\"black\" points=\"1747.5,-981.5 1645.5,-981.5 1645.5,-928.5 1747.5,-928.5 1747.5,-981.5\"/>\n<text text-anchor=\"middle\" x=\"1696.5\" y=\"-966.3\" font-family=\"Helvetica,sans-Serif\" font-size=\"14.00\">gini = 0.0</text>\n<text text-anchor=\"middle\" x=\"1696.5\" y=\"-951.3\" font-family=\"Helvetica,sans-Serif\" font-size=\"14.00\">samples = 13</text>\n<text text-anchor=\"middle\" x=\"1696.5\" y=\"-936.3\" font-family=\"Helvetica,sans-Serif\" font-size=\"14.00\">value = [13, 0]</text>\n</g>\n<!-- 97&#45;&gt;101 -->\n<g id=\"edge101\" class=\"edge\">\n<title>97&#45;&gt;101</title>\n<path fill=\"none\" stroke=\"black\" d=\"M1611.41,-1024.88C1626.08,-1013.01 1642.58,-999.65 1657.12,-987.88\"/>\n<polygon fill=\"black\" stroke=\"black\" points=\"1659.41,-990.53 1664.98,-981.52 1655,-985.09 1659.41,-990.53\"/>\n</g>\n<!-- 99 -->\n<g id=\"node100\" class=\"node\">\n<title>99</title>\n<polygon fill=\"#e58139\" stroke=\"black\" points=\"1597,-877.5 1502,-877.5 1502,-824.5 1597,-824.5 1597,-877.5\"/>\n<text text-anchor=\"middle\" x=\"1549.5\" y=\"-862.3\" font-family=\"Helvetica,sans-Serif\" font-size=\"14.00\">gini = 0.0</text>\n<text text-anchor=\"middle\" x=\"1549.5\" y=\"-847.3\" font-family=\"Helvetica,sans-Serif\" font-size=\"14.00\">samples = 3</text>\n<text text-anchor=\"middle\" x=\"1549.5\" y=\"-832.3\" font-family=\"Helvetica,sans-Serif\" font-size=\"14.00\">value = [3, 0]</text>\n</g>\n<!-- 98&#45;&gt;99 -->\n<g id=\"edge99\" class=\"edge\">\n<title>98&#45;&gt;99</title>\n<path fill=\"none\" stroke=\"black\" d=\"M1560.98,-920.88C1559.2,-910.22 1557.23,-898.35 1555.42,-887.52\"/>\n<polygon fill=\"black\" stroke=\"black\" points=\"1558.85,-886.81 1553.75,-877.52 1551.95,-887.96 1558.85,-886.81\"/>\n</g>\n<!-- 100 -->\n<g id=\"node101\" class=\"node\">\n<title>100</title>\n<polygon fill=\"#399de5\" stroke=\"black\" points=\"1710,-877.5 1615,-877.5 1615,-824.5 1710,-824.5 1710,-877.5\"/>\n<text text-anchor=\"middle\" x=\"1662.5\" y=\"-862.3\" font-family=\"Helvetica,sans-Serif\" font-size=\"14.00\">gini = 0.0</text>\n<text text-anchor=\"middle\" x=\"1662.5\" y=\"-847.3\" font-family=\"Helvetica,sans-Serif\" font-size=\"14.00\">samples = 1</text>\n<text text-anchor=\"middle\" x=\"1662.5\" y=\"-832.3\" font-family=\"Helvetica,sans-Serif\" font-size=\"14.00\">value = [0, 1]</text>\n</g>\n<!-- 98&#45;&gt;100 -->\n<g id=\"edge100\" class=\"edge\">\n<title>98&#45;&gt;100</title>\n<path fill=\"none\" stroke=\"black\" d=\"M1597.67,-920.88C1608.54,-909.34 1620.72,-896.39 1631.57,-884.86\"/>\n<polygon fill=\"black\" stroke=\"black\" points=\"1634.18,-887.2 1638.48,-877.52 1629.08,-882.4 1634.18,-887.2\"/>\n</g>\n<!-- 104 -->\n<g id=\"node105\" class=\"node\">\n<title>104</title>\n<polygon fill=\"#399de5\" stroke=\"black\" points=\"1154,-1709.5 1059,-1709.5 1059,-1656.5 1154,-1656.5 1154,-1709.5\"/>\n<text text-anchor=\"middle\" x=\"1106.5\" y=\"-1694.3\" font-family=\"Helvetica,sans-Serif\" font-size=\"14.00\">gini = 0.0</text>\n<text text-anchor=\"middle\" x=\"1106.5\" y=\"-1679.3\" font-family=\"Helvetica,sans-Serif\" font-size=\"14.00\">samples = 3</text>\n<text text-anchor=\"middle\" x=\"1106.5\" y=\"-1664.3\" font-family=\"Helvetica,sans-Serif\" font-size=\"14.00\">value = [0, 3]</text>\n</g>\n<!-- 103&#45;&gt;104 -->\n<g id=\"edge104\" class=\"edge\">\n<title>103&#45;&gt;104</title>\n<path fill=\"none\" stroke=\"black\" d=\"M1106.5,-1752.88C1106.5,-1742.33 1106.5,-1730.6 1106.5,-1719.85\"/>\n<polygon fill=\"black\" stroke=\"black\" points=\"1110,-1719.52 1106.5,-1709.52 1103,-1719.52 1110,-1719.52\"/>\n</g>\n<!-- 105 -->\n<g id=\"node106\" class=\"node\">\n<title>105</title>\n<polygon fill=\"#f1bb94\" stroke=\"black\" points=\"1312,-1717 1181,-1717 1181,-1649 1312,-1649 1312,-1717\"/>\n<text text-anchor=\"middle\" x=\"1246.5\" y=\"-1701.8\" font-family=\"Helvetica,sans-Serif\" font-size=\"14.00\">Variance &lt;= &#45;2.258</text>\n<text text-anchor=\"middle\" x=\"1246.5\" y=\"-1686.8\" font-family=\"Helvetica,sans-Serif\" font-size=\"14.00\">gini = 0.432</text>\n<text text-anchor=\"middle\" x=\"1246.5\" y=\"-1671.8\" font-family=\"Helvetica,sans-Serif\" font-size=\"14.00\">samples = 19</text>\n<text text-anchor=\"middle\" x=\"1246.5\" y=\"-1656.8\" font-family=\"Helvetica,sans-Serif\" font-size=\"14.00\">value = [13, 6]</text>\n</g>\n<!-- 103&#45;&gt;105 -->\n<g id=\"edge105\" class=\"edge\">\n<title>103&#45;&gt;105</title>\n<path fill=\"none\" stroke=\"black\" d=\"M1151.95,-1752.88C1164.91,-1743.44 1179.16,-1733.06 1192.57,-1723.29\"/>\n<polygon fill=\"black\" stroke=\"black\" points=\"1194.77,-1726.02 1200.79,-1717.3 1190.65,-1720.36 1194.77,-1726.02\"/>\n</g>\n<!-- 106 -->\n<g id=\"node107\" class=\"node\">\n<title>106</title>\n<polygon fill=\"#399de5\" stroke=\"black\" points=\"1294,-1605.5 1199,-1605.5 1199,-1552.5 1294,-1552.5 1294,-1605.5\"/>\n<text text-anchor=\"middle\" x=\"1246.5\" y=\"-1590.3\" font-family=\"Helvetica,sans-Serif\" font-size=\"14.00\">gini = 0.0</text>\n<text text-anchor=\"middle\" x=\"1246.5\" y=\"-1575.3\" font-family=\"Helvetica,sans-Serif\" font-size=\"14.00\">samples = 3</text>\n<text text-anchor=\"middle\" x=\"1246.5\" y=\"-1560.3\" font-family=\"Helvetica,sans-Serif\" font-size=\"14.00\">value = [0, 3]</text>\n</g>\n<!-- 105&#45;&gt;106 -->\n<g id=\"edge106\" class=\"edge\">\n<title>105&#45;&gt;106</title>\n<path fill=\"none\" stroke=\"black\" d=\"M1246.5,-1648.88C1246.5,-1638.33 1246.5,-1626.6 1246.5,-1615.85\"/>\n<polygon fill=\"black\" stroke=\"black\" points=\"1250,-1615.52 1246.5,-1605.52 1243,-1615.52 1250,-1615.52\"/>\n</g>\n<!-- 107 -->\n<g id=\"node108\" class=\"node\">\n<title>107</title>\n<polygon fill=\"#eb9e67\" stroke=\"black\" points=\"1452.5,-1613 1316.5,-1613 1316.5,-1545 1452.5,-1545 1452.5,-1613\"/>\n<text text-anchor=\"middle\" x=\"1384.5\" y=\"-1597.8\" font-family=\"Helvetica,sans-Serif\" font-size=\"14.00\">Skewness &lt;= 1.259</text>\n<text text-anchor=\"middle\" x=\"1384.5\" y=\"-1582.8\" font-family=\"Helvetica,sans-Serif\" font-size=\"14.00\">gini = 0.305</text>\n<text text-anchor=\"middle\" x=\"1384.5\" y=\"-1567.8\" font-family=\"Helvetica,sans-Serif\" font-size=\"14.00\">samples = 16</text>\n<text text-anchor=\"middle\" x=\"1384.5\" y=\"-1552.8\" font-family=\"Helvetica,sans-Serif\" font-size=\"14.00\">value = [13, 3]</text>\n</g>\n<!-- 105&#45;&gt;107 -->\n<g id=\"edge107\" class=\"edge\">\n<title>105&#45;&gt;107</title>\n<path fill=\"none\" stroke=\"black\" d=\"M1291.3,-1648.88C1304.08,-1639.44 1318.12,-1629.06 1331.34,-1619.29\"/>\n<polygon fill=\"black\" stroke=\"black\" points=\"1333.49,-1622.06 1339.45,-1613.3 1329.33,-1616.43 1333.49,-1622.06\"/>\n</g>\n<!-- 108 -->\n<g id=\"node109\" class=\"node\">\n<title>108</title>\n<polygon fill=\"#ffffff\" stroke=\"black\" points=\"1452.5,-1509 1316.5,-1509 1316.5,-1441 1452.5,-1441 1452.5,-1509\"/>\n<text text-anchor=\"middle\" x=\"1384.5\" y=\"-1493.8\" font-family=\"Helvetica,sans-Serif\" font-size=\"14.00\">Skewness &lt;= 1.202</text>\n<text text-anchor=\"middle\" x=\"1384.5\" y=\"-1478.8\" font-family=\"Helvetica,sans-Serif\" font-size=\"14.00\">gini = 0.5</text>\n<text text-anchor=\"middle\" x=\"1384.5\" y=\"-1463.8\" font-family=\"Helvetica,sans-Serif\" font-size=\"14.00\">samples = 6</text>\n<text text-anchor=\"middle\" x=\"1384.5\" y=\"-1448.8\" font-family=\"Helvetica,sans-Serif\" font-size=\"14.00\">value = [3, 3]</text>\n</g>\n<!-- 107&#45;&gt;108 -->\n<g id=\"edge108\" class=\"edge\">\n<title>107&#45;&gt;108</title>\n<path fill=\"none\" stroke=\"black\" d=\"M1384.5,-1544.88C1384.5,-1536.78 1384.5,-1527.98 1384.5,-1519.47\"/>\n<polygon fill=\"black\" stroke=\"black\" points=\"1388,-1519.3 1384.5,-1509.3 1381,-1519.3 1388,-1519.3\"/>\n</g>\n<!-- 113 -->\n<g id=\"node114\" class=\"node\">\n<title>113</title>\n<polygon fill=\"#e58139\" stroke=\"black\" points=\"1572.5,-1501.5 1470.5,-1501.5 1470.5,-1448.5 1572.5,-1448.5 1572.5,-1501.5\"/>\n<text text-anchor=\"middle\" x=\"1521.5\" y=\"-1486.3\" font-family=\"Helvetica,sans-Serif\" font-size=\"14.00\">gini = 0.0</text>\n<text text-anchor=\"middle\" x=\"1521.5\" y=\"-1471.3\" font-family=\"Helvetica,sans-Serif\" font-size=\"14.00\">samples = 10</text>\n<text text-anchor=\"middle\" x=\"1521.5\" y=\"-1456.3\" font-family=\"Helvetica,sans-Serif\" font-size=\"14.00\">value = [10, 0]</text>\n</g>\n<!-- 107&#45;&gt;113 -->\n<g id=\"edge113\" class=\"edge\">\n<title>107&#45;&gt;113</title>\n<path fill=\"none\" stroke=\"black\" d=\"M1428.98,-1544.88C1445.08,-1532.9 1463.21,-1519.4 1479.12,-1507.55\"/>\n<polygon fill=\"black\" stroke=\"black\" points=\"1481.29,-1510.3 1487.22,-1501.52 1477.11,-1504.68 1481.29,-1510.3\"/>\n</g>\n<!-- 109 -->\n<g id=\"node110\" class=\"node\">\n<title>109</title>\n<polygon fill=\"#e58139\" stroke=\"black\" points=\"1432,-1397.5 1337,-1397.5 1337,-1344.5 1432,-1344.5 1432,-1397.5\"/>\n<text text-anchor=\"middle\" x=\"1384.5\" y=\"-1382.3\" font-family=\"Helvetica,sans-Serif\" font-size=\"14.00\">gini = 0.0</text>\n<text text-anchor=\"middle\" x=\"1384.5\" y=\"-1367.3\" font-family=\"Helvetica,sans-Serif\" font-size=\"14.00\">samples = 2</text>\n<text text-anchor=\"middle\" x=\"1384.5\" y=\"-1352.3\" font-family=\"Helvetica,sans-Serif\" font-size=\"14.00\">value = [2, 0]</text>\n</g>\n<!-- 108&#45;&gt;109 -->\n<g id=\"edge109\" class=\"edge\">\n<title>108&#45;&gt;109</title>\n<path fill=\"none\" stroke=\"black\" d=\"M1384.5,-1440.88C1384.5,-1430.33 1384.5,-1418.6 1384.5,-1407.85\"/>\n<polygon fill=\"black\" stroke=\"black\" points=\"1388,-1407.52 1384.5,-1397.52 1381,-1407.52 1388,-1407.52\"/>\n</g>\n<!-- 110 -->\n<g id=\"node111\" class=\"node\">\n<title>110</title>\n<polygon fill=\"#7bbeee\" stroke=\"black\" points=\"1596.5,-1405 1468.5,-1405 1468.5,-1337 1596.5,-1337 1596.5,-1405\"/>\n<text text-anchor=\"middle\" x=\"1532.5\" y=\"-1389.8\" font-family=\"Helvetica,sans-Serif\" font-size=\"14.00\">Curtosis &lt;= &#45;1.482</text>\n<text text-anchor=\"middle\" x=\"1532.5\" y=\"-1374.8\" font-family=\"Helvetica,sans-Serif\" font-size=\"14.00\">gini = 0.375</text>\n<text text-anchor=\"middle\" x=\"1532.5\" y=\"-1359.8\" font-family=\"Helvetica,sans-Serif\" font-size=\"14.00\">samples = 4</text>\n<text text-anchor=\"middle\" x=\"1532.5\" y=\"-1344.8\" font-family=\"Helvetica,sans-Serif\" font-size=\"14.00\">value = [1, 3]</text>\n</g>\n<!-- 108&#45;&gt;110 -->\n<g id=\"edge110\" class=\"edge\">\n<title>108&#45;&gt;110</title>\n<path fill=\"none\" stroke=\"black\" d=\"M1432.55,-1440.88C1446.45,-1431.3 1461.75,-1420.76 1476.11,-1410.86\"/>\n<polygon fill=\"black\" stroke=\"black\" points=\"1478.19,-1413.68 1484.44,-1405.12 1474.22,-1407.92 1478.19,-1413.68\"/>\n</g>\n<!-- 111 -->\n<g id=\"node112\" class=\"node\">\n<title>111</title>\n<polygon fill=\"#e58139\" stroke=\"black\" points=\"1580,-1293.5 1485,-1293.5 1485,-1240.5 1580,-1240.5 1580,-1293.5\"/>\n<text text-anchor=\"middle\" x=\"1532.5\" y=\"-1278.3\" font-family=\"Helvetica,sans-Serif\" font-size=\"14.00\">gini = 0.0</text>\n<text text-anchor=\"middle\" x=\"1532.5\" y=\"-1263.3\" font-family=\"Helvetica,sans-Serif\" font-size=\"14.00\">samples = 1</text>\n<text text-anchor=\"middle\" x=\"1532.5\" y=\"-1248.3\" font-family=\"Helvetica,sans-Serif\" font-size=\"14.00\">value = [1, 0]</text>\n</g>\n<!-- 110&#45;&gt;111 -->\n<g id=\"edge111\" class=\"edge\">\n<title>110&#45;&gt;111</title>\n<path fill=\"none\" stroke=\"black\" d=\"M1532.5,-1336.88C1532.5,-1326.33 1532.5,-1314.6 1532.5,-1303.85\"/>\n<polygon fill=\"black\" stroke=\"black\" points=\"1536,-1303.52 1532.5,-1293.52 1529,-1303.52 1536,-1303.52\"/>\n</g>\n<!-- 112 -->\n<g id=\"node113\" class=\"node\">\n<title>112</title>\n<polygon fill=\"#399de5\" stroke=\"black\" points=\"1693,-1293.5 1598,-1293.5 1598,-1240.5 1693,-1240.5 1693,-1293.5\"/>\n<text text-anchor=\"middle\" x=\"1645.5\" y=\"-1278.3\" font-family=\"Helvetica,sans-Serif\" font-size=\"14.00\">gini = 0.0</text>\n<text text-anchor=\"middle\" x=\"1645.5\" y=\"-1263.3\" font-family=\"Helvetica,sans-Serif\" font-size=\"14.00\">samples = 3</text>\n<text text-anchor=\"middle\" x=\"1645.5\" y=\"-1248.3\" font-family=\"Helvetica,sans-Serif\" font-size=\"14.00\">value = [0, 3]</text>\n</g>\n<!-- 110&#45;&gt;112 -->\n<g id=\"edge112\" class=\"edge\">\n<title>110&#45;&gt;112</title>\n<path fill=\"none\" stroke=\"black\" d=\"M1569.19,-1336.88C1582.1,-1325.23 1596.6,-1312.14 1609.46,-1300.53\"/>\n<polygon fill=\"black\" stroke=\"black\" points=\"1612.15,-1302.82 1617.23,-1293.52 1607.46,-1297.62 1612.15,-1302.82\"/>\n</g>\n</g>\n</svg>\n"
          },
          "metadata": {},
          "execution_count": 73
        }
      ]
    },
    {
      "cell_type": "code",
      "source": [
        "from sklearn.linear_model import LinearRegression\n",
        "import datetime\n",
        "from statistics import mean\n",
        "model=LinearRegression()\n",
        "model.fit(X_train,Y_train)"
      ],
      "metadata": {
        "colab": {
          "base_uri": "https://localhost:8080/"
        },
        "id": "WT-ehqjff3KR",
        "outputId": "5f2690ab-2a9e-4345-9a13-fb716327082d"
      },
      "execution_count": 74,
      "outputs": [
        {
          "output_type": "execute_result",
          "data": {
            "text/plain": [
              "LinearRegression()"
            ]
          },
          "metadata": {},
          "execution_count": 74
        }
      ]
    },
    {
      "cell_type": "code",
      "source": [
        "pred=model.predict(X_test)"
      ],
      "metadata": {
        "id": "JS4iKp5df22q"
      },
      "execution_count": 75,
      "outputs": []
    },
    {
      "cell_type": "code",
      "source": [
        "Variance=np.var(pred)\n",
        "Variance"
      ],
      "metadata": {
        "colab": {
          "base_uri": "https://localhost:8080/"
        },
        "id": "98zBr12If2hC",
        "outputId": "f4d6810d-5340-4330-af56-91a9daa157fd"
      },
      "execution_count": 76,
      "outputs": [
        {
          "output_type": "execute_result",
          "data": {
            "text/plain": [
              "0.0022259461803348602"
            ]
          },
          "metadata": {},
          "execution_count": 76
        }
      ]
    },
    {
      "cell_type": "code",
      "source": [
        "Sum_of_squared_error=np.mean((np.mean(pred)))\n",
        "Bias=Sum_of_squared_error-Variance\n",
        "Bias"
      ],
      "metadata": {
        "colab": {
          "base_uri": "https://localhost:8080/"
        },
        "id": "is-sVzeCf9Qi",
        "outputId": "28fb33fe-4eb7-4671-8511-3261ac368659"
      },
      "execution_count": 77,
      "outputs": [
        {
          "output_type": "execute_result",
          "data": {
            "text/plain": [
              "0.18105375659863787"
            ]
          },
          "metadata": {},
          "execution_count": 77
        }
      ]
    },
    {
      "cell_type": "code",
      "source": [
        "plt.scatter(Variance,Bias)\n",
        "plt.show()"
      ],
      "metadata": {
        "colab": {
          "base_uri": "https://localhost:8080/",
          "height": 265
        },
        "id": "QITwkpn4gCpT",
        "outputId": "35861328-140d-467e-9144-9f03331b70ef"
      },
      "execution_count": 78,
      "outputs": [
        {
          "output_type": "display_data",
          "data": {
            "text/plain": [
              "<Figure size 432x288 with 1 Axes>"
            ],
            "image/png": "[encoded data removed]"
          },
          "metadata": {
            "needs_background": "light"
          }
        }
      ]
    }
  ]
}